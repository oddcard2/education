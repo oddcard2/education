{
 "cells": [
  {
   "cell_type": "markdown",
   "metadata": {},
   "source": [
    "## Reading from file"
   ]
  },
  {
   "cell_type": "code",
   "execution_count": 2,
   "metadata": {
    "collapsed": true
   },
   "outputs": [],
   "source": [
    "file_path='G:\\MYOWN\\Oddcard2\\education\\Coursera\\ML_Yandex\\week2\\sentences.txt'\n",
    "with open(file_path, 'r') as f:\n",
    "    origina_lines = f.readlines()\n",
    "\n",
    "# TODO: read about built-in functions:\n",
    "# https://docs.python.org/3/library/functions.html\n",
    "# list comprehensions looks here better then map: \n",
    "\n",
    "lines=[l.lower() for l in origina_lines]\n",
    "# lines=list(map(lambda x: x.lower(), lines))"
   ]
  },
  {
   "cell_type": "markdown",
   "metadata": {},
   "source": [
    "## Tokenization"
   ]
  },
  {
   "cell_type": "code",
   "execution_count": 3,
   "metadata": {
    "collapsed": true
   },
   "outputs": [],
   "source": [
    "import re\n",
    "tokenized_lines=[re.split('[^a-z]', s) for s in lines]\n",
    "\n",
    "#Ohh, reduce is removed from Python3 built-ins:\n",
    "#Removed reduce(). Use functools.reduce() if you really need it;\n",
    "#however, 99 percent of the time an explicit for loop is more readable.\n",
    "\n",
    "#Also:\n",
    "#https://docs.python.org/3.0/whatsnew/3.0.html#views-and-iterators-instead-of-lists\n",
    "\n",
    "#map() and filter() return iterators. If you really need a list, a quick fix is e.g. list(map(...)), ...\n",
    "\n",
    "#in any case need to read whole listof changes from:\n",
    "#https://docs.python.org/3.0/whatsnew/3.0.html\n",
    "\n",
    "words=set()\n",
    "for l in tokenized_lines:\n",
    "    words.update(l)\n",
    "\n",
    "if '' in words:\n",
    "    words.remove('')\n",
    "\n",
    "words_map = dict()\n",
    "word_index = 0\n",
    "words_list = []\n",
    "for w in words:\n",
    "    words_map[w] = word_index\n",
    "    words_list.append(w)\n",
    "    word_index += 1"
   ]
  },
  {
   "cell_type": "markdown",
   "metadata": {},
   "source": [
    "## Matrix creation"
   ]
  },
  {
   "cell_type": "code",
   "execution_count": 4,
   "metadata": {
    "collapsed": true
   },
   "outputs": [],
   "source": [
    "import numpy as np\n",
    "\n",
    "#tab for auto-completion\n",
    "#shift-tab to see function args\n",
    "#also print(np.array.__doc__) may be used, wo print it's hard to read\n",
    "#or help(np.array) maybe used - it looks better for me\n",
    "\n",
    "#help(np.zeros)\n",
    "\n",
    "tokens_matrix = np.zeros((len(lines), len(words_map)), dtype=np.uint32)\n",
    "for i in range(len(lines)):\n",
    "    for t in tokenized_lines[i]:\n",
    "        if t:\n",
    "            token_index = words_map[t]\n",
    "            tokens_matrix[i, token_index] += 1\n"
   ]
  },
  {
   "cell_type": "markdown",
   "metadata": {},
   "source": [
    "### Matrix checking"
   ]
  },
  {
   "cell_type": "code",
   "execution_count": 5,
   "metadata": {},
   "outputs": [
    {
     "name": "stdout",
     "output_type": "stream",
     "text": [
      "the\n",
      "have\n",
      "in\n",
      "to\n",
      "domestication\n",
      "major\n",
      "undergone\n",
      "cats\n",
      "process\n",
      "dogs\n",
      "during\n",
      "not\n",
      "comparison\n",
      "changes\n",
      "in comparison to dogs, cats have not undergone major changes during the domestication process.\n",
      "\n"
     ]
    }
   ],
   "source": [
    "for (i,),v in np.ndenumerate(tokens_matrix[0, :]):\n",
    "    if v:\n",
    "        #print((i,v))\n",
    "        print(words_list[i])\n",
    "print(lines[0])"
   ]
  },
  {
   "cell_type": "markdown",
   "metadata": {},
   "source": [
    "## Distance calculation"
   ]
  },
  {
   "cell_type": "code",
   "execution_count": 6,
   "metadata": {},
   "outputs": [
    {
     "name": "stdout",
     "output_type": "stream",
     "text": [
      "First sentence:\n",
      "\n",
      "In comparison to dogs, cats have not undergone major changes during the domestication process.\n",
      "\n",
      "\n",
      "2 most similar by cosine distance:\n",
      "\n",
      "OS X Mountain Lion was released on July 25, 2012 for purchase and download through Apple's Mac App Store, as part of a switch to releasing OS X versions online and every year.\n",
      "\n",
      "As cat simply catenates streams of bytes, it can be also used to concatenate binary files, where it will just concatenate sequence of bytes.\n",
      "\n"
     ]
    }
   ],
   "source": [
    "from scipy.spatial import distance\n",
    "from operator import itemgetter\n",
    "# help(distance.cosine)\n",
    "\n",
    "first_line = tokens_matrix[0, :]\n",
    "\n",
    "# method 1 using python only\n",
    "distances = [distance.cosine(first_line, l) for l in tokens_matrix]\n",
    "#print(distances)\n",
    "# method 2 using np.apply_along_axis\n",
    "distances2 = np.apply_along_axis(lambda l: distance.cosine(first_line, l), axis=1, arr=tokens_matrix)\n",
    "#print(distances2)\n",
    "\n",
    "dist_and_indexes = [(i,v) for (i,),v in np.ndenumerate(distances2)]\n",
    "\n",
    "dist_and_indexes.sort(key=itemgetter(1), reverse=True)\n",
    "#dist_and_indexes = sorted(dist_and_indexes, key=itemgetter(1), reverse=True)\n",
    "\n",
    "#print(dist_and_indexes[:2])\n",
    "\n",
    "sentence_numbers_answer = [n for (n,v) in dist_and_indexes[:2]]\n",
    "print('First sentence:\\n')\n",
    "print(origina_lines[0] + '\\n')\n",
    "print('2 most similar by cosine distance:\\n')\n",
    "for n in sentence_numbers_answer:\n",
    "    print(origina_lines[n])\n",
    "#print(sentence_numbers_answer)"
   ]
  },
  {
   "cell_type": "markdown",
   "metadata": {},
   "source": [
    "## Save to file"
   ]
  },
  {
   "cell_type": "code",
   "execution_count": 7,
   "metadata": {},
   "outputs": [],
   "source": [
    "out_file='G:\\MYOWN\\Oddcard2\\education\\Coursera\\ML_Yandex\\week2\\submission-1.txt'\n",
    "sentence_numbers_answer_lines = [str(n) + '\\n' for n in sentence_numbers_answer]\n",
    "with open(out_file, 'w') as f:\n",
    "    f.writelines(sentence_numbers_answer_lines)"
   ]
  },
  {
   "cell_type": "markdown",
   "metadata": {},
   "source": [
    "# Function approximation"
   ]
  },
  {
   "cell_type": "code",
   "execution_count": 9,
   "metadata": {},
   "outputs": [
    {
     "name": "stdout",
     "output_type": "stream",
     "text": [
      "3.252216865271419\n"
     ]
    }
   ],
   "source": [
    "import math\n",
    "f = lambda x: math.sin(x/5.)*math.exp(x/10.)+5.*math.exp(-x/2.)\n",
    "\n",
    "t = f(1.)\n",
    "print(t)"
   ]
  },
  {
   "cell_type": "code",
   "execution_count": 17,
   "metadata": {},
   "outputs": [
    {
     "data": {
      "image/png": "[encoded data removed]",
      "text/plain": [
       "<Figure size 432x288 with 1 Axes>"
      ]
     },
     "metadata": {},
     "output_type": "display_data"
    }
   ],
   "source": [
    "import matplotlib.pyplot as plt\n",
    "%matplotlib inline\n",
    "\n",
    "x = [x/10. for x in range(10,150)]\n",
    "y = [f(i) for i in x]\n",
    "\n",
    "plt.plot(x, y)\n",
    "plt.title('Initial graph')\n",
    "plt.show()\n"
   ]
  },
  {
   "cell_type": "markdown",
   "metadata": {},
   "source": [
    "## 2-points interpolation"
   ]
  },
  {
   "cell_type": "code",
   "execution_count": 24,
   "metadata": {},
   "outputs": [
    {
     "data": {
      "text/plain": [
       "[<matplotlib.lines.Line2D at 0x8662eb8>]"
      ]
     },
     "execution_count": 24,
     "metadata": {},
     "output_type": "execute_result"
    },
    {
     "data": {
      "image/png": "[encoded data removed]",
      "text/plain": [
       "<Figure size 432x288 with 1 Axes>"
      ]
     },
     "metadata": {},
     "output_type": "display_data"
    }
   ],
   "source": [
    "from scipy import linalg\n",
    "m2 = np.array([[1, 1], [1, 15]])\n",
    "b2 = np.array([f(1.), f(15.)])\n",
    "x2 = linalg.solve(m2, b2)\n",
    "f2 = lambda x: x2[0] + x2[1]*x\n",
    "y2 = [f2(i) for i in x]\n",
    "plt.plot(x, y2)"
   ]
  },
  {
   "cell_type": "markdown",
   "metadata": {},
   "source": [
    "## 3-points interpolation"
   ]
  },
  {
   "cell_type": "code",
   "execution_count": 26,
   "metadata": {},
   "outputs": [
    {
     "data": {
      "text/plain": [
       "[<matplotlib.lines.Line2D at 0x859d390>]"
      ]
     },
     "execution_count": 26,
     "metadata": {},
     "output_type": "execute_result"
    },
    {
     "data": {
      "image/png": "[encoded data removed]",
      "text/plain": [
       "<Figure size 432x288 with 1 Axes>"
      ]
     },
     "metadata": {},
     "output_type": "display_data"
    }
   ],
   "source": [
    "from scipy import linalg\n",
    "m3 = np.array([[1, 1, 1], [1, 8, 8*8], [1, 15, 15*15]])\n",
    "b3 = np.array([f(1.), f(8.), f(15.)])\n",
    "x3 = linalg.solve(m3, b3)\n",
    "f3 = lambda x: x3[0] + x3[1]*x + x3[2]*x*x\n",
    "y3 = [f3(i) for i in x]\n",
    "plt.plot(x, y3)"
   ]
  },
  {
   "cell_type": "markdown",
   "metadata": {},
   "source": [
    "## 4-points interpolation"
   ]
  },
  {
   "cell_type": "code",
   "execution_count": 30,
   "metadata": {},
   "outputs": [
    {
     "data": {
      "text/plain": [
       "[<matplotlib.lines.Line2D at 0x8737dd8>]"
      ]
     },
     "execution_count": 30,
     "metadata": {},
     "output_type": "execute_result"
    },
    {
     "data": {
      "image/png": "[encoded data removed]",
      "text/plain": [
       "<Figure size 432x288 with 1 Axes>"
      ]
     },
     "metadata": {},
     "output_type": "display_data"
    }
   ],
   "source": [
    "from scipy import linalg\n",
    "m4 = np.array([[1, 1, 1, 1], [1, 4, 4*4, 4*4*4],\n",
    "               [1, 10, 10*10, 10*10*10], [1, 15, 15*15, 15*15*15]])\n",
    "b4 = np.array([f(1.), f(4.), f(10.), f(15.)])\n",
    "x4 = linalg.solve(m4, b4)\n",
    "f4 = lambda x: x4[0] + x4[1]*x + x4[2]*x*x + x4[3]*x*x*x\n",
    "y4 = [f4(i) for i in x]\n",
    "plt.plot(x, y4)"
   ]
  },
  {
   "cell_type": "markdown",
   "metadata": {},
   "source": [
    "## Save to file"
   ]
  },
  {
   "cell_type": "code",
   "execution_count": 43,
   "metadata": {},
   "outputs": [],
   "source": [
    "out_file2='G:\\MYOWN\\Oddcard2\\education\\Coursera\\ML_Yandex\\week2\\submission-2.txt'\n",
    "with open(out_file2, 'w') as f2:\n",
    "    line = ' '.join(x4.astype(str))\n",
    "    f2.write(line)"
   ]
  }
 ],
 "metadata": {
  "kernelspec": {
   "display_name": "Python 3",
   "language": "python",
   "name": "python3"
  },
  "language_info": {
   "codemirror_mode": {
    "name": "ipython",
    "version": 3
   },
   "file_extension": ".py",
   "mimetype": "text/x-python",
   "name": "python",
   "nbconvert_exporter": "python",
   "pygments_lexer": "ipython3",
   "version": "3.6.6"
  }
 },
 "nbformat": 4,
 "nbformat_minor": 2
}
