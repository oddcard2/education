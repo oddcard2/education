{
 "cells": [
  {
   "cell_type": "markdown",
   "metadata": {},
   "source": [
    "## Задачи к главе 2"
   ]
  },
  {
   "cell_type": "markdown",
   "metadata": {},
   "source": [
    "### 2.1"
   ]
  },
  {
   "cell_type": "code",
   "execution_count": 4,
   "metadata": {},
   "outputs": [
    {
     "name": "stdout",
     "output_type": "stream",
     "text": [
      "median = 2.00, p25 = 1.00, p75 = 5.00\n",
      "mean = 3.09, std = 2.84\n"
     ]
    }
   ],
   "source": [
    "import numpy as np\n",
    "\n",
    "def print_m_p25_p75(m, p25, p75):\n",
    "    print('median = {0:.2f}, p25 = {1:.2f}, p75 = {2:.2f}'.format(m, p25, p75))\n",
    "\n",
    "def get_m_p25_p75(vals, printing=False):\n",
    "    m = np.median(vals)\n",
    "    p25 = np.percentile(vals, 25)\n",
    "    p75 = np.percentile(vals, 75)\n",
    "    if printing:\n",
    "        print_m_p25_p75(m, p25, p75)\n",
    "    return (m, p25, p75)\n",
    "\n",
    "def print_mean_std(m, std):\n",
    "    print('mean = {0:.2f}, std = {1:.2f}'.format(m, std))\n",
    "\n",
    "def get_mean_std(vals, printing=False):\n",
    "    m, std = np.mean(vals), np.std(vals)\n",
    "    if printing:\n",
    "        print_mean_std(m, std)\n",
    "    return (m, std)\n",
    "\n",
    "vals = np.asarray([0,0,0,1,1,1,1,1,1,1,1,1,1,1,2,2,2,2,3,3,3,3,4,4,5,5,5,5,6,7,9,10,11], dtype=np.float)\n",
    "get_m_p25_p75(vals, True)\n",
    "_,_= get_mean_std(vals, True)"
   ]
  },
  {
   "cell_type": "markdown",
   "metadata": {},
   "source": [
    "### 2.2"
   ]
  },
  {
   "cell_type": "code",
   "execution_count": 5,
   "metadata": {},
   "outputs": [
    {
     "name": "stdout",
     "output_type": "stream",
     "text": [
      "median = 235.50, p25 = 217.75, p75 = 247.25\n",
      "mean = 243.92, std = 41.21\n"
     ]
    }
   ],
   "source": [
    "vals = np.asarray([289,203,359,243,232,210,251,246,224,239,220,211])\n",
    "get_m_p25_p75(vals, True)\n",
    "_,_= get_mean_std(vals, True)"
   ]
  },
  {
   "cell_type": "markdown",
   "metadata": {},
   "source": [
    "### 2.3"
   ]
  },
  {
   "cell_type": "code",
   "execution_count": 6,
   "metadata": {},
   "outputs": [
    {
     "name": "stdout",
     "output_type": "stream",
     "text": [
      "median = 2.00, p25 = 1.67, p75 = 3.40\n",
      "mean = 5.44, std = 7.27\n"
     ]
    }
   ],
   "source": [
    "vals = np.asarray([1.2,1.4,1.6,1.7,1.7,1.8,2.2,2.3,2.4,6.4,19.0,23.6])\n",
    "get_m_p25_p75(vals, True)\n",
    "_,_= get_mean_std(vals, True)"
   ]
  },
  {
   "cell_type": "markdown",
   "metadata": {},
   "source": [
    "### 2.4"
   ]
  },
  {
   "cell_type": "markdown",
   "metadata": {},
   "source": [
    "Распределение равномерное"
   ]
  },
  {
   "cell_type": "code",
   "execution_count": 7,
   "metadata": {},
   "outputs": [
    {
     "name": "stdout",
     "output_type": "stream",
     "text": [
      "mean = 3.50\n"
     ]
    }
   ],
   "source": [
    "vals = [1,2,3,4,5,6]\n",
    "print('mean = {0:.2f}'.format(np.mean(vals)))"
   ]
  },
  {
   "cell_type": "markdown",
   "metadata": {},
   "source": [
    "### 2.5"
   ]
  },
  {
   "cell_type": "code",
   "execution_count": 8,
   "metadata": {},
   "outputs": [
    {
     "name": "stdout",
     "output_type": "stream",
     "text": [
      "mean = 3.85, std = 1.15\n"
     ]
    },
    {
     "data": {
      "image/png": "[encoded data removed]",
      "text/plain": [
       "<Figure size 432x288 with 1 Axes>"
      ]
     },
     "metadata": {
      "needs_background": "light"
     },
     "output_type": "display_data"
    }
   ],
   "source": [
    "%matplotlib inline\n",
    "import matplotlib.pyplot as plt\n",
    "\n",
    "np.random.seed(42)\n",
    "\n",
    "count = 20\n",
    "\n",
    "scores1, scores2 = np.random.randint(1,7, count), np.random.randint(1,7, count)\n",
    "scores=np.array([scores1, scores2]).reshape((-1,2))\n",
    "scores_means = np.mean(scores, axis=1)\n",
    "\n",
    "plt.hist(scores_means)\n",
    "\n",
    "_,_= get_mean_std(scores_means, True)"
   ]
  },
  {
   "cell_type": "markdown",
   "metadata": {},
   "source": [
    "### 2.6"
   ]
  },
  {
   "cell_type": "markdown",
   "metadata": {},
   "source": [
    "Допустим распределение числа авторов не зависит от года, т.е. мы имеем 4 выборки из одной генеральной совокупности, посмотрим как распределены средние этих выборок"
   ]
  },
  {
   "cell_type": "code",
   "execution_count": 13,
   "metadata": {},
   "outputs": [
    {
     "name": "stdout",
     "output_type": "stream",
     "text": [
      "mean = 3.00, std = 1.13\n"
     ]
    },
    {
     "data": {
      "image/png": "[encoded data removed]",
      "text/plain": [
       "<Figure size 432x288 with 1 Axes>"
      ]
     },
     "metadata": {
      "needs_background": "light"
     },
     "output_type": "display_data"
    }
   ],
   "source": [
    "means = np.asarray([2.0, 2.3, 2.8, 4.9])\n",
    "_ = plt.hist(means)\n",
    "\n",
    "_,_= get_mean_std(means, True)"
   ]
  },
  {
   "cell_type": "markdown",
   "metadata": {},
   "source": [
    "По 4 выборкам конечно сложно судить о характере распределения, в целом std не сильно большое для 4-х значений, т.е. std ген совокупности в таком случае должен быть примерно в 2 раза больше - т.е. около 2-х. Т.к. sqrt(4)=2"
   ]
  },
  {
   "cell_type": "markdown",
   "metadata": {},
   "source": [
    "Попробуем зайти с другой стороны.\n",
    "У статьи есть минимум 1 автор, следовательно минимальное значения для распределения это 1. От него до среднего значения, чтобы оно выглядело как нормальное должно быть 2 стандартных отклонения.\n",
    "В первом случае и втором случаях от 1 до среднего меньше одного std.\n",
    "Значит большинство значений лежит слева и далее вытянуто убывает вправо.\n",
    "В третьем случае похоже на нормальное.\n",
    "Четвёртый случай похож на первые 2.\n",
    "\n",
    "К тому же средние данных выборок, хотя их всего 4, не образуют нормального распределения, а просто возрастают.\n",
    "\n",
    "Попробуем сэмулировать эти 4 ситуации."
   ]
  },
  {
   "cell_type": "code",
   "execution_count": 10,
   "metadata": {},
   "outputs": [
    {
     "name": "stdout",
     "output_type": "stream",
     "text": [
      "mean = 2.00, std = 1.40\n"
     ]
    },
    {
     "data": {
      "image/png": "[encoded data removed]",
      "text/plain": [
       "<Figure size 432x288 with 1 Axes>"
      ]
     },
     "metadata": {
      "needs_background": "light"
     },
     "output_type": "display_data"
    }
   ],
   "source": [
    "vals1 = np.concatenate([[1]*75, [2]*40, [3]*17, [4]*8, [5]*5, [6]*4, [7]*1, [8]*1])\n",
    "_,_= get_mean_std(vals1, True)\n",
    "len(vals1)\n",
    "\n",
    "_ = plt.hist(vals1)"
   ]
  },
  {
   "cell_type": "markdown",
   "metadata": {},
   "source": [
    "Первый случай показывает пример такого вида распределения.\n",
    "Остальные 3 случая видимо похожи на него, просто возрастает доля статей с большим числом авторов\n",
    "В четвёртом похоже на выброс, когда есть статья с аномально большим числом авторов:"
   ]
  },
  {
   "cell_type": "code",
   "execution_count": 11,
   "metadata": {},
   "outputs": [
    {
     "name": "stdout",
     "output_type": "stream",
     "text": [
      "mean = 4.90, std = 7.33\n"
     ]
    },
    {
     "data": {
      "image/png": "[encoded data removed]",
      "text/plain": [
       "<Figure size 432x288 with 1 Axes>"
      ]
     },
     "metadata": {
      "needs_background": "light"
     },
     "output_type": "display_data"
    }
   ],
   "source": [
    "vals4 = np.concatenate([[1]*30, [2]*15, [3]*25, [4]*20,\n",
    "                        [5]*18, [6]*12, [7]*10, [8]*8,\n",
    "                       [9]*6, [10]*5, [11]*4, [12]*1,\n",
    "                       [89]*1])\n",
    "_,_= get_mean_std(vals4, True)\n",
    "len(vals4)\n",
    "\n",
    "_ = plt.hist(vals4, bins=100)"
   ]
  },
  {
   "cell_type": "markdown",
   "metadata": {},
   "source": [
    "## Задачи к главе 3"
   ]
  },
  {
   "cell_type": "markdown",
   "metadata": {},
   "source": [
    "Полезная ссылка для расчёта - http://statpages.info/anova1sm.html\n",
    "\n",
    "Хотя в книге есть ответы"
   ]
  },
  {
   "cell_type": "markdown",
   "metadata": {},
   "source": [
    "### 3.1"
   ]
  },
  {
   "cell_type": "code",
   "execution_count": 23,
   "metadata": {},
   "outputs": [
    {
     "name": "stdout",
     "output_type": "stream",
     "text": [
      "F = 9.56, w_d = 3.95, i_d = 37.79, m_sd = 1.21\n",
      "F = 15.74, w_d = 19.45, i_d = 306.18, m_sd = 3.82\n",
      "F = 15.74, F (0.05) = 4.08, F (0.01) = 7.31\n"
     ]
    }
   ],
   "source": [
    "from scipy import stats\n",
    "import math\n",
    "\n",
    "\n",
    "def calc_tstd(means):\n",
    "    m = np.mean(means)\n",
    "    sq_sum = np.sum(np.square(np.full(len(means), m) - means)) / (len(means) - 1)\n",
    "    return math.sqrt(sq_sum)\n",
    "\n",
    "def calc_f(n, means, stds, se=False, printing=True):\n",
    "    if se:\n",
    "        sq_n = math.sqrt(n)\n",
    "        stds = [v*sq_n for v in stds]\n",
    "    within_d = np.mean(np.square(stds))\n",
    "    mean_std = calc_tstd(means) # stats.tstd(means)\n",
    "    inter_d = (mean_std**2)*n\n",
    "    f = inter_d/within_d\n",
    "    if printing:\n",
    "        print('F = {0:.2f}, w_d = {1:.2f}, i_d = {2:.2f}, m_sd = {3:.2f}'.format(f, within_d, inter_d, mean_std))\n",
    "    return f\n",
    "\n",
    "# test with example of women sport and menstruation\n",
    "calc_f(26, [11.5, 10.1, 9.1], [1.3, 2.1, 2.4])\n",
    "\n",
    "# 2 groups and n=21, so inter df = 1 and inner df = 20*2 = 40\n",
    "f = calc_f(21, [8.5, 13.9], [4.7, 4.1])\n",
    "\n",
    "def print_f(f, dfn, dfd):\n",
    "    f_005 = stats.f.ppf(q=1-0.05, dfn=dfn, dfd=dfd)\n",
    "    f_001 = stats.f.ppf(q=1-0.01, dfn=dfn, dfd=dfd)\n",
    "    print('F = {0:.2f}, F (0.05) = {1:.2f}, F (0.01) = {2:.2f}'.format(f, f_005, f_001))\n",
    "    \n",
    "print_f(f, 1, 40)"
   ]
  },
  {
   "cell_type": "markdown",
   "metadata": {},
   "source": [
    "Видим, что F больше чем критического значение при уровне значимости 0.01, поэтому отклоняем нулевую гипотезу и считаем что получили статичтически значимое отличие между данными группами"
   ]
  },
  {
   "cell_type": "markdown",
   "metadata": {},
   "source": [
    "### 3.2"
   ]
  },
  {
   "cell_type": "code",
   "execution_count": 58,
   "metadata": {},
   "outputs": [
    {
     "name": "stdout",
     "output_type": "stream",
     "text": [
      "F = 64.18, w_d = 0.52, i_d = 33.29, m_sd = 0.41\n",
      "F = 64.18, F (0.05) = 2.38, F (0.01) = 3.34\n"
     ]
    }
   ],
   "source": [
    "f = calc_f(200, [3.17, 2.72, 2.63, 2.29, 2.12], [0.74, 0.71, 0.73, 0.70, 0.72])\n",
    "print_f(f, 5-1, 199*5)"
   ]
  },
  {
   "cell_type": "markdown",
   "metadata": {},
   "source": [
    "По данным видно, что высока вероятность, что результат в группах отличается"
   ]
  },
  {
   "cell_type": "markdown",
   "metadata": {},
   "source": [
    "### 3.3"
   ]
  },
  {
   "cell_type": "code",
   "execution_count": 59,
   "metadata": {},
   "outputs": [
    {
     "name": "stdout",
     "output_type": "stream",
     "text": [
      "F = 35.25, w_d = 239.81, i_d = 8453.43, m_sd = 10.99\n",
      "F = 35.25, F (0.05) = 3.04, F (0.01) = 4.71\n"
     ]
    }
   ],
   "source": [
    "f = calc_f(70, [43.3, 58.0, 64.8], [14.2, 17.7, 14.3])\n",
    "print_f(f, 3-1, 69*3)"
   ]
  },
  {
   "cell_type": "markdown",
   "metadata": {},
   "source": [
    "Есть статистическая значимость различий между группами"
   ]
  },
  {
   "cell_type": "markdown",
   "metadata": {},
   "source": [
    "### 3.4"
   ]
  },
  {
   "cell_type": "code",
   "execution_count": 69,
   "metadata": {},
   "outputs": [
    {
     "name": "stdout",
     "output_type": "stream",
     "text": [
      "F = 60.38, w_d = 55.95, i_d = 3378.24, m_sd = 9.69\n",
      "F = 60.38, F (0.05) = 2.14, F (0.01) = 2.88\n"
     ]
    }
   ],
   "source": [
    "f = calc_f(36, [85.1, 83.5, 80.9, 72.6, 60, 73.5, 63.8], [0.3, 1.0, 0.6, 0.7, 1.3, 0.7, 2.6], se=True)\n",
    "print_f(f, 7-1, 35*7)"
   ]
  },
  {
   "cell_type": "markdown",
   "metadata": {},
   "source": [
    "Есть статистическая значимость различий между группами"
   ]
  },
  {
   "cell_type": "markdown",
   "metadata": {},
   "source": [
    "### 3.5"
   ]
  },
  {
   "cell_type": "code",
   "execution_count": 70,
   "metadata": {},
   "outputs": [
    {
     "name": "stdout",
     "output_type": "stream",
     "text": [
      "F = 2.51, w_d = 458.10, i_d = 1152.00, m_sd = 5.66\n",
      "F = 2.51, F (0.05) = 3.98, F (0.01) = 7.01\n"
     ]
    }
   ],
   "source": [
    "f = calc_f(36, [51.4, 59.4], [3.2, 3.9], se=True)\n",
    "print_f(f, 2-1, 35*2)"
   ]
  },
  {
   "cell_type": "markdown",
   "metadata": {},
   "source": [
    "Различия между группами НЕ являются статистически значимыми"
   ]
  },
  {
   "cell_type": "markdown",
   "metadata": {},
   "source": [
    "### 3.6"
   ]
  },
  {
   "cell_type": "code",
   "execution_count": 43,
   "metadata": {},
   "outputs": [
    {
     "name": "stdout",
     "output_type": "stream",
     "text": [
      "F = 3.85, w_d = 252.44, i_d = 971.99, m_sd = 7.79\n",
      "F = 3.85, F (0.05) = 2.32, F (0.01) = 3.23\n"
     ]
    }
   ],
   "source": [
    "f = calc_f(16, [49.9, 51.2, 57.3, 46.4, 43.9, 65.2], [14.3, 13.4, 14.9, 14.7, 16.5, 20.5])\n",
    "print_f(f, 6-1, 15*6)"
   ]
  },
  {
   "cell_type": "markdown",
   "metadata": {},
   "source": [
    "Различия между группами являются статистически значимыми"
   ]
  },
  {
   "cell_type": "markdown",
   "metadata": {},
   "source": [
    "### 3.7"
   ]
  },
  {
   "cell_type": "code",
   "execution_count": 80,
   "metadata": {},
   "outputs": [
    {
     "name": "stdout",
     "output_type": "stream",
     "text": [
      "F = 8.19\n",
      "F = 8.19, F (0.05) = 2.72, F (0.01) = 4.04\n"
     ]
    }
   ],
   "source": [
    "def calc_f_n(nums, means, stds, se=True, pr=True):\n",
    "    if se:\n",
    "        stds = [s*math.sqrt(ni) for ni,s in zip(nums, stds)]\n",
    "    n = np.sum(nums)\n",
    "    k = len(nums)\n",
    "    s_in = np.sum([(ni-1)*(s**2) for ni, s in zip(nums, stds)])\n",
    "    v_in = n - k\n",
    "    s_out = np.sum([ni*(m**2) for ni, m in zip(nums, means)]) - (np.sum([ni*m for ni, m in zip(nums, means)]))**2 / n\n",
    "    v_out = k - 1\n",
    "    f = (s_out / v_out) / (s_in / v_in)\n",
    "    if pr:\n",
    "        print('F = {0:.2f}'.format(f))\n",
    "    return f\n",
    "nums = [30, 13, 20, 20]\n",
    "f = calc_f_n(nums, [15, 15, 9, 7], [1, 2, 2 , 1])\n",
    "print_f(f, len(nums)-1, np.sum(nums)-len(nums))"
   ]
  },
  {
   "cell_type": "markdown",
   "metadata": {},
   "source": [
    "Различия между группами являются статистически значимыми"
   ]
  },
  {
   "cell_type": "markdown",
   "metadata": {},
   "source": [
    "### 3.8 "
   ]
  },
  {
   "cell_type": "code",
   "execution_count": 81,
   "metadata": {},
   "outputs": [
    {
     "name": "stdout",
     "output_type": "stream",
     "text": [
      "F = 0.41\n",
      "F = 0.41, F (0.05) = 2.46, F (0.01) = 3.51\n"
     ]
    }
   ],
   "source": [
    "nums = [15, 37, 31, 13, 10]\n",
    "f = calc_f_n(nums, [257, 196, 221, 280, 310], [159, 359, 340, 263, 95], se=False)\n",
    "print_f(f, len(nums)-1, np.sum(nums)-len(nums))"
   ]
  },
  {
   "cell_type": "markdown",
   "metadata": {},
   "source": [
    "Различия между группами НЕ являются статистически значимыми"
   ]
  },
  {
   "cell_type": "markdown",
   "metadata": {},
   "source": [
    "## Задачи к главе 4"
   ]
  },
  {
   "cell_type": "markdown",
   "metadata": {},
   "source": [
    "### 4.1 "
   ]
  },
  {
   "cell_type": "code",
   "execution_count": 67,
   "metadata": {},
   "outputs": [
    {
     "name": "stdout",
     "output_type": "stream",
     "text": [
      "v = 23\n",
      "Различия в среднем давлении статистически НЕзначимы (t=1.97) при p=0.05\n",
      "Различия в общем периферическом сосудистом сопротивлении статистически НЕзначимы (t=1.29) при p=0.05\n"
     ]
    }
   ],
   "source": [
    "import math\n",
    "\n",
    "# Формула, когда нет уверенности в равенстве дисперсий распределений\n",
    "# Это Welch's t-test: https://en.wikipedia.org/wiki/Welch%27s_t-test\n",
    "def calc_student_t_(n1, m1, std1, n2, m2, std2):\n",
    "    return abs((m1-m2)/math.sqrt(std1**2/n1+std2**2/n2))\n",
    "\n",
    "# Формула для случая, когда дисперсия 2-х распределений считается одинаковой - а это так, т.к. мы верим в нулевую гипотезу\n",
    "# что имеет место 2 выборки из одного распределения с определённой дисперсией\n",
    "def calc_student_t(n1, m1, std1, n2, m2, std2):\n",
    "    d = ((n1-1)*std1**2 + (n2-1)*std2**2) / (n1+n2-2)\n",
    "    return abs((m1-m2)/math.sqrt(d/n1+d/n2))\n",
    "\n",
    "# Среднее артериальное давление при наилучшем сердечном индексе, мм рт. ст. \n",
    "halothane_bp_n = 9\n",
    "halothane_bp_mean = 76.8\n",
    "halothane_bp_std = 13.8\n",
    "\n",
    "morphine_bp_n = 16\n",
    "morphine_bp_mean = 91.4\n",
    "morphine_bp_std = 19.6\n",
    "\n",
    "v = 9+16-2\n",
    "\n",
    "print('v = {0}'.format(v))\n",
    "\n",
    "bp_t = calc_student_t(halothane_bp_n, halothane_bp_mean, halothane_bp_std, morphine_bp_n, morphine_bp_mean, morphine_bp_std)\n",
    "\n",
    "# Общее периферическое сосудистое сопротивление при наилучшем сердечном индексе, дин с см\n",
    "halothane_resistance_n = 9\n",
    "halothane_resistance_mean = 2210.0\n",
    "halothane_resistance_std = 1200.0\n",
    "\n",
    "morphine_resistance_n = 16\n",
    "morphine_resistance_mean = 2830.0\n",
    "morphine_resistance_std = 1130.0\n",
    "\n",
    "resistance_t = calc_student_t(halothane_resistance_n, halothane_resistance_mean, halothane_resistance_std,\n",
    "                             morphine_resistance_n, morphine_resistance_mean, morphine_resistance_std)\n",
    "\n",
    "verdict = {True: 'значимы', False: 'НЕзначимы'}\n",
    "# для v=23 и p=0.05 критическое значение = 2,069\n",
    "bp_res = bp_t > 2.069\n",
    "print('Различия в среднем давлении статистически {0} (t={1:.2f}) при p=0.05'.format(verdict[bp_res], bp_t))\n",
    "\n",
    "resistance_res = resistance_t > 2.069\n",
    "print('Различия в общем периферическом сосудистом сопротивлении статистически {0} (t={1:.2f}) при p=0.05'.format(verdict[resistance_res], resistance_t))\n"
   ]
  },
  {
   "cell_type": "markdown",
   "metadata": {},
   "source": [
    "### 4.2"
   ]
  },
  {
   "cell_type": "code",
   "execution_count": 24,
   "metadata": {},
   "outputs": [
    {
     "name": "stdout",
     "output_type": "stream",
     "text": [
      "v = 20\n",
      "Различия в среднем давлении статистически значимы (t=3.14) при p=0.05\n"
     ]
    }
   ],
   "source": [
    "import numpy as np\n",
    "placebo_bp_values = np.array([156, 171, 133, 102, 129, 150, 120, 110, 112, 130, 105], dtype=np.float)\n",
    "nifedipine_bp_values = np.array([73,81,103,88,130,106,106,111,122,108,99], dtype=np.float)\n",
    "\n",
    "def calc_student_t_arr(arr1, arr2):\n",
    "    n1 = len(arr1)\n",
    "    n2 = len(arr2)\n",
    "    m1 = np.mean(arr1)\n",
    "    m2 = np.mean(arr2)\n",
    "    std1 = calc_tstd(arr1)\n",
    "    std2 = calc_tstd(arr2)\n",
    "    return calc_student_t(n1, m1, std1, n2, m2, std2)\n",
    "\n",
    "t = calc_student_t_arr(placebo_bp_values, nifedipine_bp_values)\n",
    "v = 2*len(placebo_bp_values)-2\n",
    "\n",
    "print('v = {0}'.format(v))\n",
    "\n",
    "# для v=20, критическое значение = 2,086 (p=0.05)\n",
    "bp_res = t > 2.086\n",
    "print('Различия в среднем давлении статистически {0} (t={1:.2f}) при p=0.05'.format(verdict[bp_res], t))"
   ]
  },
  {
   "cell_type": "markdown",
   "metadata": {},
   "source": [
    "### 4.3"
   ]
  },
  {
   "cell_type": "code",
   "execution_count": 25,
   "metadata": {},
   "outputs": [
    {
     "name": "stdout",
     "output_type": "stream",
     "text": [
      "Различия в среднем давлении статистически НЕзначимы (t=1.33) при p=0.05\n"
     ]
    }
   ],
   "source": [
    "placebo_d_values = np.array([2.5,2.2,2.6,2.0,2.1,1.8,2.4,2.3,2.7,2.7,1.9], dtype=np.float)\n",
    "nifedipine_d_values = np.array([2.5,1.7,1.5,2.5,1.4,1.9,2.3,2.0,2.6,2.3,2.2], dtype=np.float)\n",
    "\n",
    "t = calc_student_t_arr(placebo_d_values, nifedipine_d_values)\n",
    "\n",
    "d_res = t > 2.086\n",
    "print('Различия в среднем давлении статистически {0} (t={1:.2f}) при p=0.05'.format(verdict[d_res], t))"
   ]
  },
  {
   "cell_type": "markdown",
   "metadata": {},
   "source": [
    "### 4.4 (3.1)"
   ]
  },
  {
   "cell_type": "code",
   "execution_count": 26,
   "metadata": {},
   "outputs": [
    {
     "name": "stdout",
     "output_type": "stream",
     "text": [
      "v = 40\n",
      "Различия в продолжительности родов статистически значимы (t=3.97) при p=0.05\n"
     ]
    }
   ],
   "source": [
    "t = calc_student_t(21, 8.5, 4.7, 21, 13.9, 4.1)\n",
    "v = 21*2-2\n",
    "print('v = {0}'.format(v))\n",
    "\n",
    "# for v = 40: 2,021 (p=0.05)\n",
    "res = t > 2.086\n",
    "print('Различия в продолжительности родов статистически {0} (t={1:.2f}) при p=0.05'.format(verdict[res], t))"
   ]
  },
  {
   "cell_type": "markdown",
   "metadata": {},
   "source": [
    "### 4.4 (3.5)"
   ]
  },
  {
   "cell_type": "code",
   "execution_count": 27,
   "metadata": {},
   "outputs": [
    {
     "name": "stdout",
     "output_type": "stream",
     "text": [
      "v = 70\n",
      "Различия статистически НЕзначимы (t=1.59) при p=0.05\n"
     ]
    }
   ],
   "source": [
    "std1 = 3.2*math.sqrt(36)\n",
    "std2 = 3.9*math.sqrt(36)\n",
    "\n",
    "v = 36*2-2\n",
    "print('v = {0}'.format(v))\n",
    "\n",
    "t = calc_student_t(36, 51.4, std1, 36, 59.4, std2)\n",
    "# for v = 70: 1.994 (p=0.05)\n",
    "\n",
    "res = t > 1.994\n",
    "print('Различия статистически {0} (t={1:.2f}) при p=0.05'.format(verdict[res], t))"
   ]
  },
  {
   "cell_type": "markdown",
   "metadata": {},
   "source": [
    "### 4.5"
   ]
  },
  {
   "cell_type": "code",
   "execution_count": 33,
   "metadata": {},
   "outputs": [
    {
     "name": "stdout",
     "output_type": "stream",
     "text": [
      "Есть различие между группами \"Некурящие в помещениях, где не курят\" и \"Некурящие в помещениях, где курят, t=6.21\"\n",
      "Есть различие между группами \"Некурящие в помещениях, где не курят\" и \"Курящие небольшое число сигарет, t=7.35\"\n",
      "Есть различие между группами \"Некурящие в помещениях, где не курят\" и \"Курящие среднее число сигарет, t=12.22\"\n",
      "Есть различие между группами \"Некурящие в помещениях, где не курят\" и \"Курящие большое число сигарет, t=14.38\"\n",
      "Есть различие между группами \"Некурящие в помещениях, где курят\" и \"Курящие среднее число сигарет, t=6.10\"\n",
      "Есть различие между группами \"Некурящие в помещениях, где курят\" и \"Курящие большое число сигарет, t=8.39\"\n",
      "Есть различие между группами \"Курящие небольшое число сигарет\" и \"Курящие среднее число сигарет, t=4.75\"\n",
      "Есть различие между группами \"Курящие небольшое число сигарет\" и \"Курящие большое число сигарет, t=7.03\"\n"
     ]
    }
   ],
   "source": [
    "group_names = ['Некурящие в помещениях, где не курят',\n",
    "              'Некурящие в помещениях, где курят',\n",
    "              'Курящие небольшое число сигарет',\n",
    "              'Курящие среднее число сигарет',\n",
    "              'Курящие большое число сигарет']\n",
    "groups = [(3.17, 0.74), (2.72, 0.71), (2.63, 0.73), (2.29, 0.70), (2.12, 0.72)]\n",
    "n = 200\n",
    "# Число степеней свободы = 5*200-2=998  при одном сравнении используется значение 1.960 при p=0.05,\n",
    "# т.к. число сравнений 10, то нужно брать значение для p=0.005\n",
    "# которое равно 2,808\n",
    "limit = 2.808\n",
    "for i in range(4):\n",
    "    for j in range(4-i):\n",
    "        t = calc_student_t(200, groups[i][0], groups[i][1], 200, groups[i+j+1][0], groups[i+j+1][1])\n",
    "        if t > limit:\n",
    "            print('Есть различие между группами \"{0}\" и \"{1}, t={2:.2f}\"'.format(group_names[i], group_names[i+j+1], t))"
   ]
  },
  {
   "cell_type": "markdown",
   "metadata": {},
   "source": [
    "### 4.6"
   ]
  },
  {
   "cell_type": "code",
   "execution_count": 55,
   "metadata": {},
   "outputs": [
    {
     "name": "stdout",
     "output_type": "stream",
     "text": [
      "3.17 2.12 0.01 0.01\n",
      "3.17 2.29 0.01 0.01\n",
      "3.17 2.63 0.01 0.01\n",
      "3.17 2.72 0.01 0.01\n",
      "Число групп с различием = 4:\n",
      "\tКурящие большое число сигарет, t = 14.58\n",
      "\tКурящие среднее число сигарет, t = 12.22\n",
      "\tКурящие небольшое число сигарет, t = 7.50\n",
      "\tНекурящие в помещениях, где курят, t = 6.25\n"
     ]
    }
   ],
   "source": [
    "# сортируем группы по отличию среднего от контрольной в обратном порядке\n",
    "# первой идёт группа с наибольшим абсолютным отличием\n",
    "\n",
    "# возвращает кортеж (values, cnt)\n",
    "# values - значения, cnt - число групп со значением больше limit, остальные значения заполнены нулями\n",
    "def dunnett_test(check_groups, control_group, limit):\n",
    "    d_sum = np.sum(np.square([check_groups[i][1] for i in range(len(check_groups))]))\n",
    "    d_sum += control_group[1]*control_group[1]\n",
    "    d_in = d_sum / (len(check_groups)+1)\n",
    "    \n",
    "    \n",
    "    cnt = 0\n",
    "    res = np.zeros(len(check_groups))\n",
    "    for i in range(len(check_groups)):\n",
    "#         print('{0:.2f} {1:.2f} {2:.2f} {3:.2f}'.format(control_group[0], check_groups[i][0], 1.0/control_group[2], 1.0/check_groups[i][2]))\n",
    "        t = abs(control_group[0]-check_groups[i][0]) / math.sqrt(d_in*(1.0/control_group[2] + 1.0/check_groups[i][2]))\n",
    "        if t >= limit:\n",
    "            res[i]=t\n",
    "            cnt=cnt+1\n",
    "        else:\n",
    "            break\n",
    "    return (res, cnt)\n",
    "        \n",
    "groups_with_n = [(v[0], v[1], 200, i) for i, v in enumerate(groups)]\n",
    "sorted_groups=sorted(groups_with_n, key=lambda t: abs(t[0]-3.17), reverse=True)\n",
    "\n",
    "l = 5\n",
    "v = l*200-l\n",
    "\n",
    "# Возьмём p=0.01, тогда limit=3\n",
    "\n",
    "vals, n = dunnett_test(sorted_groups[0:-1], sorted_groups[-1], 3.0)\n",
    "print('Число групп с различием = {0}:'.format(n))\n",
    "for i in range(n):\n",
    "    print('\\t{0}, t = {1:.2f}'.format(group_names[sorted_groups[i][3]], vals[i]))"
   ]
  },
  {
   "cell_type": "markdown",
   "metadata": {},
   "source": [
    "### 4.7"
   ]
  },
  {
   "cell_type": "code",
   "execution_count": 75,
   "metadata": {},
   "outputs": [
    {
     "name": "stdout",
     "output_type": "stream",
     "text": [
      "Есть различие между группами \"Не спортсмены\" и \"Бегуны трусцой, t=5.42\"\n",
      "Есть различие между группами \"Не спортсмены\" и \"Марафонцы, t=8.93\"\n",
      "Есть различие между группами \"Бегуны трусцой\" и \"Марафонцы, t=2.50\"\n"
     ]
    }
   ],
   "source": [
    "import itertools\n",
    "\n",
    "# Сравнить группы попарно в 3.3, используя поправку Бонферрони\n",
    "group_names33 = [\n",
    "    'Не спортсмены',\n",
    "    'Бегуны трусцой',\n",
    "    'Марафонцы'\n",
    "]\n",
    "\n",
    "groups33 = [(43.3, 14.2), (58.0, 17.7), (64.8, 14.3)]\n",
    "n = 70\n",
    "\n",
    "# число сравнений = 3\n",
    "# число степеней свободы = 70*3-3=207\n",
    "# уровень значимости 0.05 нужно понизить до 0.05/3 = 0.0167\n",
    "# в таблице есть для p=0.02 (2.327) и p=0.01 (2.576)\n",
    "# для p=0.0167 = 2.576 - (0.0167-0.01)*((2.576-2.327)/0.01) = 2.40917\n",
    "\n",
    "limit = 2.40917\n",
    "for c in itertools.combinations([0,1,2], r=2):\n",
    "    t = calc_student_t(n, groups33[c[0]][0], groups33[c[0]][1], n, groups33[c[1]][0], groups33[c[1]][1])\n",
    "    if t > limit:\n",
    "        print('Есть различие между группами \"{0}\" и \"{1}, t={2:.2f}\"'.format(group_names33[c[0]], group_names33[c[1]], t))\n",
    "\n",
    "# Почему-то есть различие с ответами в книге!"
   ]
  },
  {
   "cell_type": "code",
   "execution_count": 93,
   "metadata": {},
   "outputs": [
    {
     "name": "stdout",
     "output_type": "stream",
     "text": [
      "t = -5.42, pval = 0.0000002585\n"
     ]
    }
   ],
   "source": [
    "from scipy import stats\n",
    "\n",
    "res = stats.ttest_ind_from_stats(43.3, 14.2, 70, 58.0, 17.7, 70, equal_var=True)\n",
    "print('t = {0:.2f}, pval = {1:.10f}'.format(res.statistic, res.pvalue))"
   ]
  },
  {
   "cell_type": "markdown",
   "metadata": {},
   "source": [
    "Функция из пакета stats даёт такой же результат как у меня"
   ]
  },
  {
   "cell_type": "markdown",
   "metadata": {},
   "source": [
    "### 4.8"
   ]
  },
  {
   "cell_type": "code",
   "execution_count": 77,
   "metadata": {},
   "outputs": [
    {
     "name": "stdout",
     "output_type": "stream",
     "text": [
      "Есть различие между группами \"Не спортсмены\" и \"Бегуны трусцой, t=5.42\"\n",
      "Есть различие между группами \"Не спортсмены\" и \"Марафонцы, t=8.93\"\n"
     ]
    }
   ],
   "source": [
    "# Число сравнений - 2, поэтому уровень значимости 0.025\n",
    "# Число степеней свободы - 207\n",
    "# Критическое значение t = 2.327 - 0.005*(2.327-1.96)/0.03 \n",
    "limit = 2.327 - 0.005*(2.327-1.96)/0.03\n",
    "\n",
    "for i in range(1,3):\n",
    "    t = calc_student_t(n, groups33[0][0], groups33[0][1], n, groups33[i][0], groups33[i][1])\n",
    "    if t > limit:\n",
    "        print('Есть различие между группами \"{0}\" и \"{1}, t={2:.2f}\"'.format(group_names33[0], group_names33[i], t))"
   ]
  },
  {
   "cell_type": "markdown",
   "metadata": {},
   "source": [
    "### 4.9"
   ]
  },
  {
   "cell_type": "code",
   "execution_count": 103,
   "metadata": {},
   "outputs": [
    {
     "name": "stdout",
     "output_type": "stream",
     "text": [
      "pval=0.002380952380952381, limit=3.0550634920634923\n",
      "Нет различий между группами \"0 (контроль)\" и \"15, t=1.53\"\n",
      "Нет различий между группами \"15\" и \"30, t=2.23\"\n",
      "Нет различий между группами \"50\" и \"75 (тетрагидроканнабинота удалены), t=0.91\"\n",
      "Нет различий между группами \"75\" и \"150, t=1.31\"\n"
     ]
    }
   ],
   "source": [
    "group_names34 = [\n",
    "    '0 (контроль)',\n",
    "    '15',\n",
    "    '30',\n",
    "    '50',\n",
    "    '75',\n",
    "    '75 (тетрагидроканнабинота удалены)',\n",
    "    '150'\n",
    "]\n",
    "\n",
    "def get_std(se, n):\n",
    "    return se*math.sqrt(n)\n",
    "\n",
    "groups34 = [(85.1, get_std(0.3, 36)), (83.5, get_std(1.0, 36)), (80.9, get_std(0.6, 36)),\n",
    "           (72.6, get_std(0.7, 36)), (60.0, get_std(1.3, 36)), (73.5, get_std(0.7, 36)),\n",
    "           (63.8, get_std(2.6, 36))]\n",
    "\n",
    "# p1 > p > p2\n",
    "def get_limit(p1, val1, p2, val2, p):\n",
    "    return val2 - (p2-p)*(val2-val1)/(p2-p1)\n",
    "\n",
    "# Используем для простоты поправку Бонферрони\n",
    "n = 36\n",
    "v = 7*36-7\n",
    "compares = 7*6/2\n",
    "pval = 0.05/compares\n",
    "limit = get_limit(0.005, 2.808, 0.002, 3.091, pval)\n",
    "\n",
    "print('pval={0}, limit={1}'.format(pval, limit))\n",
    "\n",
    "for c in itertools.combinations(range(0,7), r=2):\n",
    "    t = calc_student_t(n, groups34[c[0]][0], groups34[c[0]][1], n, groups34[c[1]][0], groups34[c[1]][1])\n",
    "    if t <= limit:\n",
    "        print('Нет различий между группами \"{0}\" и \"{1}, t={2:.2f}\"'.format(group_names34[c[0]], group_names34[c[1]], t))\n",
    "#     else:\n",
    "#         print('Есть различия между группами \"{0}\" и \"{1}, t={2:.2f}\"'.format(group_names34[c[0]], group_names34[c[1]], t))"
   ]
  },
  {
   "cell_type": "markdown",
   "metadata": {},
   "source": [
    "### 4.10"
   ]
  },
  {
   "cell_type": "code",
   "execution_count": 154,
   "metadata": {},
   "outputs": [
    {
     "name": "stdout",
     "output_type": "stream",
     "text": [
      "v=79, pval=0.008333333333333333\n",
      "limit=2.7216666666666667\n",
      "Нет различий между группами \"Контроль\" и \"Дофамин (низкая доза), t=0.00\"\n",
      "Есть различия между группами \"Контроль\" и \"Дофамин (высокая доза), t=2.95\"\n",
      "Есть различия между группами \"Контроль\" и \"Нитропруссид, t=5.43\"\n",
      "Нет различий между группами \"Дофамин (низкая доза)\" и \"Дофамин (высокая доза), t=2.03\"\n",
      "Есть различия между группами \"Дофамин (низкая доза)\" и \"Нитропруссид, t=3.95\"\n",
      "Нет различий между группами \"Дофамин (высокая доза)\" и \"Нитропруссид, t=0.89\"\n"
     ]
    }
   ],
   "source": [
    "# По данным задачи 3.7 опишите различия групп. Используйте поправку Бонферрони.\n",
    "groups37 = [(15, get_std(1.0, 30), 30), (15, get_std(2.0, 13), 13),\n",
    "            (9, get_std(2.0, 20), 20), (7, get_std(1.0, 20), 20)]\n",
    "group_names37 = [\n",
    "    'Контроль',\n",
    "    'Дофамин (низкая доза)',\n",
    "    'Дофамин (высокая доза)',\n",
    "    'Нитропруссид'\n",
    "]\n",
    "\n",
    "v = 30+13+20+20-4\n",
    "compares = 4*3/2\n",
    "pval = 0.05/compares\n",
    "print('v={0}, pval={1}'.format(v, pval))\n",
    "\n",
    "limit = get_limit(0.01, 2.639, 0.005, 2.887, pval)\n",
    "print('limit={0}'.format(limit))\n",
    "\n",
    "for c in itertools.combinations(range(0,4), r=2):\n",
    "    t = calc_student_t(groups37[c[0]][2], groups37[c[0]][0], groups37[c[0]][1], groups37[c[1]][2], groups37[c[1]][0], groups37[c[1]][1])\n",
    "    if t <= limit:\n",
    "        print('Нет различий между группами \"{0}\" и \"{1}, t={2:.2f}\"'.format(group_names37[c[0]], group_names37[c[1]], t))\n",
    "    else:\n",
    "        print('Есть различия между группами \"{0}\" и \"{1}, t={2:.2f}\"'.format(group_names37[c[0]], group_names37[c[1]], t))"
   ]
  },
  {
   "cell_type": "markdown",
   "metadata": {},
   "source": [
    "### 4.11"
   ]
  },
  {
   "cell_type": "code",
   "execution_count": 167,
   "metadata": {},
   "outputs": [
    {
     "name": "stdout",
     "output_type": "stream",
     "text": [
      "v=79, pval=0.05\n",
      "Различия между группами \"Дофамин (низкая доза)\" и \"Нитропруссид, q=4.84\"\n",
      "Различия между группами \"Дофамин (низкая доза)\" и \"Дофамин (высокая доза), q=3.63\"\n",
      "Различия между группами \"Контроль\" и \"Нитропруссид, q=5.98\"\n",
      "Различия между группами \"Контроль\" и \"Дофамин (высокая доза), q=4.48\"\n"
     ]
    }
   ],
   "source": [
    "def get_limitq(p1, n1, p2, n2, n):\n",
    "    return p1 + (n-n1)*(p2-p1)/(n2-n1)\n",
    "\n",
    "def calc_q(m1, m2, d_in, na, nb):\n",
    "    return (m1-m2)/math.sqrt(d_in/2.0*(1.0/na+1.0/nb))\n",
    "\n",
    "\n",
    "def calc_newman_keuls(limits, groups, group_names):\n",
    "    groups_with_pos = [(v[0], v[1], v[2], i) for i, v in enumerate(groups)]\n",
    "    groups_sorted = sorted(groups_with_pos, key=lambda t: t[0])\n",
    "    \n",
    "    v = np.sum([t[2] for t in groups_sorted]) - len(groups_sorted)\n",
    "    print('v={0}, pval={1}'.format(v, 0.05))\n",
    "\n",
    "    d_sum = np.sum([(g[2]-1)*g[1]**2 for g in groups_sorted])\n",
    "    d_in =  d_sum/v\n",
    "    for i in range(len(groups)-1,0,-1):\n",
    "        for j in range(0,i):\n",
    "#             print(i,j)\n",
    "            l = i-j+1\n",
    "            pos_l = l-2\n",
    "            q = calc_q(groups_sorted[i][0], groups_sorted[j][0],\n",
    "                      d_in,\n",
    "                      groups_sorted[i][2], groups_sorted[j][2])\n",
    "#             print(q)\n",
    "            if abs(q) > limits[pos_l]:\n",
    "                pos1 = groups_sorted[i][3]\n",
    "                pos2 = groups_sorted[j][3]\n",
    "                print('Различия между группами \"{0}\" и \"{1}, q={2:.2f}\"'.format(group_names[pos1], group_names[pos2], q))\n",
    "            else:\n",
    "                break\n",
    "\n",
    "limits = [get_limitq(2.829, 60, 2.8, 120, v),\n",
    "          get_limitq(3.399, 60, 3.356, 120, v),\n",
    "          get_limitq(3.737, 60, 3.685, 120, v)]\n",
    "                \n",
    "calc_newman_keuls(limits, groups37, group_names37)"
   ]
  },
  {
   "cell_type": "markdown",
   "metadata": {},
   "source": [
    "### 4.12"
   ]
  },
  {
   "cell_type": "code",
   "execution_count": 168,
   "metadata": {},
   "outputs": [
    {
     "name": "stdout",
     "output_type": "stream",
     "text": [
      "v=90, pval=0.05\n",
      "Различия между группами \"Терапия 3\" и \"Хирургия 3, q=5.36\"\n",
      "Различия между группами \"Терапия 3\" и \"Терапия 2, q=4.73\"\n",
      "Различия между группами \"Терапия 3\" и \"Хирургия 1, q=3.85\"\n",
      "Различия между группами \"Терапия 3\" и \"Терапия 1, q=3.52\"\n"
     ]
    }
   ],
   "source": [
    "# Применим критерий Newman-Keuls (https://en.wikipedia.org/wiki/Newman%E2%80%93Keuls_method)\n",
    "\n",
    "n = 16\n",
    "groups36 = [(49.9, 14.3), (51.2, 13.4), (57.3, 14.9),\n",
    "            (46.4, 14.7), (43.9, 16.5), (65.2, 20.5)]\n",
    "\n",
    "groups36_with_n = [(v[0], v[1], n) for v in groups36]\n",
    "\n",
    "group_names36 = [\n",
    "    'Хирургия 1',\n",
    "    'Терапия 1',\n",
    "    'Хирургия 2',\n",
    "    'Терапия 2',\n",
    "    'Хирургия 3',\n",
    "    'Терапия 3',\n",
    "]\n",
    "\n",
    "v = (len(groups36))*(16-1)\n",
    "\n",
    "limits = [get_limitq(2.829, 60, 2.8, 120, v), #l=2\n",
    "         get_limitq(3.399, 60, 3.356, 120, v), #3\n",
    "         get_limitq(3.737, 60, 3.685, 120, v), #4\n",
    "         get_limitq(3.977, 60, 3.917, 120, v), #5\n",
    "         get_limitq(4.163, 60, 4.096, 120, v)] #6\n",
    "\n",
    "calc_newman_keuls(limits, groups36_with_n, group_names36)"
   ]
  }
 ],
 "metadata": {
  "kernelspec": {
   "display_name": "Python 3",
   "language": "python",
   "name": "python3"
  },
  "language_info": {
   "codemirror_mode": {
    "name": "ipython",
    "version": 3
   },
   "file_extension": ".py",
   "mimetype": "text/x-python",
   "name": "python",
   "nbconvert_exporter": "python",
   "pygments_lexer": "ipython3",
   "version": "3.6.8"
  }
 },
 "nbformat": 4,
 "nbformat_minor": 2
}
