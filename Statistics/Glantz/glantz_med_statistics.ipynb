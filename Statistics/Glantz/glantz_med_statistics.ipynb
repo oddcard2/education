{
 "cells": [
  {
   "cell_type": "markdown",
   "metadata": {},
   "source": [
    "## Задачи к главе 2"
   ]
  },
  {
   "cell_type": "markdown",
   "metadata": {},
   "source": [
    "### 2.1"
   ]
  },
  {
   "cell_type": "code",
   "execution_count": 21,
   "metadata": {},
   "outputs": [
    {
     "name": "stdout",
     "output_type": "stream",
     "text": [
      "median = 2.00, p25 = 1.00, p75 = 5.00\n",
      "mean = 3.09, std = 2.84\n"
     ]
    }
   ],
   "source": [
    "import numpy as np\n",
    "\n",
    "def print_m_p25_p75(m, p25, p75):\n",
    "    print('median = {0:.2f}, p25 = {1:.2f}, p75 = {2:.2f}'.format(m, p25, p75))\n",
    "\n",
    "def get_m_p25_p75(vals, printing=False):\n",
    "    m = np.median(vals)\n",
    "    p25 = np.percentile(vals, 25)\n",
    "    p75 = np.percentile(vals, 75)\n",
    "    if printing:\n",
    "        print_m_p25_p75(m, p25, p75)\n",
    "    return (m, p25, p75)\n",
    "\n",
    "def print_mean_std(m, std):\n",
    "    print('mean = {0:.2f}, std = {1:.2f}'.format(m, std))\n",
    "\n",
    "def get_mean_std(vals, printing=False):\n",
    "    m, std = np.mean(vals), np.std(vals)\n",
    "    if printing:\n",
    "        print_mean_std(m, std)\n",
    "    return (m, std)\n",
    "\n",
    "vals = np.asarray([0,0,0,1,1,1,1,1,1,1,1,1,1,1,2,2,2,2,3,3,3,3,4,4,5,5,5,5,6,7,9,10,11], dtype=np.float)\n",
    "get_m_p25_p75(vals, True)\n",
    "_,_= get_mean_std(vals, True)"
   ]
  },
  {
   "cell_type": "markdown",
   "metadata": {},
   "source": [
    "### 2.2"
   ]
  },
  {
   "cell_type": "code",
   "execution_count": 22,
   "metadata": {},
   "outputs": [
    {
     "name": "stdout",
     "output_type": "stream",
     "text": [
      "median = 235.50, p25 = 217.75, p75 = 247.25\n",
      "mean = 243.92, std = 41.21\n"
     ]
    }
   ],
   "source": [
    "vals = np.asarray([289,203,359,243,232,210,251,246,224,239,220,211])\n",
    "get_m_p25_p75(vals, True)\n",
    "_,_= get_mean_std(vals, True)"
   ]
  },
  {
   "cell_type": "markdown",
   "metadata": {},
   "source": [
    "### 2.3"
   ]
  },
  {
   "cell_type": "code",
   "execution_count": 23,
   "metadata": {},
   "outputs": [
    {
     "name": "stdout",
     "output_type": "stream",
     "text": [
      "median = 2.00, p25 = 1.67, p75 = 3.40\n",
      "mean = 5.44, std = 7.27\n"
     ]
    }
   ],
   "source": [
    "vals = np.asarray([1.2,1.4,1.6,1.7,1.7,1.8,2.2,2.3,2.4,6.4,19.0,23.6])\n",
    "get_m_p25_p75(vals, True)\n",
    "_,_= get_mean_std(vals, True)"
   ]
  },
  {
   "cell_type": "markdown",
   "metadata": {},
   "source": [
    "### 2.4"
   ]
  },
  {
   "cell_type": "markdown",
   "metadata": {},
   "source": [
    "Распределение равномерное"
   ]
  },
  {
   "cell_type": "code",
   "execution_count": 24,
   "metadata": {},
   "outputs": [
    {
     "name": "stdout",
     "output_type": "stream",
     "text": [
      "mean = 3.50\n"
     ]
    }
   ],
   "source": [
    "vals = [1,2,3,4,5,6]\n",
    "print('mean = {0:.2f}'.format(np.mean(vals)))"
   ]
  },
  {
   "cell_type": "markdown",
   "metadata": {},
   "source": [
    "### 2.5"
   ]
  },
  {
   "cell_type": "code",
   "execution_count": 60,
   "metadata": {},
   "outputs": [
    {
     "name": "stdout",
     "output_type": "stream",
     "text": [
      "mean = 3.85, std = 1.15\n"
     ]
    },
    {
     "data": {
      "image/png": "[encoded data removed]",
      "text/plain": [
       "<Figure size 432x288 with 1 Axes>"
      ]
     },
     "metadata": {
      "needs_background": "light"
     },
     "output_type": "display_data"
    }
   ],
   "source": [
    "%matplotlib inline\n",
    "import matplotlib.pyplot as plt\n",
    "\n",
    "np.random.seed(42)\n",
    "\n",
    "count = 20\n",
    "\n",
    "scores1, scores2 = np.random.randint(1,7, count), np.random.randint(1,7, count)\n",
    "scores=np.array([scores1, scores2]).reshape((-1,2))\n",
    "scores_means = np.mean(scores, axis=1)\n",
    "\n",
    "plt.hist(scores_means)\n",
    "\n",
    "_,_= get_mean_std(scores_means, True)"
   ]
  },
  {
   "cell_type": "markdown",
   "metadata": {},
   "source": [
    "### 2.6"
   ]
  },
  {
   "cell_type": "markdown",
   "metadata": {},
   "source": [
    "У статьи есть минимум 1 автор, следовательно минимальное значения для распределения это 1. От него до среднего значения, чтобы оно выглядело как нормальное должно быть 2 стандартных отклонения.\n",
    "В первом случае и втором случаях от 1 до среднего меньше одного std.\n",
    "Значит большинство значений лежит слева и далее вытянуто убывает вправо.\n",
    "В третьем случае похоже на нормальное.\n",
    "Четвёртый случай похож на первые 2.\n",
    "\n",
    "К тому же средние данных выборок, хотя их всего 4, не образуют нормального распределения, а просто возрастают.\n",
    "\n",
    "Попробуем сэмулировать эти 4 ситуации."
   ]
  },
  {
   "cell_type": "code",
   "execution_count": 106,
   "metadata": {},
   "outputs": [
    {
     "name": "stdout",
     "output_type": "stream",
     "text": [
      "mean = 2.00, std = 1.40\n"
     ]
    },
    {
     "data": {
      "image/png": "[encoded data removed]",
      "text/plain": [
       "<Figure size 432x288 with 1 Axes>"
      ]
     },
     "metadata": {
      "needs_background": "light"
     },
     "output_type": "display_data"
    }
   ],
   "source": [
    "vals1 = np.concatenate([[1]*75, [2]*40, [3]*17, [4]*8, [5]*5, [6]*4, [7]*1, [8]*1])\n",
    "_,_= get_mean_std(vals1, True)\n",
    "len(vals1)\n",
    "\n",
    "_ = plt.hist(vals1)"
   ]
  },
  {
   "cell_type": "markdown",
   "metadata": {},
   "source": [
    "Первый случай показывает пример такого вида распределения.\n",
    "Остальные 3 случая видимо похожи на него, просто возрастает доля статей с большим числом авторов\n",
    "В четвёртом похоже на выброс, когда есть статья с аномально большим числом авторов:"
   ]
  },
  {
   "cell_type": "code",
   "execution_count": 230,
   "metadata": {},
   "outputs": [
    {
     "name": "stdout",
     "output_type": "stream",
     "text": [
      "mean = 4.90, std = 7.33\n"
     ]
    },
    {
     "data": {
      "image/png": "[encoded data removed]",
      "text/plain": [
       "<Figure size 432x288 with 1 Axes>"
      ]
     },
     "metadata": {
      "needs_background": "light"
     },
     "output_type": "display_data"
    }
   ],
   "source": [
    "vals4 = np.concatenate([[1]*30, [2]*15, [3]*25, [4]*20,\n",
    "                        [5]*18, [6]*12, [7]*10, [8]*8,\n",
    "                       [9]*6, [10]*5, [11]*4, [12]*1,\n",
    "                       [89]*1])\n",
    "_,_= get_mean_std(vals4, True)\n",
    "len(vals4)\n",
    "\n",
    "_ = plt.hist(vals4, bins=100)"
   ]
  }
 ],
 "metadata": {
  "kernelspec": {
   "display_name": "Python 3",
   "language": "python",
   "name": "python3"
  },
  "language_info": {
   "codemirror_mode": {
    "name": "ipython",
    "version": 3
   },
   "file_extension": ".py",
   "mimetype": "text/x-python",
   "name": "python",
   "nbconvert_exporter": "python",
   "pygments_lexer": "ipython3",
   "version": "3.6.8"
  }
 },
 "nbformat": 4,
 "nbformat_minor": 2
}
