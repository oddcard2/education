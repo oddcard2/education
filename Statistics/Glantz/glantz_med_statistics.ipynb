{
 "cells": [
  {
   "cell_type": "markdown",
   "metadata": {},
   "source": [
    "## Задачи к главе 2"
   ]
  },
  {
   "cell_type": "markdown",
   "metadata": {},
   "source": [
    "### 2.1"
   ]
  },
  {
   "cell_type": "code",
   "execution_count": 4,
   "metadata": {},
   "outputs": [
    {
     "name": "stdout",
     "output_type": "stream",
     "text": [
      "median = 2.00, p25 = 1.00, p75 = 5.00\n",
      "mean = 3.09, std = 2.84\n"
     ]
    }
   ],
   "source": [
    "import numpy as np\n",
    "\n",
    "def print_m_p25_p75(m, p25, p75):\n",
    "    print('median = {0:.2f}, p25 = {1:.2f}, p75 = {2:.2f}'.format(m, p25, p75))\n",
    "\n",
    "def get_m_p25_p75(vals, printing=False):\n",
    "    m = np.median(vals)\n",
    "    p25 = np.percentile(vals, 25)\n",
    "    p75 = np.percentile(vals, 75)\n",
    "    if printing:\n",
    "        print_m_p25_p75(m, p25, p75)\n",
    "    return (m, p25, p75)\n",
    "\n",
    "def print_mean_std(m, std):\n",
    "    print('mean = {0:.2f}, std = {1:.2f}'.format(m, std))\n",
    "\n",
    "def get_mean_std(vals, printing=False):\n",
    "    m, std = np.mean(vals), np.std(vals)\n",
    "    if printing:\n",
    "        print_mean_std(m, std)\n",
    "    return (m, std)\n",
    "\n",
    "vals = np.asarray([0,0,0,1,1,1,1,1,1,1,1,1,1,1,2,2,2,2,3,3,3,3,4,4,5,5,5,5,6,7,9,10,11], dtype=np.float)\n",
    "get_m_p25_p75(vals, True)\n",
    "_,_= get_mean_std(vals, True)"
   ]
  },
  {
   "cell_type": "markdown",
   "metadata": {},
   "source": [
    "### 2.2"
   ]
  },
  {
   "cell_type": "code",
   "execution_count": 5,
   "metadata": {},
   "outputs": [
    {
     "name": "stdout",
     "output_type": "stream",
     "text": [
      "median = 235.50, p25 = 217.75, p75 = 247.25\n",
      "mean = 243.92, std = 41.21\n"
     ]
    }
   ],
   "source": [
    "vals = np.asarray([289,203,359,243,232,210,251,246,224,239,220,211])\n",
    "get_m_p25_p75(vals, True)\n",
    "_,_= get_mean_std(vals, True)"
   ]
  },
  {
   "cell_type": "markdown",
   "metadata": {},
   "source": [
    "### 2.3"
   ]
  },
  {
   "cell_type": "code",
   "execution_count": 6,
   "metadata": {},
   "outputs": [
    {
     "name": "stdout",
     "output_type": "stream",
     "text": [
      "median = 2.00, p25 = 1.67, p75 = 3.40\n",
      "mean = 5.44, std = 7.27\n"
     ]
    }
   ],
   "source": [
    "vals = np.asarray([1.2,1.4,1.6,1.7,1.7,1.8,2.2,2.3,2.4,6.4,19.0,23.6])\n",
    "get_m_p25_p75(vals, True)\n",
    "_,_= get_mean_std(vals, True)"
   ]
  },
  {
   "cell_type": "markdown",
   "metadata": {},
   "source": [
    "### 2.4"
   ]
  },
  {
   "cell_type": "markdown",
   "metadata": {},
   "source": [
    "Распределение равномерное"
   ]
  },
  {
   "cell_type": "code",
   "execution_count": 7,
   "metadata": {},
   "outputs": [
    {
     "name": "stdout",
     "output_type": "stream",
     "text": [
      "mean = 3.50\n"
     ]
    }
   ],
   "source": [
    "vals = [1,2,3,4,5,6]\n",
    "print('mean = {0:.2f}'.format(np.mean(vals)))"
   ]
  },
  {
   "cell_type": "markdown",
   "metadata": {},
   "source": [
    "### 2.5"
   ]
  },
  {
   "cell_type": "code",
   "execution_count": 8,
   "metadata": {},
   "outputs": [
    {
     "name": "stdout",
     "output_type": "stream",
     "text": [
      "mean = 3.85, std = 1.15\n"
     ]
    },
    {
     "data": {
      "image/png": "[encoded data removed]",
      "text/plain": [
       "<Figure size 432x288 with 1 Axes>"
      ]
     },
     "metadata": {
      "needs_background": "light"
     },
     "output_type": "display_data"
    }
   ],
   "source": [
    "%matplotlib inline\n",
    "import matplotlib.pyplot as plt\n",
    "\n",
    "np.random.seed(42)\n",
    "\n",
    "count = 20\n",
    "\n",
    "scores1, scores2 = np.random.randint(1,7, count), np.random.randint(1,7, count)\n",
    "scores=np.array([scores1, scores2]).reshape((-1,2))\n",
    "scores_means = np.mean(scores, axis=1)\n",
    "\n",
    "plt.hist(scores_means)\n",
    "\n",
    "_,_= get_mean_std(scores_means, True)"
   ]
  },
  {
   "cell_type": "markdown",
   "metadata": {},
   "source": [
    "### 2.6"
   ]
  },
  {
   "cell_type": "markdown",
   "metadata": {},
   "source": [
    "Допустим распределение числа авторов не зависит от года, т.е. мы имеем 4 выборки из одной генеральной совокупности, посмотрим как распределены средние этих выборок"
   ]
  },
  {
   "cell_type": "code",
   "execution_count": 13,
   "metadata": {},
   "outputs": [
    {
     "name": "stdout",
     "output_type": "stream",
     "text": [
      "mean = 3.00, std = 1.13\n"
     ]
    },
    {
     "data": {
      "image/png": "[encoded data removed]",
      "text/plain": [
       "<Figure size 432x288 with 1 Axes>"
      ]
     },
     "metadata": {
      "needs_background": "light"
     },
     "output_type": "display_data"
    }
   ],
   "source": [
    "means = np.asarray([2.0, 2.3, 2.8, 4.9])\n",
    "_ = plt.hist(means)\n",
    "\n",
    "_,_= get_mean_std(means, True)"
   ]
  },
  {
   "cell_type": "markdown",
   "metadata": {},
   "source": [
    "По 4 выборкам конечно сложно судить о характере распределения, в целом std не сильно большое для 4-х значений, т.е. std ген совокупности в таком случае должен быть примерно в 2 раза больше - т.е. около 2-х. Т.к. sqrt(4)=2"
   ]
  },
  {
   "cell_type": "markdown",
   "metadata": {},
   "source": [
    "Попробуем зайти с другой стороны.\n",
    "У статьи есть минимум 1 автор, следовательно минимальное значения для распределения это 1. От него до среднего значения, чтобы оно выглядело как нормальное должно быть 2 стандартных отклонения.\n",
    "В первом случае и втором случаях от 1 до среднего меньше одного std.\n",
    "Значит большинство значений лежит слева и далее вытянуто убывает вправо.\n",
    "В третьем случае похоже на нормальное.\n",
    "Четвёртый случай похож на первые 2.\n",
    "\n",
    "К тому же средние данных выборок, хотя их всего 4, не образуют нормального распределения, а просто возрастают.\n",
    "\n",
    "Попробуем сэмулировать эти 4 ситуации."
   ]
  },
  {
   "cell_type": "code",
   "execution_count": 10,
   "metadata": {},
   "outputs": [
    {
     "name": "stdout",
     "output_type": "stream",
     "text": [
      "mean = 2.00, std = 1.40\n"
     ]
    },
    {
     "data": {
      "image/png": "[encoded data removed]",
      "text/plain": [
       "<Figure size 432x288 with 1 Axes>"
      ]
     },
     "metadata": {
      "needs_background": "light"
     },
     "output_type": "display_data"
    }
   ],
   "source": [
    "vals1 = np.concatenate([[1]*75, [2]*40, [3]*17, [4]*8, [5]*5, [6]*4, [7]*1, [8]*1])\n",
    "_,_= get_mean_std(vals1, True)\n",
    "len(vals1)\n",
    "\n",
    "_ = plt.hist(vals1)"
   ]
  },
  {
   "cell_type": "markdown",
   "metadata": {},
   "source": [
    "Первый случай показывает пример такого вида распределения.\n",
    "Остальные 3 случая видимо похожи на него, просто возрастает доля статей с большим числом авторов\n",
    "В четвёртом похоже на выброс, когда есть статья с аномально большим числом авторов:"
   ]
  },
  {
   "cell_type": "code",
   "execution_count": 11,
   "metadata": {},
   "outputs": [
    {
     "name": "stdout",
     "output_type": "stream",
     "text": [
      "mean = 4.90, std = 7.33\n"
     ]
    },
    {
     "data": {
      "image/png": "[encoded data removed]",
      "text/plain": [
       "<Figure size 432x288 with 1 Axes>"
      ]
     },
     "metadata": {
      "needs_background": "light"
     },
     "output_type": "display_data"
    }
   ],
   "source": [
    "vals4 = np.concatenate([[1]*30, [2]*15, [3]*25, [4]*20,\n",
    "                        [5]*18, [6]*12, [7]*10, [8]*8,\n",
    "                       [9]*6, [10]*5, [11]*4, [12]*1,\n",
    "                       [89]*1])\n",
    "_,_= get_mean_std(vals4, True)\n",
    "len(vals4)\n",
    "\n",
    "_ = plt.hist(vals4, bins=100)"
   ]
  },
  {
   "cell_type": "markdown",
   "metadata": {},
   "source": [
    "## Задачи к главе 3"
   ]
  },
  {
   "cell_type": "markdown",
   "metadata": {},
   "source": [
    "Полезная ссылка для расчёта - http://statpages.info/anova1sm.html\n",
    "\n",
    "Хотя в книге есть ответы"
   ]
  },
  {
   "cell_type": "markdown",
   "metadata": {},
   "source": [
    "### 3.1"
   ]
  },
  {
   "cell_type": "code",
   "execution_count": 68,
   "metadata": {},
   "outputs": [
    {
     "name": "stdout",
     "output_type": "stream",
     "text": [
      "F = 9.56, w_d = 3.95, i_d = 37.79, m_sd = 1.21\n",
      "F = 15.74, w_d = 19.45, i_d = 306.18, m_sd = 3.82\n",
      "F = 15.74, F (0.05) = 4.08, F (0.01) = 7.31\n"
     ]
    }
   ],
   "source": [
    "from scipy import stats\n",
    "import math\n",
    "\n",
    "\n",
    "def calc_tstd(means):\n",
    "    m = np.mean(means)\n",
    "    sq_sum = np.sum(np.square(np.full(len(means), m) - means)) / (len(means) - 1)\n",
    "    return math.sqrt(sq_sum)\n",
    "\n",
    "def calc_f(n, means, stds, se=False, printing=True):\n",
    "    if se:\n",
    "        sq_n = math.sqrt(n)\n",
    "        stds = [v*sq_n for v in stds]\n",
    "    within_d = np.mean(np.square(stds))\n",
    "    mean_std = calc_tstd(means) # stats.tstd(means)\n",
    "    inter_d = (mean_std**2)*n\n",
    "    f = inter_d/within_d\n",
    "    if printing:\n",
    "        print('F = {0:.2f}, w_d = {1:.2f}, i_d = {2:.2f}, m_sd = {3:.2f}'.format(f, within_d, inter_d, mean_std))\n",
    "    return f\n",
    "\n",
    "# test with example of women sport and menstruation\n",
    "calc_f(26, [11.5, 10.1, 9.1], [1.3, 2.1, 2.4])\n",
    "\n",
    "# 2 groups and n=21, so inter df = 1 and inner df = 20*2 = 40\n",
    "f = calc_f(21, [8.5, 13.9], [4.7, 4.1])\n",
    "\n",
    "def print_f(f, dfn, dfd):\n",
    "    f_005 = stats.f.ppf(q=1-0.05, dfn=dfn, dfd=dfd)\n",
    "    f_001 = stats.f.ppf(q=1-0.01, dfn=dfn, dfd=dfd)\n",
    "    print('F = {0:.2f}, F (0.05) = {1:.2f}, F (0.01) = {2:.2f}'.format(f, f_005, f_001))\n",
    "    \n",
    "print_f(f, 1, 40)"
   ]
  },
  {
   "cell_type": "markdown",
   "metadata": {},
   "source": [
    "Видим, что F больше чем критического значение при уровне значимости 0.01, поэтому отклоняем нулевую гипотезу и считаем что получили статичтически значимое отличие между данными группами"
   ]
  },
  {
   "cell_type": "markdown",
   "metadata": {},
   "source": [
    "### 3.2"
   ]
  },
  {
   "cell_type": "code",
   "execution_count": 58,
   "metadata": {},
   "outputs": [
    {
     "name": "stdout",
     "output_type": "stream",
     "text": [
      "F = 64.18, w_d = 0.52, i_d = 33.29, m_sd = 0.41\n",
      "F = 64.18, F (0.05) = 2.38, F (0.01) = 3.34\n"
     ]
    }
   ],
   "source": [
    "f = calc_f(200, [3.17, 2.72, 2.63, 2.29, 2.12], [0.74, 0.71, 0.73, 0.70, 0.72])\n",
    "print_f(f, 5-1, 199*5)"
   ]
  },
  {
   "cell_type": "markdown",
   "metadata": {},
   "source": [
    "По данным видно, что высока вероятность, что результат в группах отличается"
   ]
  },
  {
   "cell_type": "markdown",
   "metadata": {},
   "source": [
    "### 3.3"
   ]
  },
  {
   "cell_type": "code",
   "execution_count": 59,
   "metadata": {},
   "outputs": [
    {
     "name": "stdout",
     "output_type": "stream",
     "text": [
      "F = 35.25, w_d = 239.81, i_d = 8453.43, m_sd = 10.99\n",
      "F = 35.25, F (0.05) = 3.04, F (0.01) = 4.71\n"
     ]
    }
   ],
   "source": [
    "f = calc_f(70, [43.3, 58.0, 64.8], [14.2, 17.7, 14.3])\n",
    "print_f(f, 3-1, 69*3)"
   ]
  },
  {
   "cell_type": "markdown",
   "metadata": {},
   "source": [
    "Есть статистическая значимость различий между группами"
   ]
  },
  {
   "cell_type": "markdown",
   "metadata": {},
   "source": [
    "### 3.4"
   ]
  },
  {
   "cell_type": "code",
   "execution_count": 69,
   "metadata": {},
   "outputs": [
    {
     "name": "stdout",
     "output_type": "stream",
     "text": [
      "F = 60.38, w_d = 55.95, i_d = 3378.24, m_sd = 9.69\n",
      "F = 60.38, F (0.05) = 2.14, F (0.01) = 2.88\n"
     ]
    }
   ],
   "source": [
    "f = calc_f(36, [85.1, 83.5, 80.9, 72.6, 60, 73.5, 63.8], [0.3, 1.0, 0.6, 0.7, 1.3, 0.7, 2.6], se=True)\n",
    "print_f(f, 7-1, 35*7)"
   ]
  },
  {
   "cell_type": "markdown",
   "metadata": {},
   "source": [
    "Есть статистическая значимость различий между группами"
   ]
  },
  {
   "cell_type": "markdown",
   "metadata": {},
   "source": [
    "### 3.5"
   ]
  },
  {
   "cell_type": "code",
   "execution_count": 70,
   "metadata": {},
   "outputs": [
    {
     "name": "stdout",
     "output_type": "stream",
     "text": [
      "F = 2.51, w_d = 458.10, i_d = 1152.00, m_sd = 5.66\n",
      "F = 2.51, F (0.05) = 3.98, F (0.01) = 7.01\n"
     ]
    }
   ],
   "source": [
    "f = calc_f(36, [51.4, 59.4], [3.2, 3.9], se=True)\n",
    "print_f(f, 2-1, 35*2)"
   ]
  },
  {
   "cell_type": "markdown",
   "metadata": {},
   "source": [
    "Различия между группами НЕ являются статистически значимыми"
   ]
  },
  {
   "cell_type": "markdown",
   "metadata": {},
   "source": [
    "### 3.6"
   ]
  },
  {
   "cell_type": "code",
   "execution_count": 43,
   "metadata": {},
   "outputs": [
    {
     "name": "stdout",
     "output_type": "stream",
     "text": [
      "F = 3.85, w_d = 252.44, i_d = 971.99, m_sd = 7.79\n",
      "F = 3.85, F (0.05) = 2.32, F (0.01) = 3.23\n"
     ]
    }
   ],
   "source": [
    "f = calc_f(16, [49.9, 51.2, 57.3, 46.4, 43.9, 65.2], [14.3, 13.4, 14.9, 14.7, 16.5, 20.5])\n",
    "print_f(f, 6-1, 15*6)"
   ]
  },
  {
   "cell_type": "markdown",
   "metadata": {},
   "source": [
    "Различия между группами являются статистически значимыми"
   ]
  },
  {
   "cell_type": "markdown",
   "metadata": {},
   "source": [
    "### 3.7"
   ]
  },
  {
   "cell_type": "code",
   "execution_count": 80,
   "metadata": {},
   "outputs": [
    {
     "name": "stdout",
     "output_type": "stream",
     "text": [
      "F = 8.19\n",
      "F = 8.19, F (0.05) = 2.72, F (0.01) = 4.04\n"
     ]
    }
   ],
   "source": [
    "def calc_f_n(nums, means, stds, se=True, pr=True):\n",
    "    if se:\n",
    "        stds = [s*math.sqrt(ni) for ni,s in zip(nums, stds)]\n",
    "    n = np.sum(nums)\n",
    "    k = len(nums)\n",
    "    s_in = np.sum([(ni-1)*(s**2) for ni, s in zip(nums, stds)])\n",
    "    v_in = n - k\n",
    "    s_out = np.sum([ni*(m**2) for ni, m in zip(nums, means)]) - (np.sum([ni*m for ni, m in zip(nums, means)]))**2 / n\n",
    "    v_out = k - 1\n",
    "    f = (s_out / v_out) / (s_in / v_in)\n",
    "    if pr:\n",
    "        print('F = {0:.2f}'.format(f))\n",
    "    return f\n",
    "nums = [30, 13, 20, 20]\n",
    "f = calc_f_n(nums, [15, 15, 9, 7], [1, 2, 2 , 1])\n",
    "print_f(f, len(nums)-1, np.sum(nums)-len(nums))"
   ]
  },
  {
   "cell_type": "markdown",
   "metadata": {},
   "source": [
    "Различия между группами являются статистически значимыми"
   ]
  },
  {
   "cell_type": "markdown",
   "metadata": {},
   "source": [
    "### 3.8 "
   ]
  },
  {
   "cell_type": "code",
   "execution_count": 81,
   "metadata": {},
   "outputs": [
    {
     "name": "stdout",
     "output_type": "stream",
     "text": [
      "F = 0.41\n",
      "F = 0.41, F (0.05) = 2.46, F (0.01) = 3.51\n"
     ]
    }
   ],
   "source": [
    "nums = [15, 37, 31, 13, 10]\n",
    "f = calc_f_n(nums, [257, 196, 221, 280, 310], [159, 359, 340, 263, 95], se=False)\n",
    "print_f(f, len(nums)-1, np.sum(nums)-len(nums))"
   ]
  },
  {
   "cell_type": "markdown",
   "metadata": {},
   "source": [
    "Различия между группами НЕ являются статистически значимыми"
   ]
  }
 ],
 "metadata": {
  "kernelspec": {
   "display_name": "Python [default]",
   "language": "python",
   "name": "python3"
  },
  "language_info": {
   "codemirror_mode": {
    "name": "ipython",
    "version": 3
   },
   "file_extension": ".py",
   "mimetype": "text/x-python",
   "name": "python",
   "nbconvert_exporter": "python",
   "pygments_lexer": "ipython3",
   "version": "3.5.6"
  }
 },
 "nbformat": 4,
 "nbformat_minor": 2
}
