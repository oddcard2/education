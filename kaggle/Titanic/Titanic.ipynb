{
 "cells": [
  {
   "cell_type": "markdown",
   "metadata": {},
   "source": [
    "# Loading of data"
   ]
  },
  {
   "cell_type": "code",
   "execution_count": 282,
   "metadata": {},
   "outputs": [
    {
     "data": {
      "text/html": [
       "<div>\n",
       "<style>\n",
       "    .dataframe thead tr:only-child th {\n",
       "        text-align: right;\n",
       "    }\n",
       "\n",
       "    .dataframe thead th {\n",
       "        text-align: left;\n",
       "    }\n",
       "\n",
       "    .dataframe tbody tr th {\n",
       "        vertical-align: top;\n",
       "    }\n",
       "</style>\n",
       "<table border=\"1\" class=\"dataframe\">\n",
       "  <thead>\n",
       "    <tr style=\"text-align: right;\">\n",
       "      <th></th>\n",
       "      <th>PassengerId</th>\n",
       "      <th>Survived</th>\n",
       "      <th>Pclass</th>\n",
       "      <th>Name</th>\n",
       "      <th>Sex</th>\n",
       "      <th>Age</th>\n",
       "      <th>SibSp</th>\n",
       "      <th>Parch</th>\n",
       "      <th>Ticket</th>\n",
       "      <th>Fare</th>\n",
       "      <th>Cabin</th>\n",
       "      <th>Embarked</th>\n",
       "    </tr>\n",
       "  </thead>\n",
       "  <tbody>\n",
       "    <tr>\n",
       "      <th>0</th>\n",
       "      <td>1</td>\n",
       "      <td>0</td>\n",
       "      <td>3</td>\n",
       "      <td>Braund, Mr. Owen Harris</td>\n",
       "      <td>male</td>\n",
       "      <td>22.0</td>\n",
       "      <td>1</td>\n",
       "      <td>0</td>\n",
       "      <td>A/5 21171</td>\n",
       "      <td>7.2500</td>\n",
       "      <td>NaN</td>\n",
       "      <td>S</td>\n",
       "    </tr>\n",
       "    <tr>\n",
       "      <th>1</th>\n",
       "      <td>2</td>\n",
       "      <td>1</td>\n",
       "      <td>1</td>\n",
       "      <td>Cumings, Mrs. John Bradley (Florence Briggs Th...</td>\n",
       "      <td>female</td>\n",
       "      <td>38.0</td>\n",
       "      <td>1</td>\n",
       "      <td>0</td>\n",
       "      <td>PC 17599</td>\n",
       "      <td>71.2833</td>\n",
       "      <td>C85</td>\n",
       "      <td>C</td>\n",
       "    </tr>\n",
       "    <tr>\n",
       "      <th>2</th>\n",
       "      <td>3</td>\n",
       "      <td>1</td>\n",
       "      <td>3</td>\n",
       "      <td>Heikkinen, Miss. Laina</td>\n",
       "      <td>female</td>\n",
       "      <td>26.0</td>\n",
       "      <td>0</td>\n",
       "      <td>0</td>\n",
       "      <td>STON/O2. 3101282</td>\n",
       "      <td>7.9250</td>\n",
       "      <td>NaN</td>\n",
       "      <td>S</td>\n",
       "    </tr>\n",
       "    <tr>\n",
       "      <th>3</th>\n",
       "      <td>4</td>\n",
       "      <td>1</td>\n",
       "      <td>1</td>\n",
       "      <td>Futrelle, Mrs. Jacques Heath (Lily May Peel)</td>\n",
       "      <td>female</td>\n",
       "      <td>35.0</td>\n",
       "      <td>1</td>\n",
       "      <td>0</td>\n",
       "      <td>113803</td>\n",
       "      <td>53.1000</td>\n",
       "      <td>C123</td>\n",
       "      <td>S</td>\n",
       "    </tr>\n",
       "    <tr>\n",
       "      <th>4</th>\n",
       "      <td>5</td>\n",
       "      <td>0</td>\n",
       "      <td>3</td>\n",
       "      <td>Allen, Mr. William Henry</td>\n",
       "      <td>male</td>\n",
       "      <td>35.0</td>\n",
       "      <td>0</td>\n",
       "      <td>0</td>\n",
       "      <td>373450</td>\n",
       "      <td>8.0500</td>\n",
       "      <td>NaN</td>\n",
       "      <td>S</td>\n",
       "    </tr>\n",
       "  </tbody>\n",
       "</table>\n",
       "</div>"
      ],
      "text/plain": [
       "   PassengerId  Survived  Pclass  \\\n",
       "0            1         0       3   \n",
       "1            2         1       1   \n",
       "2            3         1       3   \n",
       "3            4         1       1   \n",
       "4            5         0       3   \n",
       "\n",
       "                                                Name     Sex   Age  SibSp  \\\n",
       "0                            Braund, Mr. Owen Harris    male  22.0      1   \n",
       "1  Cumings, Mrs. John Bradley (Florence Briggs Th...  female  38.0      1   \n",
       "2                             Heikkinen, Miss. Laina  female  26.0      0   \n",
       "3       Futrelle, Mrs. Jacques Heath (Lily May Peel)  female  35.0      1   \n",
       "4                           Allen, Mr. William Henry    male  35.0      0   \n",
       "\n",
       "   Parch            Ticket     Fare Cabin Embarked  \n",
       "0      0         A/5 21171   7.2500   NaN        S  \n",
       "1      0          PC 17599  71.2833   C85        C  \n",
       "2      0  STON/O2. 3101282   7.9250   NaN        S  \n",
       "3      0            113803  53.1000  C123        S  \n",
       "4      0            373450   8.0500   NaN        S  "
      ]
     },
     "execution_count": 282,
     "metadata": {},
     "output_type": "execute_result"
    }
   ],
   "source": [
    "import os\n",
    "import os.path\n",
    "import numpy as np\n",
    "import matplotlib.pyplot as plt\n",
    "import pandas as pd\n",
    "\n",
    "from IPython.core.display import display\n",
    "\n",
    "import warnings\n",
    "warnings.filterwarnings('ignore')\n",
    "\n",
    "core_path = os.environ['GITHUB_PATH']\n",
    "file_path = os.path.join(core_path, 'education/kaggle/Titanic/train.csv')\n",
    "\n",
    "ds = pd.read_csv(file_path)\n",
    "\n",
    "#pandas intro\n",
    "#https://pandas.pydata.org/pandas-docs/stable/dsintro.html\n",
    "#Series is a one-dimensional labeled array capable of holding any data type\n",
    "#s = pd.Series(np.random.randn(5), index=['a', 'b', 'c', 'd', 'e'])\n",
    "#DataFrame is a 2-dimensional labeled data structure with columns of potentially different types.\n",
    "#You can think of it like a spreadsheet or SQL table, or a dict of Series objects. \n",
    "#Along with the data, you can optionally pass index (row labels) and columns (column labels) arguments.\n",
    "\n",
    "#Shows info (useful to check NA and column types)\n",
    "#ds.info()\n",
    "\n",
    "#Shows first lines:\n",
    "#display(ds)\n",
    "ds.head()\n",
    "#Shows columns\n",
    "#ds.columns\n",
    "\n",
    "#Shows all table:\n",
    "#ds\n",
    "\n",
    "#Columns by dot:\n",
    "#ds.Sex\n",
    "\n",
    "#By name:\n",
    "#ds['Sex']\n",
    "#ds[['Sex', 'Age']]\n",
    "\n",
    "#Slices, for example last 3 records:\n",
    "#ds[-3:]\n",
    "\n",
    "#Shows selected rows and columns:\n",
    "#ds.ix[0:1, 'Sex'] #For some reason 0:1 is 0,1, not 0 only!\n",
    "\n",
    "#ds.ix[[0,2,5], ['Sex', 'Age']]\n",
    "\n",
    "#Queries:\n",
    "#ds[(ds.Age > 30) & (ds.Sex == 'male')]\n",
    "\n",
    "#Statistics:\n",
    "#ds['Age'].mean()"
   ]
  },
  {
   "cell_type": "markdown",
   "metadata": {},
   "source": [
    "## Simple statistics"
   ]
  },
  {
   "cell_type": "markdown",
   "metadata": {},
   "source": [
    "### Survived by class"
   ]
  },
  {
   "cell_type": "code",
   "execution_count": 3,
   "metadata": {},
   "outputs": [
    {
     "name": "stdout",
     "output_type": "stream",
     "text": [
      "            1   2    3\n",
      "Survived  136  87  119\n",
      "Died       80  97  372\n",
      "Survive rate for class 1: 0.63\n",
      "Survive rate for class 2: 0.47\n",
      "Survive rate for class 3: 0.24\n"
     ]
    },
    {
     "data": {
      "image/png": "[encoded data removed]",
      "text/plain": [
       "<Figure size 360x216 with 1 Axes>"
      ]
     },
     "metadata": {},
     "output_type": "display_data"
    }
   ],
   "source": [
    "%matplotlib inline\n",
    "import seaborn\n",
    "seaborn.set() \n",
    "\n",
    "#https://pandas.pydata.org/pandas-docs/stable/generated/pandas.Series.value_counts.html\n",
    "#Counts unique values in Series Pclass\n",
    "survived_class = ds[ds['Survived'] == 1]['Pclass'].value_counts()\n",
    "dead_class = ds[ds['Survived']==0]['Pclass'].value_counts()\n",
    "df_class = pd.DataFrame([survived_class,dead_class])\n",
    "df_class.index = ['Survived','Died']\n",
    "\n",
    "#Following data frame contans the 2 Series as columns, not rows:\n",
    "#df_class2 = pd.DataFrame({'Survived': survived_class, 'Died': dead_class})\n",
    "\n",
    "#survived_class\n",
    "df_class.plot(kind='bar', stacked=True, figsize=(5,3), title=\"Survived/Died by Class\")\n",
    "print(df_class)\n",
    "\n",
    "#df_class.ix[0,0] is not working! Because we have numeric indexes (labels) for columns as classes 1,2,3\n",
    "#So 0,0 element s ix[0,1], we should use iloc for array-like element access ix[0,1] == iloc[0,0]\n",
    "\n",
    "for i in df_class.columns:\n",
    "    cl_surv_rate = df_class.ix[0,i] / df_class.ix[:,i].sum()\n",
    "    print('Survive rate for class {0}: {1:.2f}'.format(i, cl_surv_rate))"
   ]
  },
  {
   "cell_type": "markdown",
   "metadata": {},
   "source": [
    "### Survived by sex"
   ]
  },
  {
   "cell_type": "code",
   "execution_count": 292,
   "metadata": {},
   "outputs": [
    {
     "name": "stdout",
     "output_type": "stream",
     "text": [
      "Survive rate for male: 0.19\n",
      "Survive rate for female: 0.74\n"
     ]
    },
    {
     "data": {
      "image/png": "[encoded data removed]",
      "text/plain": [
       "<Figure size 360x216 with 1 Axes>"
      ]
     },
     "metadata": {},
     "output_type": "display_data"
    }
   ],
   "source": [
    "survived_sex = ds[ds.Survived == 1]['Sex'].value_counts()\n",
    "died_sex = ds[ds.Survived == 0]['Sex'].value_counts()\n",
    "df_sex = pd.DataFrame([survived_sex, died_sex])\n",
    "df_sex.index= ['Survived','Died']\n",
    "\n",
    "df_sex.plot(kind='bar', stacked=True, figsize=(5,3), title=\"Survived/Died by Class\")\n",
    "#print(df_sex)\n",
    "male_survived_rate = df_sex.male[0] / df_sex.male.sum()\n",
    "female_survived_rate = df_sex.female[0] / df_sex.female.sum()\n",
    "\n",
    "print('Survive rate for male: {0:.2f}'.format(male_survived_rate))\n",
    "print('Survive rate for female: {0:.2f}'.format(female_survived_rate))\n",
    "\n",
    "ds['SexInt'] = ds.Sex.map({'female': 1, 'male': 0})"
   ]
  },
  {
   "cell_type": "markdown",
   "metadata": {},
   "source": [
    "### Survived by age"
   ]
  },
  {
   "cell_type": "code",
   "execution_count": 5,
   "metadata": {},
   "outputs": [
    {
     "name": "stdout",
     "output_type": "stream",
     "text": [
      "Stack of men = 0.65, women = 0.35\n",
      "Man class 3 survived rate = 0.14\n",
      "Stack of class 3 man = 0.39, from men = 0.60\n"
     ]
    },
    {
     "data": {
      "image/png": "[encoded data removed]",
      "text/plain": [
       "<Figure size 576x396 with 1 Axes>"
      ]
     },
     "metadata": {},
     "output_type": "display_data"
    }
   ],
   "source": [
    "#ds[ds.Age > 0][['Age', 'Survived']].groupby('Age').count()\n",
    "#ds[(ds.Age > 1) & (ds.Age < 5)]\n",
    "\n",
    "#It's possible to apply more than one aggregations:\n",
    "#grouped['C'].agg([np.sum, np.mean, np.std])\n",
    "#ages = ds[ds.Pclass == 1].groupby('Age').count().PassengerId\n",
    "#ages_surv = ds[ds.Pclass == 1].groupby('Age').sum().Survived\n",
    "\n",
    "ages = ds[(ds.Pclass == 3) & (ds.Sex == 'male')].groupby('Age').count().PassengerId\n",
    "ages_surv = ds[(ds.Pclass == 3) & (ds.Sex == 'male')].groupby('Age').sum().Survived\n",
    "ages.plot()\n",
    "ages_surv.plot()\n",
    "\n",
    "men_count = len(ds[ds.Sex == 'male'])\n",
    "men_share = men_count / len(ds)\n",
    "women_share = 1 - men_share \n",
    "print('Stack of men = {0:.2f}, women = {1:.2f}'.format(men_share, women_share))\n",
    "\n",
    "man_cl3 = ds[(ds.Sex == 'male') & (ds.Pclass == 3)].count().PassengerId\n",
    "man_cl3_surv = ds[(ds.Sex == 'male') & (ds.Pclass == 3) & (ds.Survived)].count().PassengerId\n",
    "print('Man class 3 survived rate = {0:.2f}'.format(man_cl3_surv/man_cl3))\n",
    "print('Stack of class 3 man = {0:.2f}, from men = {1:.2f}'.format(man_cl3 / len(ds), man_cl3 / men_count))\n",
    "\n",
    "#man_cl3 = ds[(ds.Sex == 'male') & (ds.Pclass == 3) & (ds.Age >= 25) & (ds.Age < 30)]\n",
    "\n"
   ]
  },
  {
   "cell_type": "code",
   "execution_count": 6,
   "metadata": {},
   "outputs": [
    {
     "name": "stdout",
     "output_type": "stream",
     "text": [
      "Man class 1 survived rate = 0.47\n",
      "Stack of class 1 man = {0:.2f} 0.0808080808081\n"
     ]
    },
    {
     "data": {
      "image/png": "[encoded data removed]",
      "text/plain": [
       "<Figure size 576x396 with 1 Axes>"
      ]
     },
     "metadata": {},
     "output_type": "display_data"
    }
   ],
   "source": [
    "ages1 = ds[(ds.Pclass == 1) & (ds.Sex == 'male') & (ds.Age < 50)].groupby('Age').count().PassengerId\n",
    "ages_surv1 = ds[(ds.Pclass == 1) & (ds.Sex == 'male') & (ds.Age < 50)].groupby('Age').sum().Survived\n",
    "ages1.plot()\n",
    "ages_surv1.plot()\n",
    "\n",
    "man_cl1 = ds[(ds.Pclass == 1) & (ds.Sex == 'male') & (ds.Age < 50)].count().PassengerId\n",
    "man_cl1_surv = ds[(ds.Pclass == 1) & (ds.Sex == 'male') & (ds.Age < 50) & (ds.Survived)].count().PassengerId\n",
    "print('Man class 1 survived rate = {0:.2f}'.format(man_cl1_surv/man_cl1))\n",
    "print('Stack of class 1 man = {0:.2f}', man_cl1 / len(ds))"
   ]
  },
  {
   "cell_type": "markdown",
   "metadata": {},
   "source": [
    "## Missed age filling"
   ]
  },
  {
   "cell_type": "code",
   "execution_count": 7,
   "metadata": {
    "collapsed": true
   },
   "outputs": [],
   "source": [
    "#TODO:"
   ]
  },
  {
   "cell_type": "markdown",
   "metadata": {},
   "source": [
    "## SVM without kernel for sex and class"
   ]
  },
  {
   "cell_type": "code",
   "execution_count": 8,
   "metadata": {
    "collapsed": true
   },
   "outputs": [],
   "source": [
    "from sklearn import svm\n",
    "\n",
    "linear_svm_model2 = svm.SVC(kernel='linear')\n",
    "#linear_svm_model = clf.fit(X, y)\n",
    "\n",
    "#map may use function\n",
    "sex_int = ds['Sex'].map({'female': 1, 'male': 0})\n",
    "linear_svm_train_features2 = pd.DataFrame([sex_int, ds['Pclass']]).transpose().values\n",
    "\n",
    "linear_svm_train_y2 = ds.Survived.transpose().values\n",
    "linear_svm_model2 = linear_svm_model2.fit(linear_svm_train_features2, linear_svm_train_y2)\n",
    "\n",
    "test_file_path = os.path.join(core_path, 'education/kaggle/Titanic/test.csv')\n",
    "test_ds = pd.read_csv(test_file_path)\n",
    "\n",
    "test_sex_int = test_ds['Sex'].map({'female': 1, 'male': 0})\n",
    "test_svm_train_features2 = pd.DataFrame([test_sex_int, test_ds['Pclass']]).transpose().values\n",
    "\n",
    "test_svm_train_y2 = linear_svm_model2.predict(test_svm_train_features2)\n",
    "\n",
    "submission1 = pd.DataFrame({'PassengerId': test_ds.\n",
    "PassengerId, 'Survived': test_svm_train_y2})\n",
    "\n",
    "submission1_file_path = os.path.join(core_path, 'education/kaggle/Titanic/submission1.csv')\n",
    "submission1.to_csv(submission1_file_path, index=False)\n",
    "#print(submission1)\n"
   ]
  },
  {
   "cell_type": "markdown",
   "metadata": {},
   "source": [
    "### Cross-validation"
   ]
  },
  {
   "cell_type": "markdown",
   "metadata": {},
   "source": [
    "#### default 5-fold"
   ]
  },
  {
   "cell_type": "code",
   "execution_count": 9,
   "metadata": {},
   "outputs": [
    {
     "name": "stdout",
     "output_type": "stream",
     "text": [
      "Accuracy: 0.79 (+/- 0.02)\n"
     ]
    }
   ],
   "source": [
    "from sklearn.model_selection import cross_val_score\n",
    "\n",
    "scores = cross_val_score(linear_svm_model2, linear_svm_train_features2, linear_svm_train_y2, n_jobs=2)\n",
    "print(\"Accuracy: %0.2f (+/- %0.2f)\" % (scores.mean(), scores.std() * 2))"
   ]
  },
  {
   "cell_type": "markdown",
   "metadata": {},
   "source": [
    "#### shuffle 5-fold"
   ]
  },
  {
   "cell_type": "code",
   "execution_count": 10,
   "metadata": {},
   "outputs": [
    {
     "name": "stdout",
     "output_type": "stream",
     "text": [
      "Accuracy: 0.78 (+/- 0.02)\n"
     ]
    }
   ],
   "source": [
    "from sklearn.model_selection import ShuffleSplit\n",
    "shuffle5_cv = ShuffleSplit(n_splits=5, test_size=0.3, random_state=0)\n",
    "scores = cross_val_score(linear_svm_model2, linear_svm_train_features2, linear_svm_train_y2, n_jobs=2, cv=shuffle5_cv)\n",
    "print(\"Accuracy: %0.2f (+/- %0.2f)\" % (scores.mean(), scores.std() * 2))"
   ]
  },
  {
   "cell_type": "markdown",
   "metadata": {},
   "source": [
    "Accuracy (0.78 +/- 0.02) ~ accuray from kaggle submission (0.765)"
   ]
  },
  {
   "cell_type": "markdown",
   "metadata": {},
   "source": [
    "#### Tuning the hyper-parameters of an estimator"
   ]
  },
  {
   "cell_type": "code",
   "execution_count": 11,
   "metadata": {},
   "outputs": [
    {
     "name": "stdout",
     "output_type": "stream",
     "text": [
      "Best parameters set found on development set:\n",
      "\n",
      "{'C': 1, 'gamma': 1, 'kernel': 'rbf'}\n",
      "\n",
      "Grid scores on development set:\n",
      "\n",
      "0.777 (+/-0.048) for {'C': 1, 'gamma': 1, 'kernel': 'rbf'}\n",
      "0.777 (+/-0.048) for {'C': 1, 'gamma': 2, 'kernel': 'rbf'}\n",
      "0.777 (+/-0.048) for {'C': 1, 'gamma': 3, 'kernel': 'rbf'}\n",
      "0.777 (+/-0.048) for {'C': 10, 'gamma': 1, 'kernel': 'rbf'}\n",
      "0.777 (+/-0.048) for {'C': 10, 'gamma': 2, 'kernel': 'rbf'}\n",
      "0.777 (+/-0.048) for {'C': 10, 'gamma': 3, 'kernel': 'rbf'}\n",
      "0.777 (+/-0.048) for {'C': 100, 'gamma': 1, 'kernel': 'rbf'}\n",
      "0.777 (+/-0.048) for {'C': 100, 'gamma': 2, 'kernel': 'rbf'}\n",
      "0.777 (+/-0.048) for {'C': 100, 'gamma': 3, 'kernel': 'rbf'}\n",
      "0.777 (+/-0.048) for {'C': 1000, 'gamma': 1, 'kernel': 'rbf'}\n",
      "0.777 (+/-0.048) for {'C': 1000, 'gamma': 2, 'kernel': 'rbf'}\n",
      "0.777 (+/-0.048) for {'C': 1000, 'gamma': 3, 'kernel': 'rbf'}\n"
     ]
    }
   ],
   "source": [
    "from sklearn.model_selection import GridSearchCV\n",
    "\n",
    "tuned_parameters = [{'kernel': ['rbf'], 'gamma': [1, 2, 3],\n",
    "                     'C': [1, 10, 100, 1000]}]\n",
    "\n",
    "tuned_parameters2 = [{'kernel': ['rbf'], 'gamma': [1e-3, 1e-4],\n",
    "                     'C': [1, 10, 100, 1000]},\n",
    "                    {'kernel': ['poly'], 'gamma': [1, 2, 3],\n",
    "                     'C': [1, 10, 100, 1000]},\n",
    "                    {'kernel': ['linear'], 'C': [1, 10, 100, 1000]}]\n",
    "\n",
    "scores = ['precision']\n",
    "scores2 = ['precision', 'recall']\n",
    "\n",
    "for score in scores:\n",
    "    #shuffle5_cv looks better than simple 5, std 0.048 vs 0.069\n",
    "    #if test_size = 0.4 than std is 0.020, but train test is small and model may be underfitted\n",
    "    #kaggle problem's test set has 418 samples, train set has 891\n",
    "    clf = GridSearchCV(svm.SVC(), tuned_parameters, cv=shuffle5_cv,\n",
    "                           scoring='%s_macro' % score)\n",
    "    clf.fit(linear_svm_train_features2, linear_svm_train_y2)\n",
    "\n",
    "    print(\"Best parameters set found on development set:\")\n",
    "    print()\n",
    "    print(clf.best_params_)\n",
    "    print()\n",
    "    print(\"Grid scores on development set:\")\n",
    "    print()\n",
    "    means = clf.cv_results_['mean_test_score']\n",
    "    stds = clf.cv_results_['std_test_score']\n",
    "    for mean, std, params in zip(means, stds, clf.cv_results_['params']):\n",
    "        print(\"%0.3f (+/-%0.03f) for %r\"\n",
    "              % (mean, std * 2, params))"
   ]
  },
  {
   "cell_type": "markdown",
   "metadata": {},
   "source": [
    "### With age without NA "
   ]
  },
  {
   "cell_type": "code",
   "execution_count": 242,
   "metadata": {},
   "outputs": [
    {
     "name": "stdout",
     "output_type": "stream",
     "text": [
      "Accuracy: 0.76 (+/- 0.05)\n"
     ]
    }
   ],
   "source": [
    "ds_age_notnull = ds[ds.Age.notnull()]\n",
    "sex_int = ds_age_notnull['Sex'].map({'female': 1, 'male': 0})\n",
    "linear_svm_train_features3 = pd.DataFrame([sex_int, ds_age_notnull.Pclass, ds_age_notnull.Age]).transpose().values\n",
    "linear_svm_train_y3 = ds_age_notnull.Survived.transpose().values\n",
    "\n",
    "#print(linear_svm_train_features3)\n",
    "\n",
    "linear_svm_model3 = svm.SVC(kernel='rbf', gamma=2, C=1)\n",
    "scores = cross_val_score(linear_svm_model3, linear_svm_train_features3, linear_svm_train_y3, n_jobs=2, cv=shuffle5_cv)\n",
    "print(\"Accuracy: %0.2f (+/- %0.2f)\" % (scores.mean(), scores.std() * 2))"
   ]
  },
  {
   "cell_type": "markdown",
   "metadata": {},
   "source": [
    "As we see mean accuracy is less than wo age, std is more (0.05 vs 0.02 before)"
   ]
  },
  {
   "cell_type": "markdown",
   "metadata": {},
   "source": [
    "### 2 age groups (adults and children)"
   ]
  },
  {
   "cell_type": "code",
   "execution_count": 13,
   "metadata": {},
   "outputs": [
    {
     "name": "stdout",
     "output_type": "stream",
     "text": [
      "Accuracy: 0.79 (+/- 0.01)\n"
     ]
    }
   ],
   "source": [
    "ds_age_notnull_age_group = ds_age_notnull['Age'].map(lambda x: 1 if x >=18 else 0)\n",
    "linear_svm_train_features3_age_group = pd.DataFrame([sex_int, ds_age_notnull.Pclass, ds_age_notnull_age_group]).transpose().values\n",
    "\n",
    "#print(linear_svm_train_features3_age_group)\n",
    "\n",
    "linear_svm_model3_ag = svm.SVC(kernel='rbf', gamma=2, C=1)\n",
    "scores = cross_val_score(linear_svm_model3_ag, linear_svm_train_features3_age_group, linear_svm_train_y3, n_jobs=2, cv=shuffle5_cv)\n",
    "print(\"Accuracy: %0.2f (+/- %0.2f)\" % (scores.mean(), scores.std() * 2))"
   ]
  },
  {
   "cell_type": "markdown",
   "metadata": {},
   "source": [
    "Now accuracy is much a bit, std is very little!"
   ]
  },
  {
   "cell_type": "markdown",
   "metadata": {},
   "source": [
    "### Several age groups (age/10)"
   ]
  },
  {
   "cell_type": "code",
   "execution_count": 14,
   "metadata": {},
   "outputs": [
    {
     "name": "stdout",
     "output_type": "stream",
     "text": [
      "Accuracy: 0.80 (+/- 0.02)\n"
     ]
    }
   ],
   "source": [
    "def several_age_group_cv(cv, groups=None):\n",
    "    ds_age_notnull_age_div_10 = ds_age_notnull['Age'].map(lambda x: x / 10)\n",
    "    linear_svm_train_features3_age_dev10 = pd.DataFrame([sex_int, ds_age_notnull.Pclass, ds_age_notnull_age_div_10]).transpose().values\n",
    "\n",
    "    linear_svm_model3_ag_d10 = svm.SVC(kernel='rbf', gamma=2, C=1)\n",
    "    scores = cross_val_score(linear_svm_model3_ag_d10, linear_svm_train_features3_age_dev10, linear_svm_train_y3, n_jobs=2, cv=cv, groups=groups)\n",
    "    print(\"Accuracy: %0.2f (+/- %0.2f)\" % (scores.mean(), scores.std() * 2))\n",
    "    \n",
    "several_age_group_cv(shuffle5_cv)"
   ]
  },
  {
   "cell_type": "markdown",
   "metadata": {},
   "source": [
    "### Group k-fold for class"
   ]
  },
  {
   "cell_type": "code",
   "execution_count": 15,
   "metadata": {},
   "outputs": [
    {
     "name": "stdout",
     "output_type": "stream",
     "text": [
      "Accuracy: 0.26 (+/- 0.08)\n"
     ]
    }
   ],
   "source": [
    "from sklearn.model_selection import GroupShuffleSplit\n",
    "class_group_cv = GroupShuffleSplit(n_splits=5, test_size=0.3, random_state=0)\n",
    "class_groups = ds_age_notnull.Pclass.as_matrix()\n",
    "several_age_group_cv(class_group_cv, groups=class_groups)"
   ]
  },
  {
   "cell_type": "markdown",
   "metadata": {},
   "source": [
    "### cross_val_predict"
   ]
  },
  {
   "cell_type": "code",
   "execution_count": 16,
   "metadata": {},
   "outputs": [
    {
     "data": {
      "text/html": [
       "<div>\n",
       "<style>\n",
       "    .dataframe thead tr:only-child th {\n",
       "        text-align: right;\n",
       "    }\n",
       "\n",
       "    .dataframe thead th {\n",
       "        text-align: left;\n",
       "    }\n",
       "\n",
       "    .dataframe tbody tr th {\n",
       "        vertical-align: top;\n",
       "    }\n",
       "</style>\n",
       "<table border=\"1\" class=\"dataframe\">\n",
       "  <thead>\n",
       "    <tr style=\"text-align: right;\">\n",
       "      <th></th>\n",
       "      <th>Survived</th>\n",
       "    </tr>\n",
       "    <tr>\n",
       "      <th>Pclass</th>\n",
       "      <th></th>\n",
       "    </tr>\n",
       "  </thead>\n",
       "  <tbody>\n",
       "    <tr>\n",
       "      <th>1</th>\n",
       "      <td>0.731183</td>\n",
       "    </tr>\n",
       "    <tr>\n",
       "      <th>2</th>\n",
       "      <td>0.930636</td>\n",
       "    </tr>\n",
       "    <tr>\n",
       "      <th>3</th>\n",
       "      <td>0.746479</td>\n",
       "    </tr>\n",
       "  </tbody>\n",
       "</table>\n",
       "</div>"
      ],
      "text/plain": [
       "        Survived\n",
       "Pclass          \n",
       "1       0.731183\n",
       "2       0.930636\n",
       "3       0.746479"
      ]
     },
     "metadata": {},
     "output_type": "display_data"
    },
    {
     "name": "stdout",
     "output_type": "stream",
     "text": [
      "0.787114845938\n"
     ]
    }
   ],
   "source": [
    "from sklearn.model_selection import cross_val_predict\n",
    "\n",
    "ds_age_notnull_age_div_10 = ds_age_notnull['Age'].map(lambda x: x / 10)\n",
    "linear_svm_train_features3_age_dev10 = pd.DataFrame([sex_int, ds_age_notnull.Pclass, ds_age_notnull_age_div_10]).transpose().values\n",
    "\n",
    "linear_svm_model3_ag_d10 = svm.SVC(kernel='rbf', gamma=2, C=1)\n",
    "predictions = cross_val_predict(linear_svm_model3_ag_d10, linear_svm_train_features3_age_dev10, linear_svm_train_y3, n_jobs=2, cv=5)\n",
    "check_arr = ds_age_notnull.Survived == predictions\n",
    "\n",
    "\n",
    "class_pred_df = pd.DataFrame([ds_age_notnull.Pclass, check_arr]).transpose()\n",
    "display(class_pred_df.groupby('Pclass').mean())\n",
    "print(check_arr.mean())\n"
   ]
  },
  {
   "cell_type": "markdown",
   "metadata": {},
   "source": [
    "### Mean age by Mr,Ms,... prefix groups"
   ]
  },
  {
   "cell_type": "code",
   "execution_count": 290,
   "metadata": {},
   "outputs": [
    {
     "name": "stdout",
     "output_type": "stream",
     "text": [
      "['Capt.' 'Col.' 'Countess.' 'Don.' 'Dona.' 'Dr.' 'Jonkheer.' 'Lady.'\n",
      " 'Major.' 'Master.' 'Miss.' 'Mlle.' 'Mme.' 'Mr.' 'Mrs.' 'Ms.' 'Rev.' 'Sir.']\n"
     ]
    },
    {
     "data": {
      "text/plain": [
       "<matplotlib.axes._subplots.AxesSubplot at 0x109495c0>"
      ]
     },
     "execution_count": 290,
     "metadata": {},
     "output_type": "execute_result"
    },
    {
     "data": {
      "image/png": "[encoded data removed]",
      "text/plain": [
       "<Figure size 1440x360 with 1 Axes>"
      ]
     },
     "metadata": {},
     "output_type": "display_data"
    }
   ],
   "source": [
    "import seaborn as sns\n",
    "\n",
    "#First we should get all possible prefixes, using exception for example:\n",
    "rp = ds[~ds.Name.str.contains('Mr')]\n",
    "rp = rp[~rp.Name.str.contains('Miss')]\n",
    "rp = rp[~rp.Name.str.contains('Master')]\n",
    "rp = rp[~rp.Name.str.contains('Dr')]\n",
    "rp = rp[~rp.Name.str.contains('Rev')]\n",
    "rp = rp[~rp.Name.str.contains('Don')]\n",
    "rp = rp[~rp.Name.str.contains('Ms')]\n",
    "rp = rp[~rp.Name.str.contains('Col')]\n",
    "rp = rp[~rp.Name.str.contains('Mlle')]\n",
    "rp = rp[~rp.Name.str.contains('Major')]\n",
    "rp = rp[~rp.Name.str.contains('Mme')]\n",
    "rp = rp[~rp.Name.str.contains('Capt')]\n",
    "rp = rp[~rp.Name.str.contains('Countess')]\n",
    "rp = rp[~rp.Name.str.contains('Jonkheer')]\n",
    "#display(rp)\n",
    "#print(len(rp))\n",
    "#we can notice that all prefixes have point(.) and try to find it using regexp:\n",
    "\n",
    "#display(ds.Name)\n",
    "\n",
    "#returns tuple (prefix map<name,id> and list of all prefix names)\n",
    "def get_all_prefixes(frame):\n",
    "    frame_prefixes = frame.Name.str.findall('[\\w]{2,}\\.')\n",
    "    #now we can't apply unique() method because findall returns Serties based on list and it's not for unique()\n",
    "    #rp.unique()\n",
    "    #print(rp.apply(str))\n",
    "\n",
    "    prefixes_objects = np.unique(frame_prefixes.values)\n",
    "    prefixes={}\n",
    "    for i in range(len(prefixes_objects)):\n",
    "        prefixes[prefixes_objects[i][0]] = i\n",
    "        \n",
    "    #Task1: convert Series after findall to Series of strings\n",
    "    #Task2: the same for numpy array\n",
    "    #1. After find all we have Series of Python lists of string\n",
    "    #print(type(rp[0]))\n",
    "    #print(type(rp[0][0]))\n",
    "\n",
    "    #first_elem_f = lambda x: x[0]\n",
    "    #join_f = lambda x: ''.join(x)\n",
    "    #rp_str = frame_prefixes.map(first_elem_f)\n",
    "    #print(rp_str )\n",
    "\n",
    "    #2. First we can create function for vector from function of one argument:\n",
    "    join_np = np.vectorize(first_elem_f)\n",
    "    all_prefixes_list = join_np(prefixes_objects)\n",
    "    \n",
    "    #Second way:\n",
    "    #print_f = lambda x: print(x[0])\n",
    "    #y_str2 = np.apply_along_axis(print_f, 0, y)\n",
    "    #This is not working because it seems may not be applied for 1d array, it will call once for whole array\n",
    "    #print(y_str2)\n",
    "\n",
    "    #Why ravel isn't working? Because we have array of list objects, not 2d array!\n",
    "    #print(y.ravel())\n",
    "    #yy = np.zeros(2, dtype=np.object)\n",
    "    #yy[0] = ['a']\n",
    "    #yy[1] = ['b']\n",
    "    #print(type(yy[0]))\n",
    "    \n",
    "    print(all_prefixes_list)\n",
    "    \n",
    "    return (prefixes, all_prefixes_list)\n",
    "\n",
    "def get_prefix_mean_age(frame, prefixes_list):\n",
    "    prefix_mean_age = frame[['Prefix', 'Age']].groupby('Prefix').mean().reset_index()\n",
    "    prefix_str_series = prefix_mean_age.Prefix.map(lambda x: prefixes_list[x])\n",
    "    prefix_mean_age['PrefixName'] = prefix_str_series\n",
    "\n",
    "    #prefix_names = prefix_mean_age.Prefix.map(lambda s: prefixes[s])\n",
    "    #prefix_mean_age['Prefix'] = prefix_names\n",
    "\n",
    "    #display(np.array(list('abc')))\n",
    "    #display(y.map(str))\n",
    "    #display(type(y))\n",
    "    #display(ds[['Age', 'Prefix']])\n",
    "\n",
    "    #prefix_mean_age['Prefix']=y.flatten()\n",
    "\n",
    "    #display(prefix_mean_age)\n",
    "\n",
    "    return prefix_mean_age\n",
    "\n",
    "def fill_prefixes(frame, prefixes):\n",
    "    frame_prefixes = frame.Name.str.findall('[\\w]{2,}\\.')\n",
    "    prefix = frame_prefixes.map(lambda x: prefixes[x[0]])\n",
    "    frame['Prefix'] = prefix\n",
    "    \n",
    "def fill_null_age(frame, prefix_mean_age):\n",
    "    get_age_prefix = lambda s: s['Age'] if pd.notnull(s['Age']) else prefix_mean_age.Age[s['Prefix']]\n",
    "    age_filled_by_prefix = frame.apply(get_age_prefix, axis=1)\n",
    "    frame['AgeFilled'] = age_filled_by_prefix\n",
    "    \n",
    "#Train + test data frame    \n",
    "full_ds = pd.concat([ds, test_ds])\n",
    "#Takes all prefixes from all data\n",
    "(prefixes, all_prefixes_list) = get_all_prefixes(full_ds)\n",
    "#Calculates mean age for all data\n",
    "fill_prefixes(full_ds, prefixes)\n",
    "prefix_mean_age = get_prefix_mean_age(full_ds, all_prefixes_list)\n",
    "\n",
    "fill_prefixes(ds, prefixes)\n",
    "fill_prefixes(test_ds, prefixes)\n",
    "\n",
    "#display(prefix_mean_age)\n",
    "\n",
    "fill_null_age(full_ds, prefix_mean_age)\n",
    "fill_null_age(ds, prefix_mean_age)\n",
    "fill_null_age(test_ds, prefix_mean_age)\n",
    "\n",
    "    \n",
    "#display(age_filled_by_prefix)\n",
    "#TODO: graph\n",
    "sns.set(style=\"white\", context=\"talk\")\n",
    "f, ax1 = plt.subplots(1, 1, figsize=(20, 5), sharex=True)\n",
    "\n",
    "\n",
    "prefix_mean_age.sort_values('Age', inplace=True, ascending=False)\n",
    "\n",
    "sns.barplot(x='PrefixName', y='Age', data=prefix_mean_age, ax=ax1)\n",
    "#ax1.axhline(0, color=\"k\", clip_on=False)\n",
    "#ax1.set_ylabel(\"Mean age by name prefix\")\n",
    "\n",
    "#sns.despine(bottom=True)\n",
    "#plt.setp(f.axes, yticks=[])\n",
    "#plt.tight_layout(h_pad=2)\n",
    "\n"
   ]
  },
  {
   "cell_type": "markdown",
   "metadata": {},
   "source": [
    "### New model with filled Age"
   ]
  },
  {
   "cell_type": "code",
   "execution_count": 309,
   "metadata": {},
   "outputs": [
    {
     "name": "stdout",
     "output_type": "stream",
     "text": [
      "Accuracy: 0.82 (+/- 0.01)\n",
      "418\n",
      "G:\\MYOWN\\Oddcard2\\education/kaggle/Titanic/submission2.csv\n"
     ]
    }
   ],
   "source": [
    "def store_submission(frame, y, n):\n",
    "    submission = pd.DataFrame({'PassengerId': frame.PassengerId, 'Survived': y})\n",
    "    submission_file_path = os.path.join(core_path, 'education/kaggle/Titanic/submission{}.csv'.format(n))\n",
    "    print(submission_file_path)\n",
    "    submission.to_csv(submission_file_path, index=False)\n",
    "    \n",
    "def prepare_features2(frame, ageFilled=True):\n",
    "    if ageFilled:\n",
    "        ds_age_div_10 = frame['AgeFilled'].map(lambda x: x / 10)\n",
    "    else:\n",
    "        ds_age_div_10 = frame['Age'].map(lambda x: x / 10)\n",
    "    \n",
    "    sib_parch_sum = frame.SibSp + frame.Parch\n",
    "    \n",
    "    if (not 'SexInt' in frame):\n",
    "        frame['SexInt'] = frame.Sex.map({'female': 1, 'male': 0})\n",
    "    \n",
    "    features = pd.DataFrame([frame.SexInt, frame.Pclass, ds_age_div_10, sib_parch_sum]).transpose().values\n",
    "    return features\n",
    "    \n",
    "def several_age_group_filled_age_cv(features, train_y, cv=None, groups=None):\n",
    "    model = svm.SVC(kernel='rbf', gamma=0.5, C=1)\n",
    "    scores = cross_val_score(model, features, train_y, n_jobs=2, cv=cv, groups=groups)\n",
    "    print(\"Accuracy: %0.2f (+/- %0.2f)\" % (scores.mean(), scores.std() * 2))\n",
    "    \n",
    "train_features = prepare_features2(ds)\n",
    "test_features = prepare_features2(test_ds)\n",
    "train_y = ds.Survived.transpose().values\n",
    "\n",
    "several_age_group_filled_age_cv(train_features, train_y, cv=shuffle5_cv)\n",
    "\n",
    "#Second submission:\n",
    "model = svm.SVC(kernel='rbf', gamma=0.5, C=1)\n",
    "\n",
    "\n",
    "model.fit(train_features, train_y)\n",
    "answer = model.predict(test_features)\n",
    "print(len(test_ds))\n",
    "store_submission(test_ds, answer, 2)"
   ]
  },
  {
   "cell_type": "markdown",
   "metadata": {},
   "source": [
    "### Embarked"
   ]
  },
  {
   "cell_type": "code",
   "execution_count": 18,
   "metadata": {},
   "outputs": [
    {
     "name": "stdout",
     "output_type": "stream",
     "text": [
      "Accuracy: 0.78 (+/- 0.04)\n"
     ]
    }
   ],
   "source": [
    "embarked_values={'S':0, 'C':1, 'Q':2}\n",
    "\n",
    "embarked_values = ds_age_notnull.Embarked.map(lambda x: embarked_values[x] if x in embarked_values else 0)\n",
    "\n",
    "ds_age_notnull_age_div_10_embarked = ds_age_notnull['Age'].map(lambda x: x / 10)\n",
    "linear_svm_train_features4_age_dev10_embarked = pd.DataFrame([sex_int, ds_age_notnull.Pclass, ds_age_notnull_age_div_10_embarked, embarked_values]).transpose().values\n",
    "\n",
    "linear_svm_model3_ag_d10_embarked = svm.SVC(kernel='rbf', gamma=2, C=1)\n",
    "scores = cross_val_score(linear_svm_model3_ag_d10_embarked, linear_svm_train_features4_age_dev10_embarked, linear_svm_train_y3, n_jobs=2, cv=shuffle5_cv)\n",
    "print(\"Accuracy: %0.2f (+/- %0.2f)\" % (scores.mean(), scores.std() * 2))"
   ]
  },
  {
   "cell_type": "markdown",
   "metadata": {},
   "source": [
    "### Fare investigation"
   ]
  },
  {
   "cell_type": "markdown",
   "metadata": {},
   "source": [
    "First we can see if survivability depends on fare whithin the same class\n",
    "Lets start from the biggest class 3"
   ]
  },
  {
   "cell_type": "code",
   "execution_count": 19,
   "metadata": {},
   "outputs": [
    {
     "name": "stdout",
     "output_type": "stream",
     "text": [
      "int64\n",
      "int64\n"
     ]
    },
    {
     "data": {
      "text/html": [
       "<div>\n",
       "<style>\n",
       "    .dataframe thead tr:only-child th {\n",
       "        text-align: right;\n",
       "    }\n",
       "\n",
       "    .dataframe thead th {\n",
       "        text-align: left;\n",
       "    }\n",
       "\n",
       "    .dataframe tbody tr th {\n",
       "        vertical-align: top;\n",
       "    }\n",
       "</style>\n",
       "<table border=\"1\" class=\"dataframe\">\n",
       "  <thead>\n",
       "    <tr>\n",
       "      <th></th>\n",
       "      <th colspan=\"3\" halign=\"left\">Survived</th>\n",
       "    </tr>\n",
       "    <tr>\n",
       "      <th></th>\n",
       "      <th>sum</th>\n",
       "      <th>mean</th>\n",
       "      <th>std</th>\n",
       "    </tr>\n",
       "    <tr>\n",
       "      <th>Fare</th>\n",
       "      <th></th>\n",
       "      <th></th>\n",
       "      <th></th>\n",
       "    </tr>\n",
       "  </thead>\n",
       "  <tbody>\n",
       "    <tr>\n",
       "      <th>0</th>\n",
       "      <td>67</td>\n",
       "      <td>0.206790</td>\n",
       "      <td>0.405630</td>\n",
       "    </tr>\n",
       "    <tr>\n",
       "      <th>1</th>\n",
       "      <td>52</td>\n",
       "      <td>0.311377</td>\n",
       "      <td>0.464449</td>\n",
       "    </tr>\n",
       "  </tbody>\n",
       "</table>\n",
       "</div>"
      ],
      "text/plain": [
       "     Survived                    \n",
       "          sum      mean       std\n",
       "Fare                             \n",
       "0          67  0.206790  0.405630\n",
       "1          52  0.311377  0.464449"
      ]
     },
     "execution_count": 19,
     "metadata": {},
     "output_type": "execute_result"
    }
   ],
   "source": [
    "#class3_fares = ds[(ds.Pclass == 3)].Fare.map(lambda x: (int)(x / 10))\n",
    "class3_df = ds[(ds.Pclass == 3)]\n",
    "class3_fares = class3_df.Fare.map(lambda x: 0 if x < 10 else 1)\n",
    "#for some reason pandas converts class3_fares to float64 after pd.concat althogh dtype of Series is int64\n",
    "#it may be due to na promotion - https://stackoverflow.com/questions/41870093/pandas-shift-converts-my-column-from-integer-to-float\n",
    "#but I failed to find any nan/na in Fare\n",
    "#even after class3_fares.fillna(0) type still float64\n",
    "#Reason: Fare ARE ONLY FOR CLASS 3! But Survived for ALL CASSES!\n",
    "print(class3_fares.dtype)\n",
    "print(ds.Survived.dtype)\n",
    "\n",
    "class3_fares_df = pd.concat([ds[(ds.Pclass == 3)].Survived, class3_fares], axis=1)\n",
    "#class3_fares_df = pd.DataFrame({'FareClass': class3_fares, 'Survived':ds[(ds.Pclass == 3)].Survived})\n",
    "\n",
    "class3_fares_df.groupby('Fare').agg([np.sum, np.mean, np.std])"
   ]
  },
  {
   "cell_type": "markdown",
   "metadata": {},
   "source": [
    "### Cabin investigation"
   ]
  },
  {
   "cell_type": "code",
   "execution_count": 20,
   "metadata": {},
   "outputs": [
    {
     "data": {
      "text/html": [
       "<div>\n",
       "<style>\n",
       "    .dataframe thead tr:only-child th {\n",
       "        text-align: right;\n",
       "    }\n",
       "\n",
       "    .dataframe thead th {\n",
       "        text-align: left;\n",
       "    }\n",
       "\n",
       "    .dataframe tbody tr th {\n",
       "        vertical-align: top;\n",
       "    }\n",
       "</style>\n",
       "<table border=\"1\" class=\"dataframe\">\n",
       "  <thead>\n",
       "    <tr>\n",
       "      <th></th>\n",
       "      <th colspan=\"3\" halign=\"left\">Survived</th>\n",
       "    </tr>\n",
       "    <tr>\n",
       "      <th></th>\n",
       "      <th>sum</th>\n",
       "      <th>mean</th>\n",
       "      <th>std</th>\n",
       "    </tr>\n",
       "    <tr>\n",
       "      <th>Cabin</th>\n",
       "      <th></th>\n",
       "      <th></th>\n",
       "      <th></th>\n",
       "    </tr>\n",
       "  </thead>\n",
       "  <tbody>\n",
       "    <tr>\n",
       "      <th>0</th>\n",
       "      <td>208</td>\n",
       "      <td>0.300578</td>\n",
       "      <td>0.458841</td>\n",
       "    </tr>\n",
       "    <tr>\n",
       "      <th>1</th>\n",
       "      <td>134</td>\n",
       "      <td>0.673367</td>\n",
       "      <td>0.470165</td>\n",
       "    </tr>\n",
       "  </tbody>\n",
       "</table>\n",
       "</div>"
      ],
      "text/plain": [
       "      Survived                    \n",
       "           sum      mean       std\n",
       "Cabin                             \n",
       "0          208  0.300578  0.458841\n",
       "1          134  0.673367  0.470165"
      ]
     },
     "metadata": {},
     "output_type": "display_data"
    },
    {
     "name": "stdout",
     "output_type": "stream",
     "text": [
      "10     1\n",
      "75     0\n",
      "128    1\n",
      "205    0\n",
      "251    0\n",
      "394    1\n",
      "429    1\n",
      "699    0\n",
      "715    0\n",
      "751    1\n",
      "776    0\n",
      "823    1\n",
      "Name: Survived, dtype: int64\n"
     ]
    }
   ],
   "source": [
    "cabin_prefix = {'A':1, 'B':2, 'C': 3, 'D': 4, 'E': 5, 'F': 6}\n",
    "#print(ds[(ds.Cabin.notnull()) & (ds.Cabin.str.startswith('G'))])\n",
    "#prefixes = ds.Cabin.map(lambda x: str(x)[0] if x else '').unique()\n",
    "#print(prefixes)\n",
    "\n",
    "#1. All classes\n",
    "#cabin_indexes = ds.Cabin.map(lambda x: cabin_prefix[str(x)[0]] if x and str(x)[0] in cabin_prefix else 0)\n",
    "#2 2 classes - with/without cabin\n",
    "cabins_df = ds #class3_df\n",
    "\n",
    "cabin_indexes = cabins_df.Cabin.map(lambda x: 1 if x and str(x)[0] in cabin_prefix else 0)\n",
    "surv_cabins = pd.DataFrame([cabins_df.Survived, cabin_indexes]).transpose()\n",
    "#display(surv_cabins)\n",
    "display(surv_cabins.groupby('Cabin').agg([np.sum, np.mean, np.std]))\n",
    "\n",
    "print(cabins_df[(cabins_df.Cabin.notnull()) & (cabins_df.Pclass == 3)].Survived)"
   ]
  }
 ],
 "metadata": {
  "anaconda-cloud": {},
  "kernelspec": {
   "display_name": "Python 3",
   "language": "python",
   "name": "python3"
  },
  "language_info": {
   "codemirror_mode": {
    "name": "ipython",
    "version": 3
   },
   "file_extension": ".py",
   "mimetype": "text/x-python",
   "name": "python",
   "nbconvert_exporter": "python",
   "pygments_lexer": "ipython3",
   "version": "3.6.6"
  }
 },
 "nbformat": 4,
 "nbformat_minor": 2
}
