{
 "cells": [
  {
   "cell_type": "markdown",
   "metadata": {},
   "source": [
    "# Loading data"
   ]
  },
  {
   "cell_type": "markdown",
   "metadata": {},
   "source": [
    "## Loading training set"
   ]
  },
  {
   "cell_type": "code",
   "execution_count": 24,
   "metadata": {},
   "outputs": [],
   "source": [
    "import os\n",
    "import os.path\n",
    "import pandas as pd\n",
    "\n",
    "\n",
    "import warnings\n",
    "warnings.filterwarnings('ignore')\n",
    "\n",
    "def load_train_data():\n",
    "    core_path = os.environ['GITHUB_PATH']\n",
    "    file_path = os.path.join(core_path, 'education/kaggle/house-prices-advanced-regression-techniques/train.csv')\n",
    "\n",
    "    return pd.read_csv(file_path)\n",
    "\n",
    "housing = load_train_data()"
   ]
  },
  {
   "cell_type": "markdown",
   "metadata": {},
   "source": [
    "## Loading test set"
   ]
  },
  {
   "cell_type": "code",
   "execution_count": 25,
   "metadata": {},
   "outputs": [],
   "source": [
    "def load_test_data():\n",
    "    core_path = os.environ['GITHUB_PATH']\n",
    "    file_path = os.path.join(core_path, 'education/kaggle/house-prices-advanced-regression-techniques/test.csv')\n",
    "\n",
    "    return pd.read_csv(file_path)\n",
    "\n",
    "housing_test = load_test_data()"
   ]
  },
  {
   "cell_type": "code",
   "execution_count": 26,
   "metadata": {},
   "outputs": [],
   "source": [
    "# housing_test.info()"
   ]
  },
  {
   "cell_type": "code",
   "execution_count": 27,
   "metadata": {},
   "outputs": [],
   "source": [
    "test_na_columns = housing_test.columns[housing_test.isna().any()].tolist()"
   ]
  },
  {
   "cell_type": "code",
   "execution_count": 28,
   "metadata": {},
   "outputs": [],
   "source": [
    "train_na_columns = housing.columns[housing.isna().any()].tolist()"
   ]
  },
  {
   "cell_type": "code",
   "execution_count": 29,
   "metadata": {},
   "outputs": [],
   "source": [
    "# list(set(test_na_columns) - set(train_na_columns))"
   ]
  },
  {
   "cell_type": "markdown",
   "metadata": {},
   "source": [
    "# Investigation of data"
   ]
  },
  {
   "cell_type": "code",
   "execution_count": 30,
   "metadata": {
    "scrolled": true
   },
   "outputs": [],
   "source": [
    "# housing.info()"
   ]
  },
  {
   "cell_type": "code",
   "execution_count": 31,
   "metadata": {},
   "outputs": [],
   "source": [
    "corr_matrix = housing.corr()\n",
    "# corr_matrix[\"SalePrice\"].sort_values(ascending=False)"
   ]
  },
  {
   "cell_type": "code",
   "execution_count": 32,
   "metadata": {},
   "outputs": [],
   "source": [
    "%matplotlib inline\n",
    "import matplotlib.pyplot as plt\n",
    "# housing.hist(bins=50, figsize=(20,15))\n",
    "# plt.show()"
   ]
  },
  {
   "cell_type": "markdown",
   "metadata": {},
   "source": [
    "# Test set"
   ]
  },
  {
   "cell_type": "code",
   "execution_count": 33,
   "metadata": {},
   "outputs": [],
   "source": [
    "# On the one hand we can divide training set to 2 parts as if it's real contest with closed test set\n",
    "# On the other hand we loss data and our train set is already \"train\", so we can use it whole.\n",
    "\n",
    "# from sklearn.model_selection import train_test_split\n",
    "\n",
    "# random_train_set, random_test_set = train_test_split(housing, test_size=0.2, random_state=42)\n",
    "\n"
   ]
  },
  {
   "cell_type": "markdown",
   "metadata": {},
   "source": [
    "# Copy of data"
   ]
  },
  {
   "cell_type": "code",
   "execution_count": 34,
   "metadata": {},
   "outputs": [],
   "source": [
    "housing_train = housing.drop(columns=['SalePrice'])\n",
    "housing_y = housing['SalePrice']\n",
    "# housing_train = random_train_set.copy()\n",
    "# housing_train.info()"
   ]
  },
  {
   "cell_type": "markdown",
   "metadata": {},
   "source": [
    "# NA filling"
   ]
  },
  {
   "cell_type": "code",
   "execution_count": 35,
   "metadata": {},
   "outputs": [
    {
     "data": {
      "text/plain": [
       "['LotFrontage',\n",
       " 'Alley',\n",
       " 'MasVnrType',\n",
       " 'MasVnrArea',\n",
       " 'BsmtQual',\n",
       " 'BsmtCond',\n",
       " 'BsmtExposure',\n",
       " 'BsmtFinType1',\n",
       " 'BsmtFinType2',\n",
       " 'Electrical',\n",
       " 'FireplaceQu',\n",
       " 'GarageType',\n",
       " 'GarageYrBlt',\n",
       " 'GarageFinish',\n",
       " 'GarageQual',\n",
       " 'GarageCond',\n",
       " 'PoolQC',\n",
       " 'Fence',\n",
       " 'MiscFeature']"
      ]
     },
     "execution_count": 35,
     "metadata": {},
     "output_type": "execute_result"
    }
   ],
   "source": [
    "housing.columns[housing.isna().any()].tolist()"
   ]
  },
  {
   "cell_type": "markdown",
   "metadata": {},
   "source": [
    "## NA mapper"
   ]
  },
  {
   "cell_type": "code",
   "execution_count": 36,
   "metadata": {},
   "outputs": [],
   "source": [
    "#https://www.mikulskibartosz.name/preprocessing-the-input-pandas-dataframe-using-columntransformer-in-scikit-learn/\n",
    "from sklearn.impute import SimpleImputer \n",
    "from sklearn_pandas import DataFrameMapper, gen_features\n",
    "from collections import Iterable\n",
    "\n",
    "def get_column_names(features):\n",
    "    names = []\n",
    "    for f in features:\n",
    "        col = f[0]\n",
    "        if isinstance(col, Iterable):\n",
    "            for v in col:\n",
    "                names.append(v)\n",
    "        else:\n",
    "            names.append(col)\n",
    "    return names\n",
    "\n",
    "def add_imputer(features, column_names, imputer_dict):\n",
    "    columns_2d = [[a] for a in column_names]\n",
    "    feature_def = gen_features(\n",
    "        columns=columns_2d,\n",
    "        classes=[imputer_dict]\n",
    "    )\n",
    "    for f in feature_def:\n",
    "        features.append(f)\n",
    "        \n",
    "def get_pass_columns(df, features, to_remove_list):\n",
    "    gen_column_names = get_column_names(features)\n",
    "\n",
    "    all_columns_list = df.columns.values.tolist()\n",
    "    pass_coumns = list(set(all_columns_list) - \n",
    "                   (set(gen_column_names) | set(to_remove_list)))\n",
    "    return pass_coumns\n",
    "\n",
    "def add_pass_imputer(features, columns):\n",
    "    pass_feature_def = gen_features(\n",
    "        columns=columns,\n",
    "        classes=[None]\n",
    "    )\n",
    "    for f in pass_feature_def:\n",
    "        features.append(f)\n",
    "\n",
    "na_to_none_columns_text = \"\"\"\n",
    "Alley\n",
    "MasVnrType\n",
    "BsmtQual\n",
    "BsmtCond\n",
    "BsmtExposure\n",
    "BsmtFinType1\n",
    "BsmtFinType2\n",
    "FireplaceQu\n",
    "GarageType\n",
    "GarageFinish\n",
    "GarageQual\n",
    "GarageCond\n",
    "PoolQC\n",
    "Fence\n",
    "MiscFeature\n",
    "\"\"\"\n",
    "\n",
    "na_to_none_columns = na_to_none_columns_text.split()\n",
    "\n",
    "na_to_mode_columns = [\n",
    "    'Electrical',\n",
    "    'MSZoning',\n",
    "    'Functional',\n",
    "    'KitchenQual',\n",
    "    'Utilities',\n",
    "    'SaleType',\n",
    "    'Exterior1st',\n",
    "    'Exterior2nd'\n",
    "]\n",
    "na_to_zero_columns = [\n",
    "    'MasVnrArea',\n",
    "    'BsmtFinSF2',\n",
    "    'BsmtFullBath',\n",
    "    'BsmtHalfBath',\n",
    "    'GarageArea',\n",
    "    'TotalBsmtSF',\n",
    "    'GarageCars',\n",
    "    'BsmtFinSF1',\n",
    "    'BsmtUnfSF'\n",
    "]\n",
    "na_to_mean_columns = [\n",
    "    'LotFrontage'\n",
    "]\n",
    "\n",
    "to_be_removed = ['GarageYrBlt']\n",
    "        \n",
    "all_fixed_features = []\n",
    "add_imputer(all_fixed_features, na_to_mode_columns,\n",
    "           {'class': SimpleImputer, 'strategy': 'most_frequent'})\n",
    "add_imputer(all_fixed_features, na_to_none_columns,\n",
    "           {'class': SimpleImputer, 'strategy': 'constant', 'fill_value': 'None'})\n",
    "add_imputer(all_fixed_features, na_to_zero_columns,\n",
    "           {'class': SimpleImputer, 'strategy': 'constant', 'fill_value': 0.0})\n",
    "add_imputer(all_fixed_features, na_to_mean_columns,\n",
    "           {'class': SimpleImputer, 'strategy': 'mean'})\n",
    "    \n",
    "\n",
    "# gen_column_names = get_column_names(all_fixed_features)\n",
    "\n",
    "# all_columns_list = housing_train.columns.values.tolist()\n",
    "# pass_coumns = list(set(all_columns_list) - \n",
    "#                    (set(gen_column_names) | set(to_be_removed)))\n",
    "\n",
    "pass_columns = get_pass_columns(housing_train, all_fixed_features, to_be_removed)\n",
    "add_pass_imputer(all_fixed_features, pass_columns)\n",
    "# pass_feature_def = gen_features(\n",
    "#     columns=pass_coumns,\n",
    "#     classes=[None]\n",
    "# )\n",
    "\n",
    "# for f in pass_feature_def:\n",
    "#     all_fixed_features.append(f)\n",
    "\n",
    "\n",
    "na_mapper = DataFrameMapper(all_fixed_features, df_out=True)\n",
    "\n",
    "\n",
    "\n",
    "# na_to_none_columns_2d\n",
    "# column_names = pd.Index(na_preprocessor.get_feature_names())\n",
    "# column_names\n",
    "# housing_wo_na = pd.DataFrame(housing_wo_na_array, index=housing.index, columns=housing.columns)\n",
    "\n",
    "# housing_wo_na.columns[housing_wo_na.isna().any()].tolist()"
   ]
  },
  {
   "cell_type": "markdown",
   "metadata": {},
   "source": [
    "### Train data NA filling"
   ]
  },
  {
   "cell_type": "code",
   "execution_count": 37,
   "metadata": {},
   "outputs": [
    {
     "data": {
      "text/plain": [
       "[]"
      ]
     },
     "execution_count": 37,
     "metadata": {},
     "output_type": "execute_result"
    }
   ],
   "source": [
    "housing_wo_na_df = na_mapper.fit_transform(housing_train)\n",
    "housing_wo_na_df.columns[housing_wo_na_df.isna().any()].tolist()"
   ]
  },
  {
   "cell_type": "markdown",
   "metadata": {},
   "source": [
    "### Test data NA filling"
   ]
  },
  {
   "cell_type": "code",
   "execution_count": 38,
   "metadata": {},
   "outputs": [
    {
     "data": {
      "text/plain": [
       "[]"
      ]
     },
     "execution_count": 38,
     "metadata": {},
     "output_type": "execute_result"
    }
   ],
   "source": [
    "housing_test_wo_na_df = na_mapper.fit_transform(housing_test)\n",
    "housing_test_wo_na_df.columns[housing_test_wo_na_df.isna().any()].tolist()"
   ]
  },
  {
   "cell_type": "markdown",
   "metadata": {},
   "source": [
    "# Features investigation and engineering 1"
   ]
  },
  {
   "cell_type": "code",
   "execution_count": 39,
   "metadata": {},
   "outputs": [],
   "source": [
    "housing_research_df = housing_wo_na_df.copy()\n",
    "housing_research_df['SalePrice'] = housing['SalePrice']"
   ]
  },
  {
   "cell_type": "markdown",
   "metadata": {},
   "source": [
    "## Distrubutions"
   ]
  },
  {
   "cell_type": "markdown",
   "metadata": {},
   "source": [
    "## Price"
   ]
  },
  {
   "cell_type": "markdown",
   "metadata": {},
   "source": [
    "### Histogram"
   ]
  },
  {
   "cell_type": "code",
   "execution_count": 40,
   "metadata": {},
   "outputs": [
    {
     "data": {
      "image/png": "[encoded data removed]",
      "text/plain": [
       "<Figure size 720x504 with 1 Axes>"
      ]
     },
     "metadata": {
      "needs_background": "light"
     },
     "output_type": "display_data"
    }
   ],
   "source": [
    "housing_research_df['SalePrice'].plot.hist(bins=100, figsize=(10,7))\n",
    "plt.show()"
   ]
  },
  {
   "cell_type": "code",
   "execution_count": 41,
   "metadata": {},
   "outputs": [
    {
     "name": "stdout",
     "output_type": "stream",
     "text": [
      "Price mean = 180921.19589041095, std = 79442.50288288663\n"
     ]
    }
   ],
   "source": [
    "print('Price mean = {0}, std = {1}'.format(\n",
    "    housing_research_df['SalePrice'].mean(),\n",
    "    housing_research_df['SalePrice'].std()))"
   ]
  },
  {
   "cell_type": "code",
   "execution_count": 42,
   "metadata": {},
   "outputs": [
    {
     "name": "stdout",
     "output_type": "stream",
     "text": [
      "q05 = 88000.0, q95 = 326099.99999999994\n"
     ]
    }
   ],
   "source": [
    "prices = housing_research_df[\"SalePrice\"]\n",
    "print('q05 = {0}, q95 = {1}'.format(prices.quantile(0.05), prices.quantile(0.95)))"
   ]
  },
  {
   "cell_type": "markdown",
   "metadata": {},
   "source": [
    "### Box plot"
   ]
  },
  {
   "cell_type": "code",
   "execution_count": 43,
   "metadata": {},
   "outputs": [
    {
     "data": {
      "text/plain": [
       "<matplotlib.axes._subplots.AxesSubplot at 0xc4705c0>"
      ]
     },
     "execution_count": 43,
     "metadata": {},
     "output_type": "execute_result"
    },
    {
     "data": {
      "image/png": "[encoded data removed]",
      "text/plain": [
       "<Figure size 432x288 with 1 Axes>"
      ]
     },
     "metadata": {
      "needs_background": "light"
     },
     "output_type": "display_data"
    }
   ],
   "source": [
    "housing_research_df['SalePrice'].plot.box()"
   ]
  },
  {
   "cell_type": "markdown",
   "metadata": {},
   "source": [
    "### OverallQual"
   ]
  },
  {
   "cell_type": "code",
   "execution_count": 44,
   "metadata": {},
   "outputs": [
    {
     "data": {
      "text/html": [
       "<div>\n",
       "<style scoped>\n",
       "    .dataframe tbody tr th:only-of-type {\n",
       "        vertical-align: middle;\n",
       "    }\n",
       "\n",
       "    .dataframe tbody tr th {\n",
       "        vertical-align: top;\n",
       "    }\n",
       "\n",
       "    .dataframe thead tr th {\n",
       "        text-align: left;\n",
       "    }\n",
       "\n",
       "    .dataframe thead tr:last-of-type th {\n",
       "        text-align: right;\n",
       "    }\n",
       "</style>\n",
       "<table border=\"1\" class=\"dataframe\">\n",
       "  <thead>\n",
       "    <tr>\n",
       "      <th></th>\n",
       "      <th colspan=\"3\" halign=\"left\">SalePrice</th>\n",
       "    </tr>\n",
       "    <tr>\n",
       "      <th></th>\n",
       "      <th>count</th>\n",
       "      <th>mean</th>\n",
       "      <th>std</th>\n",
       "    </tr>\n",
       "    <tr>\n",
       "      <th>OverallQual</th>\n",
       "      <th></th>\n",
       "      <th></th>\n",
       "      <th></th>\n",
       "    </tr>\n",
       "  </thead>\n",
       "  <tbody>\n",
       "    <tr>\n",
       "      <th>1</th>\n",
       "      <td>2</td>\n",
       "      <td>50150.000000</td>\n",
       "      <td>15344.217152</td>\n",
       "    </tr>\n",
       "    <tr>\n",
       "      <th>2</th>\n",
       "      <td>3</td>\n",
       "      <td>51770.333333</td>\n",
       "      <td>14254.200796</td>\n",
       "    </tr>\n",
       "    <tr>\n",
       "      <th>3</th>\n",
       "      <td>20</td>\n",
       "      <td>87473.750000</td>\n",
       "      <td>24688.567399</td>\n",
       "    </tr>\n",
       "    <tr>\n",
       "      <th>4</th>\n",
       "      <td>116</td>\n",
       "      <td>108420.655172</td>\n",
       "      <td>29022.003886</td>\n",
       "    </tr>\n",
       "    <tr>\n",
       "      <th>5</th>\n",
       "      <td>397</td>\n",
       "      <td>133523.347607</td>\n",
       "      <td>27107.330927</td>\n",
       "    </tr>\n",
       "    <tr>\n",
       "      <th>6</th>\n",
       "      <td>374</td>\n",
       "      <td>161603.034759</td>\n",
       "      <td>36090.182933</td>\n",
       "    </tr>\n",
       "    <tr>\n",
       "      <th>7</th>\n",
       "      <td>319</td>\n",
       "      <td>207716.423197</td>\n",
       "      <td>44466.259414</td>\n",
       "    </tr>\n",
       "    <tr>\n",
       "      <th>8</th>\n",
       "      <td>168</td>\n",
       "      <td>274735.535714</td>\n",
       "      <td>63898.902253</td>\n",
       "    </tr>\n",
       "    <tr>\n",
       "      <th>9</th>\n",
       "      <td>43</td>\n",
       "      <td>367513.023256</td>\n",
       "      <td>81278.174849</td>\n",
       "    </tr>\n",
       "    <tr>\n",
       "      <th>10</th>\n",
       "      <td>18</td>\n",
       "      <td>438588.388889</td>\n",
       "      <td>159785.491058</td>\n",
       "    </tr>\n",
       "  </tbody>\n",
       "</table>\n",
       "</div>"
      ],
      "text/plain": [
       "            SalePrice                              \n",
       "                count           mean            std\n",
       "OverallQual                                        \n",
       "1                   2   50150.000000   15344.217152\n",
       "2                   3   51770.333333   14254.200796\n",
       "3                  20   87473.750000   24688.567399\n",
       "4                 116  108420.655172   29022.003886\n",
       "5                 397  133523.347607   27107.330927\n",
       "6                 374  161603.034759   36090.182933\n",
       "7                 319  207716.423197   44466.259414\n",
       "8                 168  274735.535714   63898.902253\n",
       "9                  43  367513.023256   81278.174849\n",
       "10                 18  438588.388889  159785.491058"
      ]
     },
     "execution_count": 44,
     "metadata": {},
     "output_type": "execute_result"
    }
   ],
   "source": [
    "import numpy as np\n",
    "stat = housing_research_df[['SalePrice', 'OverallQual']].groupby('OverallQual').agg(['count', np.mean, np.std])\n",
    "stat.sort_values(('SalePrice','mean'))"
   ]
  },
  {
   "cell_type": "code",
   "execution_count": 45,
   "metadata": {},
   "outputs": [],
   "source": [
    "OverallQual_fixed = stat[('SalePrice','mean')][housing_research_df['OverallQual']]/100000.0\n",
    "# OverallQual_fixed.reset_index()\n",
    "housing_research_df['OverallQualFixed'] = OverallQual_fixed.values\n",
    "# housing_research_df[['OverallQual', 'OverallQualFixed']]"
   ]
  },
  {
   "cell_type": "code",
   "execution_count": 46,
   "metadata": {},
   "outputs": [
    {
     "data": {
      "text/plain": [
       "<matplotlib.axes._subplots.AxesSubplot at 0x9b3da90>"
      ]
     },
     "execution_count": 46,
     "metadata": {},
     "output_type": "execute_result"
    },
    {
     "data": {
      "image/png": "[encoded data removed]",
      "text/plain": [
       "<Figure size 432x288 with 1 Axes>"
      ]
     },
     "metadata": {
      "needs_background": "light"
     },
     "output_type": "display_data"
    },
    {
     "data": {
      "image/png": "[encoded data removed]",
      "text/plain": [
       "<Figure size 432x288 with 1 Axes>"
      ]
     },
     "metadata": {
      "needs_background": "light"
     },
     "output_type": "display_data"
    }
   ],
   "source": [
    "housing_research_df.plot.scatter(x='OverallQual', y='SalePrice')\n",
    "housing_research_df.plot.scatter(x='OverallQualFixed', y='SalePrice')"
   ]
  },
  {
   "cell_type": "code",
   "execution_count": 47,
   "metadata": {},
   "outputs": [
    {
     "data": {
      "text/plain": [
       "<matplotlib.axes._subplots.AxesSubplot at 0x9a2e588>"
      ]
     },
     "execution_count": 47,
     "metadata": {},
     "output_type": "execute_result"
    },
    {
     "data": {
      "image/png": "[encoded data removed]",
      "text/plain": [
       "<Figure size 432x288 with 1 Axes>"
      ]
     },
     "metadata": {
      "needs_background": "light"
     },
     "output_type": "display_data"
    }
   ],
   "source": [
    "stat.plot()"
   ]
  },
  {
   "cell_type": "markdown",
   "metadata": {},
   "source": [
    "### Neighborhood"
   ]
  },
  {
   "cell_type": "code",
   "execution_count": 48,
   "metadata": {
    "scrolled": false
   },
   "outputs": [
    {
     "data": {
      "text/html": [
       "<div>\n",
       "<style scoped>\n",
       "    .dataframe tbody tr th:only-of-type {\n",
       "        vertical-align: middle;\n",
       "    }\n",
       "\n",
       "    .dataframe tbody tr th {\n",
       "        vertical-align: top;\n",
       "    }\n",
       "\n",
       "    .dataframe thead tr th {\n",
       "        text-align: left;\n",
       "    }\n",
       "\n",
       "    .dataframe thead tr:last-of-type th {\n",
       "        text-align: right;\n",
       "    }\n",
       "</style>\n",
       "<table border=\"1\" class=\"dataframe\">\n",
       "  <thead>\n",
       "    <tr>\n",
       "      <th></th>\n",
       "      <th colspan=\"3\" halign=\"left\">SalePrice</th>\n",
       "    </tr>\n",
       "    <tr>\n",
       "      <th></th>\n",
       "      <th>count</th>\n",
       "      <th>mean</th>\n",
       "      <th>std</th>\n",
       "    </tr>\n",
       "    <tr>\n",
       "      <th>Neighborhood</th>\n",
       "      <th></th>\n",
       "      <th></th>\n",
       "      <th></th>\n",
       "    </tr>\n",
       "  </thead>\n",
       "  <tbody>\n",
       "    <tr>\n",
       "      <th>MeadowV</th>\n",
       "      <td>17</td>\n",
       "      <td>98576.470588</td>\n",
       "      <td>23491.049610</td>\n",
       "    </tr>\n",
       "    <tr>\n",
       "      <th>IDOTRR</th>\n",
       "      <td>37</td>\n",
       "      <td>100123.783784</td>\n",
       "      <td>33376.710117</td>\n",
       "    </tr>\n",
       "    <tr>\n",
       "      <th>BrDale</th>\n",
       "      <td>16</td>\n",
       "      <td>104493.750000</td>\n",
       "      <td>14330.176493</td>\n",
       "    </tr>\n",
       "    <tr>\n",
       "      <th>BrkSide</th>\n",
       "      <td>58</td>\n",
       "      <td>124834.051724</td>\n",
       "      <td>40348.689270</td>\n",
       "    </tr>\n",
       "    <tr>\n",
       "      <th>Edwards</th>\n",
       "      <td>100</td>\n",
       "      <td>128219.700000</td>\n",
       "      <td>43208.616459</td>\n",
       "    </tr>\n",
       "    <tr>\n",
       "      <th>OldTown</th>\n",
       "      <td>113</td>\n",
       "      <td>128225.300885</td>\n",
       "      <td>52650.583185</td>\n",
       "    </tr>\n",
       "    <tr>\n",
       "      <th>Sawyer</th>\n",
       "      <td>74</td>\n",
       "      <td>136793.135135</td>\n",
       "      <td>22345.129157</td>\n",
       "    </tr>\n",
       "    <tr>\n",
       "      <th>Blueste</th>\n",
       "      <td>2</td>\n",
       "      <td>137500.000000</td>\n",
       "      <td>19091.883092</td>\n",
       "    </tr>\n",
       "    <tr>\n",
       "      <th>SWISU</th>\n",
       "      <td>25</td>\n",
       "      <td>142591.360000</td>\n",
       "      <td>32622.917679</td>\n",
       "    </tr>\n",
       "    <tr>\n",
       "      <th>NPkVill</th>\n",
       "      <td>9</td>\n",
       "      <td>142694.444444</td>\n",
       "      <td>9377.314529</td>\n",
       "    </tr>\n",
       "    <tr>\n",
       "      <th>NAmes</th>\n",
       "      <td>225</td>\n",
       "      <td>145847.080000</td>\n",
       "      <td>33075.345450</td>\n",
       "    </tr>\n",
       "    <tr>\n",
       "      <th>Mitchel</th>\n",
       "      <td>49</td>\n",
       "      <td>156270.122449</td>\n",
       "      <td>36486.625334</td>\n",
       "    </tr>\n",
       "    <tr>\n",
       "      <th>SawyerW</th>\n",
       "      <td>59</td>\n",
       "      <td>186555.796610</td>\n",
       "      <td>55651.997820</td>\n",
       "    </tr>\n",
       "    <tr>\n",
       "      <th>NWAmes</th>\n",
       "      <td>73</td>\n",
       "      <td>189050.068493</td>\n",
       "      <td>37172.218106</td>\n",
       "    </tr>\n",
       "    <tr>\n",
       "      <th>Gilbert</th>\n",
       "      <td>79</td>\n",
       "      <td>192854.506329</td>\n",
       "      <td>35986.779085</td>\n",
       "    </tr>\n",
       "    <tr>\n",
       "      <th>Blmngtn</th>\n",
       "      <td>17</td>\n",
       "      <td>194870.882353</td>\n",
       "      <td>30393.229219</td>\n",
       "    </tr>\n",
       "    <tr>\n",
       "      <th>CollgCr</th>\n",
       "      <td>150</td>\n",
       "      <td>197965.773333</td>\n",
       "      <td>51403.666438</td>\n",
       "    </tr>\n",
       "    <tr>\n",
       "      <th>Crawfor</th>\n",
       "      <td>51</td>\n",
       "      <td>210624.725490</td>\n",
       "      <td>68866.395472</td>\n",
       "    </tr>\n",
       "    <tr>\n",
       "      <th>ClearCr</th>\n",
       "      <td>28</td>\n",
       "      <td>212565.428571</td>\n",
       "      <td>50231.538993</td>\n",
       "    </tr>\n",
       "    <tr>\n",
       "      <th>Somerst</th>\n",
       "      <td>86</td>\n",
       "      <td>225379.837209</td>\n",
       "      <td>56177.555888</td>\n",
       "    </tr>\n",
       "    <tr>\n",
       "      <th>Veenker</th>\n",
       "      <td>11</td>\n",
       "      <td>238772.727273</td>\n",
       "      <td>72369.317959</td>\n",
       "    </tr>\n",
       "    <tr>\n",
       "      <th>Timber</th>\n",
       "      <td>38</td>\n",
       "      <td>242247.447368</td>\n",
       "      <td>64845.651549</td>\n",
       "    </tr>\n",
       "    <tr>\n",
       "      <th>StoneBr</th>\n",
       "      <td>25</td>\n",
       "      <td>310499.000000</td>\n",
       "      <td>112969.676640</td>\n",
       "    </tr>\n",
       "    <tr>\n",
       "      <th>NridgHt</th>\n",
       "      <td>77</td>\n",
       "      <td>316270.623377</td>\n",
       "      <td>96392.544954</td>\n",
       "    </tr>\n",
       "    <tr>\n",
       "      <th>NoRidge</th>\n",
       "      <td>41</td>\n",
       "      <td>335295.317073</td>\n",
       "      <td>121412.658640</td>\n",
       "    </tr>\n",
       "  </tbody>\n",
       "</table>\n",
       "</div>"
      ],
      "text/plain": [
       "             SalePrice                              \n",
       "                 count           mean            std\n",
       "Neighborhood                                        \n",
       "MeadowV             17   98576.470588   23491.049610\n",
       "IDOTRR              37  100123.783784   33376.710117\n",
       "BrDale              16  104493.750000   14330.176493\n",
       "BrkSide             58  124834.051724   40348.689270\n",
       "Edwards            100  128219.700000   43208.616459\n",
       "OldTown            113  128225.300885   52650.583185\n",
       "Sawyer              74  136793.135135   22345.129157\n",
       "Blueste              2  137500.000000   19091.883092\n",
       "SWISU               25  142591.360000   32622.917679\n",
       "NPkVill              9  142694.444444    9377.314529\n",
       "NAmes              225  145847.080000   33075.345450\n",
       "Mitchel             49  156270.122449   36486.625334\n",
       "SawyerW             59  186555.796610   55651.997820\n",
       "NWAmes              73  189050.068493   37172.218106\n",
       "Gilbert             79  192854.506329   35986.779085\n",
       "Blmngtn             17  194870.882353   30393.229219\n",
       "CollgCr            150  197965.773333   51403.666438\n",
       "Crawfor             51  210624.725490   68866.395472\n",
       "ClearCr             28  212565.428571   50231.538993\n",
       "Somerst             86  225379.837209   56177.555888\n",
       "Veenker             11  238772.727273   72369.317959\n",
       "Timber              38  242247.447368   64845.651549\n",
       "StoneBr             25  310499.000000  112969.676640\n",
       "NridgHt             77  316270.623377   96392.544954\n",
       "NoRidge             41  335295.317073  121412.658640"
      ]
     },
     "execution_count": 48,
     "metadata": {},
     "output_type": "execute_result"
    }
   ],
   "source": [
    "housing_research_df[['SalePrice', 'Neighborhood']].groupby('Neighborhood').agg(['count', np.mean, np.std]).sort_values(('SalePrice','mean'))"
   ]
  },
  {
   "cell_type": "markdown",
   "metadata": {},
   "source": [
    "### New feature - mean price for Neighborhood and correlation with price"
   ]
  },
  {
   "cell_type": "markdown",
   "metadata": {},
   "source": [
    "So we see that there are:\n",
    "1. cheep ares (MeadowV - BrDale)\n",
    "2. econom (BrkSide - Mitchel)\n",
    "3. comfort (SawyerW - Timber)\n",
    "4. elite (StoneBr - NoRidge)\n",
    "\n",
    "We can get mean price for each category and calc correlation with sale price"
   ]
  },
  {
   "cell_type": "code",
   "execution_count": 49,
   "metadata": {},
   "outputs": [],
   "source": [
    "neighborhood_cat_columns = [\n",
    "    ['MeadowV', 'IDOTRR', 'BrDale'],\n",
    "    ['BrkSide', 'Edwards', 'OldTown'],\n",
    "    ['Sawyer', 'Blueste', 'SWISU', 'NPkVill', 'NAmes', 'Mitchel'],\n",
    "    ['SawyerW', 'NWAmes', 'Gilbert', 'Blmngtn', 'CollgCr'],\n",
    "    ['Crawfor', 'ClearCr', 'Somerst', 'Veenker', 'Timber'],\n",
    "    ['StoneBr', 'NridgHt', 'NoRidge']]\n",
    "\n",
    "def create_neighborhood_cat_feature(df, columns_array):\n",
    "    df['NeighborhoodCat'] = 0.0\n",
    "    for cols in columns_array:\n",
    "            m = df[df['Neighborhood'].isin(cols)]['SalePrice'].mean()\n",
    "            df['NeighborhoodCat'][df['Neighborhood'].isin(cols)] = int(m / 1000)\n",
    "\n",
    "create_neighborhood_cat_feature(housing_research_df, neighborhood_cat_columns)\n",
    "# housing_research_df['NeighborhoodCat']"
   ]
  },
  {
   "cell_type": "code",
   "execution_count": 50,
   "metadata": {
    "scrolled": false
   },
   "outputs": [
    {
     "data": {
      "text/html": [
       "<div>\n",
       "<style scoped>\n",
       "    .dataframe tbody tr th:only-of-type {\n",
       "        vertical-align: middle;\n",
       "    }\n",
       "\n",
       "    .dataframe tbody tr th {\n",
       "        vertical-align: top;\n",
       "    }\n",
       "\n",
       "    .dataframe thead tr th {\n",
       "        text-align: left;\n",
       "    }\n",
       "\n",
       "    .dataframe thead tr:last-of-type th {\n",
       "        text-align: right;\n",
       "    }\n",
       "</style>\n",
       "<table border=\"1\" class=\"dataframe\">\n",
       "  <thead>\n",
       "    <tr>\n",
       "      <th></th>\n",
       "      <th colspan=\"2\" halign=\"left\">OverallQual</th>\n",
       "    </tr>\n",
       "    <tr>\n",
       "      <th></th>\n",
       "      <th>mean</th>\n",
       "      <th>std</th>\n",
       "    </tr>\n",
       "    <tr>\n",
       "      <th>Neighborhood</th>\n",
       "      <th></th>\n",
       "      <th></th>\n",
       "    </tr>\n",
       "  </thead>\n",
       "  <tbody>\n",
       "    <tr>\n",
       "      <th>MeadowV</th>\n",
       "      <td>4.470588</td>\n",
       "      <td>0.624264</td>\n",
       "    </tr>\n",
       "    <tr>\n",
       "      <th>IDOTRR</th>\n",
       "      <td>4.756757</td>\n",
       "      <td>1.140307</td>\n",
       "    </tr>\n",
       "    <tr>\n",
       "      <th>Sawyer</th>\n",
       "      <td>5.027027</td>\n",
       "      <td>0.522716</td>\n",
       "    </tr>\n",
       "    <tr>\n",
       "      <th>BrkSide</th>\n",
       "      <td>5.051724</td>\n",
       "      <td>1.190937</td>\n",
       "    </tr>\n",
       "    <tr>\n",
       "      <th>Edwards</th>\n",
       "      <td>5.080000</td>\n",
       "      <td>1.307940</td>\n",
       "    </tr>\n",
       "    <tr>\n",
       "      <th>NAmes</th>\n",
       "      <td>5.360000</td>\n",
       "      <td>0.823321</td>\n",
       "    </tr>\n",
       "    <tr>\n",
       "      <th>OldTown</th>\n",
       "      <td>5.389381</td>\n",
       "      <td>1.291688</td>\n",
       "    </tr>\n",
       "    <tr>\n",
       "      <th>SWISU</th>\n",
       "      <td>5.440000</td>\n",
       "      <td>1.083205</td>\n",
       "    </tr>\n",
       "    <tr>\n",
       "      <th>Mitchel</th>\n",
       "      <td>5.591837</td>\n",
       "      <td>0.864059</td>\n",
       "    </tr>\n",
       "    <tr>\n",
       "      <th>BrDale</th>\n",
       "      <td>5.687500</td>\n",
       "      <td>0.478714</td>\n",
       "    </tr>\n",
       "    <tr>\n",
       "      <th>ClearCr</th>\n",
       "      <td>5.892857</td>\n",
       "      <td>0.994030</td>\n",
       "    </tr>\n",
       "    <tr>\n",
       "      <th>NPkVill</th>\n",
       "      <td>6.000000</td>\n",
       "      <td>0.000000</td>\n",
       "    </tr>\n",
       "    <tr>\n",
       "      <th>Blueste</th>\n",
       "      <td>6.000000</td>\n",
       "      <td>0.000000</td>\n",
       "    </tr>\n",
       "    <tr>\n",
       "      <th>Crawfor</th>\n",
       "      <td>6.274510</td>\n",
       "      <td>1.021341</td>\n",
       "    </tr>\n",
       "    <tr>\n",
       "      <th>SawyerW</th>\n",
       "      <td>6.322034</td>\n",
       "      <td>0.936624</td>\n",
       "    </tr>\n",
       "    <tr>\n",
       "      <th>NWAmes</th>\n",
       "      <td>6.328767</td>\n",
       "      <td>0.727530</td>\n",
       "    </tr>\n",
       "    <tr>\n",
       "      <th>Gilbert</th>\n",
       "      <td>6.556962</td>\n",
       "      <td>0.780316</td>\n",
       "    </tr>\n",
       "    <tr>\n",
       "      <th>CollgCr</th>\n",
       "      <td>6.640000</td>\n",
       "      <td>1.038067</td>\n",
       "    </tr>\n",
       "    <tr>\n",
       "      <th>Veenker</th>\n",
       "      <td>6.727273</td>\n",
       "      <td>1.348400</td>\n",
       "    </tr>\n",
       "    <tr>\n",
       "      <th>Timber</th>\n",
       "      <td>7.157895</td>\n",
       "      <td>1.197437</td>\n",
       "    </tr>\n",
       "    <tr>\n",
       "      <th>Blmngtn</th>\n",
       "      <td>7.176471</td>\n",
       "      <td>0.392953</td>\n",
       "    </tr>\n",
       "    <tr>\n",
       "      <th>Somerst</th>\n",
       "      <td>7.337209</td>\n",
       "      <td>0.806014</td>\n",
       "    </tr>\n",
       "    <tr>\n",
       "      <th>NoRidge</th>\n",
       "      <td>7.926829</td>\n",
       "      <td>0.848241</td>\n",
       "    </tr>\n",
       "    <tr>\n",
       "      <th>StoneBr</th>\n",
       "      <td>8.160000</td>\n",
       "      <td>0.687992</td>\n",
       "    </tr>\n",
       "    <tr>\n",
       "      <th>NridgHt</th>\n",
       "      <td>8.259740</td>\n",
       "      <td>0.992108</td>\n",
       "    </tr>\n",
       "  </tbody>\n",
       "</table>\n",
       "</div>"
      ],
      "text/plain": [
       "             OverallQual          \n",
       "                    mean       std\n",
       "Neighborhood                      \n",
       "MeadowV         4.470588  0.624264\n",
       "IDOTRR          4.756757  1.140307\n",
       "Sawyer          5.027027  0.522716\n",
       "BrkSide         5.051724  1.190937\n",
       "Edwards         5.080000  1.307940\n",
       "NAmes           5.360000  0.823321\n",
       "OldTown         5.389381  1.291688\n",
       "SWISU           5.440000  1.083205\n",
       "Mitchel         5.591837  0.864059\n",
       "BrDale          5.687500  0.478714\n",
       "ClearCr         5.892857  0.994030\n",
       "NPkVill         6.000000  0.000000\n",
       "Blueste         6.000000  0.000000\n",
       "Crawfor         6.274510  1.021341\n",
       "SawyerW         6.322034  0.936624\n",
       "NWAmes          6.328767  0.727530\n",
       "Gilbert         6.556962  0.780316\n",
       "CollgCr         6.640000  1.038067\n",
       "Veenker         6.727273  1.348400\n",
       "Timber          7.157895  1.197437\n",
       "Blmngtn         7.176471  0.392953\n",
       "Somerst         7.337209  0.806014\n",
       "NoRidge         7.926829  0.848241\n",
       "StoneBr         8.160000  0.687992\n",
       "NridgHt         8.259740  0.992108"
      ]
     },
     "execution_count": 50,
     "metadata": {},
     "output_type": "execute_result"
    }
   ],
   "source": [
    "housing_research_df[['OverallQual', 'Neighborhood']].groupby('Neighborhood').agg([np.mean, np.std]).sort_values(('OverallQual','mean'))"
   ]
  },
  {
   "cell_type": "markdown",
   "metadata": {},
   "source": [
    "## Grouping by some categories"
   ]
  },
  {
   "cell_type": "markdown",
   "metadata": {},
   "source": [
    "### Whole square\n",
    "What we should do with unfinished squares? I think we should multiply it by some coef, so we should find coef somehow?"
   ]
  },
  {
   "cell_type": "code",
   "execution_count": 51,
   "metadata": {},
   "outputs": [
    {
     "data": {
      "text/plain": [
       "LotArea        10516.828082\n",
       "MasVnrArea       103.117123\n",
       "TotalBsmtSF     1057.429452\n",
       "GrLivArea       1515.463699\n",
       "GarageArea       472.980137\n",
       "dtype: float64"
      ]
     },
     "execution_count": 51,
     "metadata": {},
     "output_type": "execute_result"
    }
   ],
   "source": [
    "square_columns = ['LotArea', 'MasVnrArea', 'TotalBsmtSF',\n",
    "                  'GrLivArea', 'GarageArea']\n",
    "\n",
    "housing_research_df[square_columns].mean()"
   ]
  },
  {
   "cell_type": "code",
   "execution_count": 52,
   "metadata": {},
   "outputs": [],
   "source": [
    "housing_research_df['TotalArea'] = housing_research_df['GrLivArea'] + 0.3*housing_research_df['TotalBsmtSF']"
   ]
  },
  {
   "cell_type": "markdown",
   "metadata": {},
   "source": [
    "### Price of 1 square feet"
   ]
  },
  {
   "cell_type": "code",
   "execution_count": 53,
   "metadata": {},
   "outputs": [
    {
     "data": {
      "text/html": [
       "<div>\n",
       "<style scoped>\n",
       "    .dataframe tbody tr th:only-of-type {\n",
       "        vertical-align: middle;\n",
       "    }\n",
       "\n",
       "    .dataframe tbody tr th {\n",
       "        vertical-align: top;\n",
       "    }\n",
       "\n",
       "    .dataframe thead tr th {\n",
       "        text-align: left;\n",
       "    }\n",
       "\n",
       "    .dataframe thead tr:last-of-type th {\n",
       "        text-align: right;\n",
       "    }\n",
       "</style>\n",
       "<table border=\"1\" class=\"dataframe\">\n",
       "  <thead>\n",
       "    <tr>\n",
       "      <th></th>\n",
       "      <th colspan=\"3\" halign=\"left\">PricePerGrLivArea</th>\n",
       "    </tr>\n",
       "    <tr>\n",
       "      <th></th>\n",
       "      <th>count</th>\n",
       "      <th>mean</th>\n",
       "      <th>std</th>\n",
       "    </tr>\n",
       "    <tr>\n",
       "      <th>Neighborhood</th>\n",
       "      <th></th>\n",
       "      <th></th>\n",
       "      <th></th>\n",
       "    </tr>\n",
       "  </thead>\n",
       "  <tbody>\n",
       "    <tr>\n",
       "      <th>Blmngtn</th>\n",
       "      <td>17</td>\n",
       "      <td>136.566974</td>\n",
       "      <td>16.442328</td>\n",
       "    </tr>\n",
       "    <tr>\n",
       "      <th>Blueste</th>\n",
       "      <td>2</td>\n",
       "      <td>98.969369</td>\n",
       "      <td>2.723305</td>\n",
       "    </tr>\n",
       "    <tr>\n",
       "      <th>BrDale</th>\n",
       "      <td>16</td>\n",
       "      <td>91.950543</td>\n",
       "      <td>10.905571</td>\n",
       "    </tr>\n",
       "    <tr>\n",
       "      <th>BrkSide</th>\n",
       "      <td>58</td>\n",
       "      <td>105.966809</td>\n",
       "      <td>20.956996</td>\n",
       "    </tr>\n",
       "    <tr>\n",
       "      <th>ClearCr</th>\n",
       "      <td>28</td>\n",
       "      <td>124.242989</td>\n",
       "      <td>35.154804</td>\n",
       "    </tr>\n",
       "    <tr>\n",
       "      <th>CollgCr</th>\n",
       "      <td>150</td>\n",
       "      <td>136.783680</td>\n",
       "      <td>19.856032</td>\n",
       "    </tr>\n",
       "    <tr>\n",
       "      <th>Crawfor</th>\n",
       "      <td>51</td>\n",
       "      <td>120.254826</td>\n",
       "      <td>29.602103</td>\n",
       "    </tr>\n",
       "    <tr>\n",
       "      <th>Edwards</th>\n",
       "      <td>100</td>\n",
       "      <td>101.832958</td>\n",
       "      <td>28.562907</td>\n",
       "    </tr>\n",
       "    <tr>\n",
       "      <th>Gilbert</th>\n",
       "      <td>79</td>\n",
       "      <td>119.114931</td>\n",
       "      <td>19.241586</td>\n",
       "    </tr>\n",
       "    <tr>\n",
       "      <th>IDOTRR</th>\n",
       "      <td>37</td>\n",
       "      <td>89.136043</td>\n",
       "      <td>27.466568</td>\n",
       "    </tr>\n",
       "    <tr>\n",
       "      <th>MeadowV</th>\n",
       "      <td>17</td>\n",
       "      <td>101.926201</td>\n",
       "      <td>27.986732</td>\n",
       "    </tr>\n",
       "    <tr>\n",
       "      <th>Mitchel</th>\n",
       "      <td>49</td>\n",
       "      <td>126.017449</td>\n",
       "      <td>27.885001</td>\n",
       "    </tr>\n",
       "    <tr>\n",
       "      <th>NAmes</th>\n",
       "      <td>225</td>\n",
       "      <td>116.089385</td>\n",
       "      <td>23.084300</td>\n",
       "    </tr>\n",
       "    <tr>\n",
       "      <th>NPkVill</th>\n",
       "      <td>9</td>\n",
       "      <td>116.726891</td>\n",
       "      <td>17.977999</td>\n",
       "    </tr>\n",
       "    <tr>\n",
       "      <th>NWAmes</th>\n",
       "      <td>73</td>\n",
       "      <td>111.848349</td>\n",
       "      <td>18.391293</td>\n",
       "    </tr>\n",
       "    <tr>\n",
       "      <th>NoRidge</th>\n",
       "      <td>41</td>\n",
       "      <td>132.271687</td>\n",
       "      <td>21.780224</td>\n",
       "    </tr>\n",
       "    <tr>\n",
       "      <th>NridgHt</th>\n",
       "      <td>77</td>\n",
       "      <td>164.578057</td>\n",
       "      <td>31.545375</td>\n",
       "    </tr>\n",
       "    <tr>\n",
       "      <th>OldTown</th>\n",
       "      <td>113</td>\n",
       "      <td>91.427282</td>\n",
       "      <td>25.983022</td>\n",
       "    </tr>\n",
       "    <tr>\n",
       "      <th>SWISU</th>\n",
       "      <td>25</td>\n",
       "      <td>84.755233</td>\n",
       "      <td>21.558536</td>\n",
       "    </tr>\n",
       "    <tr>\n",
       "      <th>Sawyer</th>\n",
       "      <td>74</td>\n",
       "      <td>117.856163</td>\n",
       "      <td>25.553172</td>\n",
       "    </tr>\n",
       "    <tr>\n",
       "      <th>SawyerW</th>\n",
       "      <td>59</td>\n",
       "      <td>119.704424</td>\n",
       "      <td>22.114151</td>\n",
       "    </tr>\n",
       "    <tr>\n",
       "      <th>Somerst</th>\n",
       "      <td>86</td>\n",
       "      <td>141.335966</td>\n",
       "      <td>24.247865</td>\n",
       "    </tr>\n",
       "    <tr>\n",
       "      <th>StoneBr</th>\n",
       "      <td>25</td>\n",
       "      <td>165.402275</td>\n",
       "      <td>35.922454</td>\n",
       "    </tr>\n",
       "    <tr>\n",
       "      <th>Timber</th>\n",
       "      <td>38</td>\n",
       "      <td>139.766483</td>\n",
       "      <td>28.914709</td>\n",
       "    </tr>\n",
       "    <tr>\n",
       "      <th>Veenker</th>\n",
       "      <td>11</td>\n",
       "      <td>154.980914</td>\n",
       "      <td>32.661473</td>\n",
       "    </tr>\n",
       "  </tbody>\n",
       "</table>\n",
       "</div>"
      ],
      "text/plain": [
       "             PricePerGrLivArea                       \n",
       "                         count        mean        std\n",
       "Neighborhood                                         \n",
       "Blmngtn                     17  136.566974  16.442328\n",
       "Blueste                      2   98.969369   2.723305\n",
       "BrDale                      16   91.950543  10.905571\n",
       "BrkSide                     58  105.966809  20.956996\n",
       "ClearCr                     28  124.242989  35.154804\n",
       "CollgCr                    150  136.783680  19.856032\n",
       "Crawfor                     51  120.254826  29.602103\n",
       "Edwards                    100  101.832958  28.562907\n",
       "Gilbert                     79  119.114931  19.241586\n",
       "IDOTRR                      37   89.136043  27.466568\n",
       "MeadowV                     17  101.926201  27.986732\n",
       "Mitchel                     49  126.017449  27.885001\n",
       "NAmes                      225  116.089385  23.084300\n",
       "NPkVill                      9  116.726891  17.977999\n",
       "NWAmes                      73  111.848349  18.391293\n",
       "NoRidge                     41  132.271687  21.780224\n",
       "NridgHt                     77  164.578057  31.545375\n",
       "OldTown                    113   91.427282  25.983022\n",
       "SWISU                       25   84.755233  21.558536\n",
       "Sawyer                      74  117.856163  25.553172\n",
       "SawyerW                     59  119.704424  22.114151\n",
       "Somerst                     86  141.335966  24.247865\n",
       "StoneBr                     25  165.402275  35.922454\n",
       "Timber                      38  139.766483  28.914709\n",
       "Veenker                     11  154.980914  32.661473"
      ]
     },
     "execution_count": 53,
     "metadata": {},
     "output_type": "execute_result"
    }
   ],
   "source": [
    "housing_research_df['PricePerGrLivArea'] = housing_research_df['SalePrice'] / housing_research_df['GrLivArea']\n",
    "housing_research_df['PricePerTotalArea'] = housing_research_df['SalePrice'] / housing_research_df['TotalBsmtSF']\n",
    "housing_research_df[['PricePerGrLivArea', 'Neighborhood']].groupby('Neighborhood').agg(['count', np.mean, np.std])"
   ]
  },
  {
   "cell_type": "code",
   "execution_count": 54,
   "metadata": {},
   "outputs": [
    {
     "data": {
      "text/html": [
       "<div>\n",
       "<style scoped>\n",
       "    .dataframe tbody tr th:only-of-type {\n",
       "        vertical-align: middle;\n",
       "    }\n",
       "\n",
       "    .dataframe tbody tr th {\n",
       "        vertical-align: top;\n",
       "    }\n",
       "\n",
       "    .dataframe thead tr th {\n",
       "        text-align: left;\n",
       "    }\n",
       "\n",
       "    .dataframe thead tr:last-of-type th {\n",
       "        text-align: right;\n",
       "    }\n",
       "</style>\n",
       "<table border=\"1\" class=\"dataframe\">\n",
       "  <thead>\n",
       "    <tr>\n",
       "      <th></th>\n",
       "      <th colspan=\"3\" halign=\"left\">PricePerGrLivArea</th>\n",
       "    </tr>\n",
       "    <tr>\n",
       "      <th></th>\n",
       "      <th>count</th>\n",
       "      <th>mean</th>\n",
       "      <th>std</th>\n",
       "    </tr>\n",
       "    <tr>\n",
       "      <th>OverallQual</th>\n",
       "      <th></th>\n",
       "      <th></th>\n",
       "      <th></th>\n",
       "    </tr>\n",
       "  </thead>\n",
       "  <tbody>\n",
       "    <tr>\n",
       "      <th>1</th>\n",
       "      <td>2</td>\n",
       "      <td>92.571273</td>\n",
       "      <td>35.487423</td>\n",
       "    </tr>\n",
       "    <tr>\n",
       "      <th>2</th>\n",
       "      <td>3</td>\n",
       "      <td>95.183628</td>\n",
       "      <td>36.209290</td>\n",
       "    </tr>\n",
       "    <tr>\n",
       "      <th>3</th>\n",
       "      <td>20</td>\n",
       "      <td>79.895426</td>\n",
       "      <td>18.226795</td>\n",
       "    </tr>\n",
       "    <tr>\n",
       "      <th>4</th>\n",
       "      <td>116</td>\n",
       "      <td>102.401838</td>\n",
       "      <td>27.501554</td>\n",
       "    </tr>\n",
       "    <tr>\n",
       "      <th>5</th>\n",
       "      <td>397</td>\n",
       "      <td>112.746779</td>\n",
       "      <td>28.009558</td>\n",
       "    </tr>\n",
       "    <tr>\n",
       "      <th>6</th>\n",
       "      <td>374</td>\n",
       "      <td>114.346688</td>\n",
       "      <td>24.654341</td>\n",
       "    </tr>\n",
       "    <tr>\n",
       "      <th>7</th>\n",
       "      <td>319</td>\n",
       "      <td>124.494470</td>\n",
       "      <td>23.350210</td>\n",
       "    </tr>\n",
       "    <tr>\n",
       "      <th>8</th>\n",
       "      <td>168</td>\n",
       "      <td>144.511059</td>\n",
       "      <td>30.583341</td>\n",
       "    </tr>\n",
       "    <tr>\n",
       "      <th>9</th>\n",
       "      <td>43</td>\n",
       "      <td>178.693921</td>\n",
       "      <td>28.847131</td>\n",
       "    </tr>\n",
       "    <tr>\n",
       "      <th>10</th>\n",
       "      <td>18</td>\n",
       "      <td>160.423437</td>\n",
       "      <td>54.158179</td>\n",
       "    </tr>\n",
       "  </tbody>\n",
       "</table>\n",
       "</div>"
      ],
      "text/plain": [
       "            PricePerGrLivArea                       \n",
       "                        count        mean        std\n",
       "OverallQual                                         \n",
       "1                           2   92.571273  35.487423\n",
       "2                           3   95.183628  36.209290\n",
       "3                          20   79.895426  18.226795\n",
       "4                         116  102.401838  27.501554\n",
       "5                         397  112.746779  28.009558\n",
       "6                         374  114.346688  24.654341\n",
       "7                         319  124.494470  23.350210\n",
       "8                         168  144.511059  30.583341\n",
       "9                          43  178.693921  28.847131\n",
       "10                         18  160.423437  54.158179"
      ]
     },
     "execution_count": 54,
     "metadata": {},
     "output_type": "execute_result"
    }
   ],
   "source": [
    "housing_research_df[['PricePerGrLivArea', 'OverallQual']].groupby('OverallQual').agg(['count', np.mean, np.std])"
   ]
  },
  {
   "cell_type": "markdown",
   "metadata": {},
   "source": [
    "### Mean area of room"
   ]
  },
  {
   "cell_type": "code",
   "execution_count": 55,
   "metadata": {},
   "outputs": [],
   "source": [
    "housing_research_df['GrLivAreaPerRoom'] = housing_research_df['GrLivArea'] / housing_research_df['TotRmsAbvGrd'] "
   ]
  },
  {
   "cell_type": "markdown",
   "metadata": {},
   "source": [
    "## Year"
   ]
  },
  {
   "cell_type": "code",
   "execution_count": 56,
   "metadata": {},
   "outputs": [
    {
     "data": {
      "text/plain": [
       "<matplotlib.axes._subplots.AxesSubplot at 0x9b34cc0>"
      ]
     },
     "execution_count": 56,
     "metadata": {},
     "output_type": "execute_result"
    },
    {
     "data": {
      "image/png": "[encoded data removed]",
      "text/plain": [
       "<Figure size 432x288 with 1 Axes>"
      ]
     },
     "metadata": {
      "needs_background": "light"
     },
     "output_type": "display_data"
    }
   ],
   "source": [
    "housing_research_df.plot.scatter(x='YearBuilt', y='SalePrice')"
   ]
  },
  {
   "cell_type": "code",
   "execution_count": 57,
   "metadata": {},
   "outputs": [
    {
     "data": {
      "text/plain": [
       "<matplotlib.axes._subplots.AxesSubplot at 0xc368048>"
      ]
     },
     "execution_count": 57,
     "metadata": {},
     "output_type": "execute_result"
    },
    {
     "data": {
      "image/png": "[encoded data removed]",
      "text/plain": [
       "<Figure size 432x288 with 1 Axes>"
      ]
     },
     "metadata": {
      "needs_background": "light"
     },
     "output_type": "display_data"
    }
   ],
   "source": [
    "stat = housing_research_df[['SalePrice', 'YearBuilt']].groupby('YearBuilt').agg(['count', np.mean, np.std]).sort_values(('SalePrice','mean'))\n",
    "# stat.plot.scatter(x=stat.index, y=('SalePrice','mean'))\n",
    "# stat.plot(style='.')\n",
    "stat.reset_index().plot.scatter(x='YearBuilt', y=('SalePrice','mean'))\n",
    "# stat.columns\n",
    "# stat.index"
   ]
  },
  {
   "cell_type": "code",
   "execution_count": 58,
   "metadata": {},
   "outputs": [
    {
     "data": {
      "text/plain": [
       "1950"
      ]
     },
     "execution_count": 58,
     "metadata": {},
     "output_type": "execute_result"
    }
   ],
   "source": [
    "housing_research_df['YearRemodAdd'].min()"
   ]
  },
  {
   "cell_type": "code",
   "execution_count": 59,
   "metadata": {},
   "outputs": [
    {
     "data": {
      "text/plain": [
       "<matplotlib.axes._subplots.AxesSubplot at 0xc52d8d0>"
      ]
     },
     "execution_count": 59,
     "metadata": {},
     "output_type": "execute_result"
    },
    {
     "data": {
      "image/png": "[encoded data removed]",
      "text/plain": [
       "<Figure size 432x288 with 1 Axes>"
      ]
     },
     "metadata": {
      "needs_background": "light"
     },
     "output_type": "display_data"
    }
   ],
   "source": [
    "stat = housing_research_df[['SalePrice', 'YearRemodAdd']].groupby('YearRemodAdd').agg(['count', np.mean, np.std]).sort_values(('SalePrice','mean'))\n",
    "stat.reset_index().plot.scatter(x='YearRemodAdd', y=('SalePrice','mean'))"
   ]
  },
  {
   "cell_type": "code",
   "execution_count": 60,
   "metadata": {},
   "outputs": [
    {
     "data": {
      "text/plain": [
       "<matplotlib.axes._subplots.AxesSubplot at 0xc305a20>"
      ]
     },
     "execution_count": 60,
     "metadata": {},
     "output_type": "execute_result"
    },
    {
     "data": {
      "image/png": "[encoded data removed]",
      "text/plain": [
       "<Figure size 432x288 with 1 Axes>"
      ]
     },
     "metadata": {
      "needs_background": "light"
     },
     "output_type": "display_data"
    }
   ],
   "source": [
    "housing_research_df['YearBuilt'].plot.hist(bins=30)"
   ]
  },
  {
   "cell_type": "markdown",
   "metadata": {},
   "source": [
    "I think you need split to:\n",
    "1.     - 1979\n",
    "2. 1980-1999\n",
    "2. 2000-now"
   ]
  },
  {
   "cell_type": "code",
   "execution_count": 61,
   "metadata": {},
   "outputs": [],
   "source": [
    "year = housing_research_df['YearBuilt']\n",
    "housing_research_df['YearBuilt2D'] = year.copy()\n",
    "housing_research_df['YearBuilt2D'][year < 1980]=1\n",
    "housing_research_df['YearBuilt2D'][year > 1979]=2"
   ]
  },
  {
   "cell_type": "code",
   "execution_count": 62,
   "metadata": {},
   "outputs": [],
   "source": [
    "year = housing_research_df['YearBuilt']\n",
    "housing_research_df['YearBuilt3D'] = year.copy()\n",
    "housing_research_df['YearBuilt3D'][year < 1980]=1\n",
    "housing_research_df['YearBuilt3D'][(year > 1979) & (year < 1990)]=1.5\n",
    "housing_research_df['YearBuilt3D'][year > 1989]=2"
   ]
  },
  {
   "cell_type": "code",
   "execution_count": 63,
   "metadata": {},
   "outputs": [],
   "source": [
    "year = housing_research_df['YearBuilt']\n",
    "housing_research_df['YearBuilt5D'] = year.copy()\n",
    "housing_research_df['YearBuilt5D'][year < 1920]=1\n",
    "housing_research_df['YearBuilt5D'][(year > 1919) & (year < 1941)]=2\n",
    "housing_research_df['YearBuilt5D'][(year > 1940) & (year < 1980)]=3\n",
    "housing_research_df['YearBuilt5D'][(year > 1979) & (year < 2000)]=4\n",
    "housing_research_df['YearBuilt5D'][(year > 1999)]=5"
   ]
  },
  {
   "cell_type": "code",
   "execution_count": 64,
   "metadata": {},
   "outputs": [],
   "source": [
    "year = housing_research_df['YearRemodAdd']\n",
    "housing_research_df['YearRemodAdd4D'] = year.copy()\n",
    "housing_research_df['YearRemodAdd4D'][year < 1980]=1\n",
    "housing_research_df['YearRemodAdd4D'][(year > 1979) & (year < 1990)]=2\n",
    "housing_research_df['YearRemodAdd4D'][(year > 1989) & (year < 2000)]=3\n",
    "housing_research_df['YearRemodAdd4D'][(year > 1999)]=4"
   ]
  },
  {
   "cell_type": "markdown",
   "metadata": {},
   "source": [
    "### Subclass"
   ]
  },
  {
   "cell_type": "code",
   "execution_count": 65,
   "metadata": {},
   "outputs": [
    {
     "data": {
      "text/html": [
       "<div>\n",
       "<style scoped>\n",
       "    .dataframe tbody tr th:only-of-type {\n",
       "        vertical-align: middle;\n",
       "    }\n",
       "\n",
       "    .dataframe tbody tr th {\n",
       "        vertical-align: top;\n",
       "    }\n",
       "\n",
       "    .dataframe thead tr th {\n",
       "        text-align: left;\n",
       "    }\n",
       "\n",
       "    .dataframe thead tr:last-of-type th {\n",
       "        text-align: right;\n",
       "    }\n",
       "</style>\n",
       "<table border=\"1\" class=\"dataframe\">\n",
       "  <thead>\n",
       "    <tr>\n",
       "      <th></th>\n",
       "      <th colspan=\"3\" halign=\"left\">SalePrice</th>\n",
       "    </tr>\n",
       "    <tr>\n",
       "      <th></th>\n",
       "      <th>count</th>\n",
       "      <th>mean</th>\n",
       "      <th>std</th>\n",
       "    </tr>\n",
       "    <tr>\n",
       "      <th>MSSubClass</th>\n",
       "      <th></th>\n",
       "      <th></th>\n",
       "      <th></th>\n",
       "    </tr>\n",
       "  </thead>\n",
       "  <tbody>\n",
       "    <tr>\n",
       "      <th>30</th>\n",
       "      <td>69</td>\n",
       "      <td>95829.724638</td>\n",
       "      <td>24857.110083</td>\n",
       "    </tr>\n",
       "    <tr>\n",
       "      <th>180</th>\n",
       "      <td>10</td>\n",
       "      <td>102300.000000</td>\n",
       "      <td>29474.282575</td>\n",
       "    </tr>\n",
       "    <tr>\n",
       "      <th>45</th>\n",
       "      <td>12</td>\n",
       "      <td>108591.666667</td>\n",
       "      <td>20231.723889</td>\n",
       "    </tr>\n",
       "    <tr>\n",
       "      <th>190</th>\n",
       "      <td>30</td>\n",
       "      <td>129613.333333</td>\n",
       "      <td>35439.097670</td>\n",
       "    </tr>\n",
       "    <tr>\n",
       "      <th>90</th>\n",
       "      <td>52</td>\n",
       "      <td>133541.076923</td>\n",
       "      <td>27833.249197</td>\n",
       "    </tr>\n",
       "    <tr>\n",
       "      <th>160</th>\n",
       "      <td>63</td>\n",
       "      <td>138647.380952</td>\n",
       "      <td>34587.542266</td>\n",
       "    </tr>\n",
       "    <tr>\n",
       "      <th>50</th>\n",
       "      <td>144</td>\n",
       "      <td>143302.972222</td>\n",
       "      <td>54851.983707</td>\n",
       "    </tr>\n",
       "    <tr>\n",
       "      <th>85</th>\n",
       "      <td>20</td>\n",
       "      <td>147810.000000</td>\n",
       "      <td>19629.942220</td>\n",
       "    </tr>\n",
       "    <tr>\n",
       "      <th>40</th>\n",
       "      <td>4</td>\n",
       "      <td>156125.000000</td>\n",
       "      <td>75747.799748</td>\n",
       "    </tr>\n",
       "    <tr>\n",
       "      <th>70</th>\n",
       "      <td>60</td>\n",
       "      <td>166772.416667</td>\n",
       "      <td>58206.545762</td>\n",
       "    </tr>\n",
       "    <tr>\n",
       "      <th>80</th>\n",
       "      <td>58</td>\n",
       "      <td>169736.551724</td>\n",
       "      <td>38197.808771</td>\n",
       "    </tr>\n",
       "    <tr>\n",
       "      <th>20</th>\n",
       "      <td>536</td>\n",
       "      <td>185224.811567</td>\n",
       "      <td>78782.189967</td>\n",
       "    </tr>\n",
       "    <tr>\n",
       "      <th>75</th>\n",
       "      <td>16</td>\n",
       "      <td>192437.500000</td>\n",
       "      <td>100556.762577</td>\n",
       "    </tr>\n",
       "    <tr>\n",
       "      <th>120</th>\n",
       "      <td>87</td>\n",
       "      <td>200779.080460</td>\n",
       "      <td>58221.490909</td>\n",
       "    </tr>\n",
       "    <tr>\n",
       "      <th>60</th>\n",
       "      <td>299</td>\n",
       "      <td>239948.501672</td>\n",
       "      <td>86579.909966</td>\n",
       "    </tr>\n",
       "  </tbody>\n",
       "</table>\n",
       "</div>"
      ],
      "text/plain": [
       "           SalePrice                              \n",
       "               count           mean            std\n",
       "MSSubClass                                        \n",
       "30                69   95829.724638   24857.110083\n",
       "180               10  102300.000000   29474.282575\n",
       "45                12  108591.666667   20231.723889\n",
       "190               30  129613.333333   35439.097670\n",
       "90                52  133541.076923   27833.249197\n",
       "160               63  138647.380952   34587.542266\n",
       "50               144  143302.972222   54851.983707\n",
       "85                20  147810.000000   19629.942220\n",
       "40                 4  156125.000000   75747.799748\n",
       "70                60  166772.416667   58206.545762\n",
       "80                58  169736.551724   38197.808771\n",
       "20               536  185224.811567   78782.189967\n",
       "75                16  192437.500000  100556.762577\n",
       "120               87  200779.080460   58221.490909\n",
       "60               299  239948.501672   86579.909966"
      ]
     },
     "execution_count": 65,
     "metadata": {},
     "output_type": "execute_result"
    }
   ],
   "source": [
    "housing_research_df[['SalePrice', 'MSSubClass']].groupby('MSSubClass').agg(['count', np.mean, np.std]).sort_values(('SalePrice','mean'))"
   ]
  },
  {
   "cell_type": "markdown",
   "metadata": {},
   "source": [
    "### Subclass categories\n",
    "\n",
    "30,180,45\n",
    "\n",
    "190,90,160,50,85,40\n",
    "\n",
    "70,80\n",
    "\n",
    "20,75,120\n",
    "\n",
    "60"
   ]
  },
  {
   "cell_type": "code",
   "execution_count": 66,
   "metadata": {},
   "outputs": [
    {
     "name": "stdout",
     "output_type": "stream",
     "text": [
      "count = 91.0, mean=98223.63736263737, std=24986.275787816212\n",
      "\n",
      "count = 313.0, mean=139883.8626198083, std=44370.01391196959\n",
      "\n",
      "count = 118.0, mean=168229.36440677967, std=49208.98826098227\n",
      "\n",
      "count = 639.0, mean=187523.12832550862, std=76995.36911622675\n",
      "\n",
      "count = 299.0, mean=239948.5016722408, std=86579.90996572845\n",
      "\n",
      "feature_vals=['30', '180', '45'], val = 98\n",
      "feature_vals=['190', '90', '160', '50', '85', '40'], val = 139\n",
      "feature_vals=['70', '80'], val = 168\n",
      "feature_vals=['20', '75', '120'], val = 187\n",
      "feature_vals=['60'], val = 239\n"
     ]
    }
   ],
   "source": [
    "classes = [\n",
    "    ['30', '180', '45'],\n",
    "    ['190','90','160','50','85','40'],\n",
    "    ['70', '80'],\n",
    "    ['20', '75', '120'],\n",
    "    ['60']\n",
    "]\n",
    "\n",
    "def calc_subclass_categories(df, classes=classes):\n",
    "    values = []\n",
    "    for vals in classes:\n",
    "        stat = df[df['MSSubClass'].isin(vals)]['SalePrice'].agg(['count', np.mean, np.std])\n",
    "        print('count = {0}, mean={1}, std={2}\\n'.format(stat['count'], stat['mean'], stat['std']))\n",
    "        values.append(int(stat['mean'] / 1000.0))\n",
    "    return values\n",
    "\n",
    "def create_subclass_category_feature(df, name='MSSubClassCat', classes=classes):\n",
    "    df[name] = np.nan\n",
    "    values = calc_subclass_categories(df, classes)\n",
    "    for feature_vals, val in zip(classes, values):\n",
    "        print('feature_vals={0}, val = {1}'.format(feature_vals, val))\n",
    "        df[name][df['MSSubClass'].isin(feature_vals)] = val\n",
    "    \n",
    "# values = calc_subclass_categories(housing_research_df)\n",
    "# values\n",
    "create_subclass_category_feature(housing_research_df)\n",
    "\n",
    "# For some reason first option is OK:\n",
    "# housing_research_df['MSSubClassCat'][housing_research_df['MSSubClass'].isin(classes[0])] = 98.0\n",
    "# and second is NOT!:\n",
    "# housing_research_df[housing_research_df['MSSubClass'].isin(classes[0])]['MSSubClassCat'] = 98.0\n",
    "\n",
    "# housing_research_df['MSSubClassCat']"
   ]
  },
  {
   "cell_type": "markdown",
   "metadata": {},
   "source": [
    "## MasVnrTypeCat"
   ]
  },
  {
   "cell_type": "code",
   "execution_count": 67,
   "metadata": {},
   "outputs": [],
   "source": [
    "def create_subclass_category_feature(df, name='MasVnrTypeCat'):\n",
    "    zero_classes = ['BrkCmn', 'None']\n",
    "    df[name] = 1.0\n",
    "    df[name][df['MasVnrType'].isin(zero_classes)] = 0.0\n",
    "\n",
    "create_subclass_category_feature(housing_research_df)"
   ]
  },
  {
   "cell_type": "markdown",
   "metadata": {},
   "source": [
    "## BsmtExposureCat"
   ]
  },
  {
   "cell_type": "code",
   "execution_count": 68,
   "metadata": {},
   "outputs": [],
   "source": [
    "# values is dict (cat_va1, cat_val2, ...): num_val\n",
    "def create_category_dic_feature(df, name, orig_name, values):\n",
    "    df[name] = np.nan\n",
    "    for k, v in values.items():\n",
    "        df[name][df[orig_name].isin(k)] = v\n",
    "\n",
    "bsmt_values = {('None',): 10.0, ('No',): 16.5, ('Mn', 'Av'): 20.0, ('Gd',): 25.7}\n",
    "create_category_dic_feature(housing_research_df, 'BsmtExposureCat', 'BsmtExposure', bsmt_values)"
   ]
  },
  {
   "cell_type": "markdown",
   "metadata": {},
   "source": [
    "## 3 features (location, size, quality)"
   ]
  },
  {
   "cell_type": "code",
   "execution_count": 69,
   "metadata": {},
   "outputs": [
    {
     "data": {
      "text/html": [
       "<div>\n",
       "<style scoped>\n",
       "    .dataframe tbody tr th:only-of-type {\n",
       "        vertical-align: middle;\n",
       "    }\n",
       "\n",
       "    .dataframe tbody tr th {\n",
       "        vertical-align: top;\n",
       "    }\n",
       "\n",
       "    .dataframe thead tr th {\n",
       "        text-align: left;\n",
       "    }\n",
       "\n",
       "    .dataframe thead tr:last-of-type th {\n",
       "        text-align: right;\n",
       "    }\n",
       "</style>\n",
       "<table border=\"1\" class=\"dataframe\">\n",
       "  <thead>\n",
       "    <tr>\n",
       "      <th></th>\n",
       "      <th colspan=\"3\" halign=\"left\">GrLivArea</th>\n",
       "    </tr>\n",
       "    <tr>\n",
       "      <th></th>\n",
       "      <th>count</th>\n",
       "      <th>mean</th>\n",
       "      <th>std</th>\n",
       "    </tr>\n",
       "    <tr>\n",
       "      <th>NeighborhoodCat</th>\n",
       "      <th></th>\n",
       "      <th></th>\n",
       "      <th></th>\n",
       "    </tr>\n",
       "  </thead>\n",
       "  <tbody>\n",
       "    <tr>\n",
       "      <th>100.0</th>\n",
       "      <td>70</td>\n",
       "      <td>1122.257143</td>\n",
       "      <td>316.911760</td>\n",
       "    </tr>\n",
       "    <tr>\n",
       "      <th>127.0</th>\n",
       "      <td>271</td>\n",
       "      <td>1368.970480</td>\n",
       "      <td>581.719908</td>\n",
       "    </tr>\n",
       "    <tr>\n",
       "      <th>145.0</th>\n",
       "      <td>384</td>\n",
       "      <td>1320.960938</td>\n",
       "      <td>429.409870</td>\n",
       "    </tr>\n",
       "    <tr>\n",
       "      <th>193.0</th>\n",
       "      <td>378</td>\n",
       "      <td>1577.375661</td>\n",
       "      <td>418.775487</td>\n",
       "    </tr>\n",
       "    <tr>\n",
       "      <th>223.0</th>\n",
       "      <td>214</td>\n",
       "      <td>1692.350467</td>\n",
       "      <td>415.098024</td>\n",
       "    </tr>\n",
       "    <tr>\n",
       "      <th>320.0</th>\n",
       "      <td>143</td>\n",
       "      <td>2079.496503</td>\n",
       "      <td>571.216664</td>\n",
       "    </tr>\n",
       "  </tbody>\n",
       "</table>\n",
       "</div>"
      ],
      "text/plain": [
       "                GrLivArea                         \n",
       "                    count         mean         std\n",
       "NeighborhoodCat                                   \n",
       "100.0                  70  1122.257143  316.911760\n",
       "127.0                 271  1368.970480  581.719908\n",
       "145.0                 384  1320.960938  429.409870\n",
       "193.0                 378  1577.375661  418.775487\n",
       "223.0                 214  1692.350467  415.098024\n",
       "320.0                 143  2079.496503  571.216664"
      ]
     },
     "execution_count": 69,
     "metadata": {},
     "output_type": "execute_result"
    }
   ],
   "source": [
    "housing_research_df[['NeighborhoodCat', 'GrLivArea']].groupby('NeighborhoodCat').agg(['count', np.mean, np.std])"
   ]
  },
  {
   "cell_type": "code",
   "execution_count": 70,
   "metadata": {},
   "outputs": [
    {
     "data": {
      "image/png": "[encoded data removed]",
      "text/plain": [
       "<Figure size 720x504 with 1 Axes>"
      ]
     },
     "metadata": {
      "needs_background": "light"
     },
     "output_type": "display_data"
    }
   ],
   "source": [
    "# housing_research_df[housing_research_df['NeighborhoodCat'] == 145.0]['GrLivArea'].plot.hist(bins=30, figsize=(10,7))\n",
    "housing_research_df[housing_research_df['NeighborhoodCat'] == 145.0]['TotalArea'].plot.hist(bins=30, figsize=(10,7))\n",
    "plt.show()"
   ]
  },
  {
   "cell_type": "code",
   "execution_count": 71,
   "metadata": {},
   "outputs": [
    {
     "data": {
      "text/html": [
       "<div>\n",
       "<style scoped>\n",
       "    .dataframe tbody tr th:only-of-type {\n",
       "        vertical-align: middle;\n",
       "    }\n",
       "\n",
       "    .dataframe tbody tr th {\n",
       "        vertical-align: top;\n",
       "    }\n",
       "\n",
       "    .dataframe thead th {\n",
       "        text-align: right;\n",
       "    }\n",
       "</style>\n",
       "<table border=\"1\" class=\"dataframe\">\n",
       "  <thead>\n",
       "    <tr style=\"text-align: right;\">\n",
       "      <th></th>\n",
       "      <th>Electrical</th>\n",
       "      <th>MSZoning</th>\n",
       "      <th>Functional</th>\n",
       "      <th>KitchenQual</th>\n",
       "      <th>Utilities</th>\n",
       "      <th>SaleType</th>\n",
       "      <th>Exterior1st</th>\n",
       "      <th>Exterior2nd</th>\n",
       "      <th>Alley</th>\n",
       "      <th>MasVnrType</th>\n",
       "      <th>...</th>\n",
       "      <th>PricePerGrLivArea</th>\n",
       "      <th>PricePerTotalArea</th>\n",
       "      <th>GrLivAreaPerRoom</th>\n",
       "      <th>YearBuilt2D</th>\n",
       "      <th>YearBuilt3D</th>\n",
       "      <th>YearBuilt5D</th>\n",
       "      <th>YearRemodAdd4D</th>\n",
       "      <th>MSSubClassCat</th>\n",
       "      <th>MasVnrTypeCat</th>\n",
       "      <th>BsmtExposureCat</th>\n",
       "    </tr>\n",
       "  </thead>\n",
       "  <tbody>\n",
       "    <tr>\n",
       "      <th>733</th>\n",
       "      <td>SBrkr</td>\n",
       "      <td>RL</td>\n",
       "      <td>Typ</td>\n",
       "      <td>TA</td>\n",
       "      <td>AllPub</td>\n",
       "      <td>WD</td>\n",
       "      <td>HdBoard</td>\n",
       "      <td>HdBoard</td>\n",
       "      <td>None</td>\n",
       "      <td>None</td>\n",
       "      <td>...</td>\n",
       "      <td>114.860140</td>\n",
       "      <td>152.083333</td>\n",
       "      <td>190.666667</td>\n",
       "      <td>1</td>\n",
       "      <td>1.0</td>\n",
       "      <td>3</td>\n",
       "      <td>2</td>\n",
       "      <td>187.0</td>\n",
       "      <td>0.0</td>\n",
       "      <td>16.5</td>\n",
       "    </tr>\n",
       "    <tr>\n",
       "      <th>816</th>\n",
       "      <td>SBrkr</td>\n",
       "      <td>RL</td>\n",
       "      <td>Typ</td>\n",
       "      <td>TA</td>\n",
       "      <td>AllPub</td>\n",
       "      <td>WD</td>\n",
       "      <td>BrkFace</td>\n",
       "      <td>BrkFace</td>\n",
       "      <td>None</td>\n",
       "      <td>None</td>\n",
       "      <td>...</td>\n",
       "      <td>135.912698</td>\n",
       "      <td>135.912698</td>\n",
       "      <td>252.000000</td>\n",
       "      <td>1</td>\n",
       "      <td>1.0</td>\n",
       "      <td>3</td>\n",
       "      <td>1</td>\n",
       "      <td>187.0</td>\n",
       "      <td>0.0</td>\n",
       "      <td>16.5</td>\n",
       "    </tr>\n",
       "    <tr>\n",
       "      <th>116</th>\n",
       "      <td>SBrkr</td>\n",
       "      <td>RL</td>\n",
       "      <td>Typ</td>\n",
       "      <td>TA</td>\n",
       "      <td>AllPub</td>\n",
       "      <td>WD</td>\n",
       "      <td>Wd Sdng</td>\n",
       "      <td>Wd Sdng</td>\n",
       "      <td>None</td>\n",
       "      <td>BrkFace</td>\n",
       "      <td>...</td>\n",
       "      <td>127.289377</td>\n",
       "      <td>127.289377</td>\n",
       "      <td>182.000000</td>\n",
       "      <td>1</td>\n",
       "      <td>1.0</td>\n",
       "      <td>3</td>\n",
       "      <td>1</td>\n",
       "      <td>187.0</td>\n",
       "      <td>1.0</td>\n",
       "      <td>16.5</td>\n",
       "    </tr>\n",
       "    <tr>\n",
       "      <th>556</th>\n",
       "      <td>FuseA</td>\n",
       "      <td>RL</td>\n",
       "      <td>Typ</td>\n",
       "      <td>TA</td>\n",
       "      <td>AllPub</td>\n",
       "      <td>WD</td>\n",
       "      <td>Wd Sdng</td>\n",
       "      <td>Wd Sdng</td>\n",
       "      <td>None</td>\n",
       "      <td>None</td>\n",
       "      <td>...</td>\n",
       "      <td>129.120879</td>\n",
       "      <td>129.120879</td>\n",
       "      <td>182.000000</td>\n",
       "      <td>1</td>\n",
       "      <td>1.0</td>\n",
       "      <td>3</td>\n",
       "      <td>1</td>\n",
       "      <td>187.0</td>\n",
       "      <td>0.0</td>\n",
       "      <td>16.5</td>\n",
       "    </tr>\n",
       "    <tr>\n",
       "      <th>419</th>\n",
       "      <td>SBrkr</td>\n",
       "      <td>RL</td>\n",
       "      <td>Typ</td>\n",
       "      <td>TA</td>\n",
       "      <td>AllPub</td>\n",
       "      <td>WD</td>\n",
       "      <td>VinylSd</td>\n",
       "      <td>VinylSd</td>\n",
       "      <td>None</td>\n",
       "      <td>None</td>\n",
       "      <td>...</td>\n",
       "      <td>134.469697</td>\n",
       "      <td>134.469697</td>\n",
       "      <td>176.000000</td>\n",
       "      <td>1</td>\n",
       "      <td>1.0</td>\n",
       "      <td>3</td>\n",
       "      <td>1</td>\n",
       "      <td>187.0</td>\n",
       "      <td>0.0</td>\n",
       "      <td>16.5</td>\n",
       "    </tr>\n",
       "    <tr>\n",
       "      <th>946</th>\n",
       "      <td>SBrkr</td>\n",
       "      <td>RL</td>\n",
       "      <td>Typ</td>\n",
       "      <td>TA</td>\n",
       "      <td>AllPub</td>\n",
       "      <td>WD</td>\n",
       "      <td>HdBoard</td>\n",
       "      <td>HdBoard</td>\n",
       "      <td>None</td>\n",
       "      <td>BrkFace</td>\n",
       "      <td>...</td>\n",
       "      <td>125.000000</td>\n",
       "      <td>125.000000</td>\n",
       "      <td>190.666667</td>\n",
       "      <td>1</td>\n",
       "      <td>1.0</td>\n",
       "      <td>3</td>\n",
       "      <td>1</td>\n",
       "      <td>168.0</td>\n",
       "      <td>1.0</td>\n",
       "      <td>20.0</td>\n",
       "    </tr>\n",
       "    <tr>\n",
       "      <th>485</th>\n",
       "      <td>SBrkr</td>\n",
       "      <td>RL</td>\n",
       "      <td>Typ</td>\n",
       "      <td>Gd</td>\n",
       "      <td>AllPub</td>\n",
       "      <td>WD</td>\n",
       "      <td>MetalSd</td>\n",
       "      <td>MetalSd</td>\n",
       "      <td>None</td>\n",
       "      <td>None</td>\n",
       "      <td>...</td>\n",
       "      <td>132.075472</td>\n",
       "      <td>132.075472</td>\n",
       "      <td>222.600000</td>\n",
       "      <td>1</td>\n",
       "      <td>1.0</td>\n",
       "      <td>3</td>\n",
       "      <td>4</td>\n",
       "      <td>187.0</td>\n",
       "      <td>0.0</td>\n",
       "      <td>16.5</td>\n",
       "    </tr>\n",
       "    <tr>\n",
       "      <th>1357</th>\n",
       "      <td>SBrkr</td>\n",
       "      <td>RL</td>\n",
       "      <td>Typ</td>\n",
       "      <td>TA</td>\n",
       "      <td>AllPub</td>\n",
       "      <td>WD</td>\n",
       "      <td>VinylSd</td>\n",
       "      <td>VinylSd</td>\n",
       "      <td>None</td>\n",
       "      <td>None</td>\n",
       "      <td>...</td>\n",
       "      <td>139.053803</td>\n",
       "      <td>139.053803</td>\n",
       "      <td>179.666667</td>\n",
       "      <td>1</td>\n",
       "      <td>1.0</td>\n",
       "      <td>3</td>\n",
       "      <td>4</td>\n",
       "      <td>187.0</td>\n",
       "      <td>0.0</td>\n",
       "      <td>16.5</td>\n",
       "    </tr>\n",
       "    <tr>\n",
       "      <th>24</th>\n",
       "      <td>SBrkr</td>\n",
       "      <td>RL</td>\n",
       "      <td>Typ</td>\n",
       "      <td>Gd</td>\n",
       "      <td>AllPub</td>\n",
       "      <td>WD</td>\n",
       "      <td>Plywood</td>\n",
       "      <td>Plywood</td>\n",
       "      <td>None</td>\n",
       "      <td>None</td>\n",
       "      <td>...</td>\n",
       "      <td>145.283019</td>\n",
       "      <td>145.283019</td>\n",
       "      <td>176.666667</td>\n",
       "      <td>1</td>\n",
       "      <td>1.0</td>\n",
       "      <td>3</td>\n",
       "      <td>4</td>\n",
       "      <td>187.0</td>\n",
       "      <td>0.0</td>\n",
       "      <td>20.0</td>\n",
       "    </tr>\n",
       "    <tr>\n",
       "      <th>1064</th>\n",
       "      <td>SBrkr</td>\n",
       "      <td>RL</td>\n",
       "      <td>Typ</td>\n",
       "      <td>TA</td>\n",
       "      <td>AllPub</td>\n",
       "      <td>WD</td>\n",
       "      <td>Plywood</td>\n",
       "      <td>Plywood</td>\n",
       "      <td>None</td>\n",
       "      <td>BrkFace</td>\n",
       "      <td>...</td>\n",
       "      <td>133.448873</td>\n",
       "      <td>133.448873</td>\n",
       "      <td>192.333333</td>\n",
       "      <td>1</td>\n",
       "      <td>1.0</td>\n",
       "      <td>3</td>\n",
       "      <td>1</td>\n",
       "      <td>187.0</td>\n",
       "      <td>1.0</td>\n",
       "      <td>20.0</td>\n",
       "    </tr>\n",
       "    <tr>\n",
       "      <th>538</th>\n",
       "      <td>SBrkr</td>\n",
       "      <td>RL</td>\n",
       "      <td>Typ</td>\n",
       "      <td>TA</td>\n",
       "      <td>AllPub</td>\n",
       "      <td>WD</td>\n",
       "      <td>Plywood</td>\n",
       "      <td>Plywood</td>\n",
       "      <td>None</td>\n",
       "      <td>BrkFace</td>\n",
       "      <td>...</td>\n",
       "      <td>136.324418</td>\n",
       "      <td>150.333016</td>\n",
       "      <td>165.571429</td>\n",
       "      <td>1</td>\n",
       "      <td>1.0</td>\n",
       "      <td>3</td>\n",
       "      <td>1</td>\n",
       "      <td>187.0</td>\n",
       "      <td>1.0</td>\n",
       "      <td>16.5</td>\n",
       "    </tr>\n",
       "    <tr>\n",
       "      <th>808</th>\n",
       "      <td>SBrkr</td>\n",
       "      <td>RL</td>\n",
       "      <td>Typ</td>\n",
       "      <td>TA</td>\n",
       "      <td>AllPub</td>\n",
       "      <td>WD</td>\n",
       "      <td>VinylSd</td>\n",
       "      <td>VinylSd</td>\n",
       "      <td>None</td>\n",
       "      <td>BrkFace</td>\n",
       "      <td>...</td>\n",
       "      <td>147.283610</td>\n",
       "      <td>156.201172</td>\n",
       "      <td>181.000000</td>\n",
       "      <td>1</td>\n",
       "      <td>1.0</td>\n",
       "      <td>3</td>\n",
       "      <td>1</td>\n",
       "      <td>168.0</td>\n",
       "      <td>1.0</td>\n",
       "      <td>20.0</td>\n",
       "    </tr>\n",
       "    <tr>\n",
       "      <th>1434</th>\n",
       "      <td>SBrkr</td>\n",
       "      <td>RL</td>\n",
       "      <td>Typ</td>\n",
       "      <td>TA</td>\n",
       "      <td>AllPub</td>\n",
       "      <td>WD</td>\n",
       "      <td>BrkFace</td>\n",
       "      <td>BrkFace</td>\n",
       "      <td>None</td>\n",
       "      <td>None</td>\n",
       "      <td>...</td>\n",
       "      <td>142.095915</td>\n",
       "      <td>142.095915</td>\n",
       "      <td>225.200000</td>\n",
       "      <td>1</td>\n",
       "      <td>1.0</td>\n",
       "      <td>3</td>\n",
       "      <td>1</td>\n",
       "      <td>187.0</td>\n",
       "      <td>0.0</td>\n",
       "      <td>16.5</td>\n",
       "    </tr>\n",
       "    <tr>\n",
       "      <th>783</th>\n",
       "      <td>SBrkr</td>\n",
       "      <td>RL</td>\n",
       "      <td>Typ</td>\n",
       "      <td>Gd</td>\n",
       "      <td>AllPub</td>\n",
       "      <td>WD</td>\n",
       "      <td>Plywood</td>\n",
       "      <td>Plywood</td>\n",
       "      <td>None</td>\n",
       "      <td>BrkFace</td>\n",
       "      <td>...</td>\n",
       "      <td>149.099099</td>\n",
       "      <td>150.865998</td>\n",
       "      <td>277.500000</td>\n",
       "      <td>1</td>\n",
       "      <td>1.0</td>\n",
       "      <td>3</td>\n",
       "      <td>1</td>\n",
       "      <td>139.0</td>\n",
       "      <td>1.0</td>\n",
       "      <td>20.0</td>\n",
       "    </tr>\n",
       "    <tr>\n",
       "      <th>1290</th>\n",
       "      <td>SBrkr</td>\n",
       "      <td>RL</td>\n",
       "      <td>Typ</td>\n",
       "      <td>TA</td>\n",
       "      <td>AllPub</td>\n",
       "      <td>WD</td>\n",
       "      <td>Wd Sdng</td>\n",
       "      <td>HdBoard</td>\n",
       "      <td>None</td>\n",
       "      <td>BrkFace</td>\n",
       "      <td>...</td>\n",
       "      <td>156.684028</td>\n",
       "      <td>156.684028</td>\n",
       "      <td>192.000000</td>\n",
       "      <td>1</td>\n",
       "      <td>1.0</td>\n",
       "      <td>3</td>\n",
       "      <td>1</td>\n",
       "      <td>168.0</td>\n",
       "      <td>1.0</td>\n",
       "      <td>20.0</td>\n",
       "    </tr>\n",
       "  </tbody>\n",
       "</table>\n",
       "<p>15 rows × 93 columns</p>\n",
       "</div>"
      ],
      "text/plain": [
       "     Electrical MSZoning Functional KitchenQual Utilities SaleType  \\\n",
       "733       SBrkr       RL        Typ          TA    AllPub       WD   \n",
       "816       SBrkr       RL        Typ          TA    AllPub       WD   \n",
       "116       SBrkr       RL        Typ          TA    AllPub       WD   \n",
       "556       FuseA       RL        Typ          TA    AllPub       WD   \n",
       "419       SBrkr       RL        Typ          TA    AllPub       WD   \n",
       "946       SBrkr       RL        Typ          TA    AllPub       WD   \n",
       "485       SBrkr       RL        Typ          Gd    AllPub       WD   \n",
       "1357      SBrkr       RL        Typ          TA    AllPub       WD   \n",
       "24        SBrkr       RL        Typ          Gd    AllPub       WD   \n",
       "1064      SBrkr       RL        Typ          TA    AllPub       WD   \n",
       "538       SBrkr       RL        Typ          TA    AllPub       WD   \n",
       "808       SBrkr       RL        Typ          TA    AllPub       WD   \n",
       "1434      SBrkr       RL        Typ          TA    AllPub       WD   \n",
       "783       SBrkr       RL        Typ          Gd    AllPub       WD   \n",
       "1290      SBrkr       RL        Typ          TA    AllPub       WD   \n",
       "\n",
       "     Exterior1st Exterior2nd Alley MasVnrType       ...        \\\n",
       "733      HdBoard     HdBoard  None       None       ...         \n",
       "816      BrkFace     BrkFace  None       None       ...         \n",
       "116      Wd Sdng     Wd Sdng  None    BrkFace       ...         \n",
       "556      Wd Sdng     Wd Sdng  None       None       ...         \n",
       "419      VinylSd     VinylSd  None       None       ...         \n",
       "946      HdBoard     HdBoard  None    BrkFace       ...         \n",
       "485      MetalSd     MetalSd  None       None       ...         \n",
       "1357     VinylSd     VinylSd  None       None       ...         \n",
       "24       Plywood     Plywood  None       None       ...         \n",
       "1064     Plywood     Plywood  None    BrkFace       ...         \n",
       "538      Plywood     Plywood  None    BrkFace       ...         \n",
       "808      VinylSd     VinylSd  None    BrkFace       ...         \n",
       "1434     BrkFace     BrkFace  None       None       ...         \n",
       "783      Plywood     Plywood  None    BrkFace       ...         \n",
       "1290     Wd Sdng     HdBoard  None    BrkFace       ...         \n",
       "\n",
       "     PricePerGrLivArea PricePerTotalArea GrLivAreaPerRoom YearBuilt2D  \\\n",
       "733         114.860140        152.083333       190.666667           1   \n",
       "816         135.912698        135.912698       252.000000           1   \n",
       "116         127.289377        127.289377       182.000000           1   \n",
       "556         129.120879        129.120879       182.000000           1   \n",
       "419         134.469697        134.469697       176.000000           1   \n",
       "946         125.000000        125.000000       190.666667           1   \n",
       "485         132.075472        132.075472       222.600000           1   \n",
       "1357        139.053803        139.053803       179.666667           1   \n",
       "24          145.283019        145.283019       176.666667           1   \n",
       "1064        133.448873        133.448873       192.333333           1   \n",
       "538         136.324418        150.333016       165.571429           1   \n",
       "808         147.283610        156.201172       181.000000           1   \n",
       "1434        142.095915        142.095915       225.200000           1   \n",
       "783         149.099099        150.865998       277.500000           1   \n",
       "1290        156.684028        156.684028       192.000000           1   \n",
       "\n",
       "     YearBuilt3D YearBuilt5D YearRemodAdd4D MSSubClassCat MasVnrTypeCat  \\\n",
       "733          1.0           3              2         187.0           0.0   \n",
       "816          1.0           3              1         187.0           0.0   \n",
       "116          1.0           3              1         187.0           1.0   \n",
       "556          1.0           3              1         187.0           0.0   \n",
       "419          1.0           3              1         187.0           0.0   \n",
       "946          1.0           3              1         168.0           1.0   \n",
       "485          1.0           3              4         187.0           0.0   \n",
       "1357         1.0           3              4         187.0           0.0   \n",
       "24           1.0           3              4         187.0           0.0   \n",
       "1064         1.0           3              1         187.0           1.0   \n",
       "538          1.0           3              1         187.0           1.0   \n",
       "808          1.0           3              1         168.0           1.0   \n",
       "1434         1.0           3              1         187.0           0.0   \n",
       "783          1.0           3              1         139.0           1.0   \n",
       "1290         1.0           3              1         168.0           1.0   \n",
       "\n",
       "     BsmtExposureCat  \n",
       "733             16.5  \n",
       "816             16.5  \n",
       "116             16.5  \n",
       "556             16.5  \n",
       "419             16.5  \n",
       "946             20.0  \n",
       "485             16.5  \n",
       "1357            16.5  \n",
       "24              20.0  \n",
       "1064            20.0  \n",
       "538             16.5  \n",
       "808             20.0  \n",
       "1434            16.5  \n",
       "783             20.0  \n",
       "1290            20.0  \n",
       "\n",
       "[15 rows x 93 columns]"
      ]
     },
     "execution_count": 71,
     "metadata": {},
     "output_type": "execute_result"
    }
   ],
   "source": [
    "housing_research_df[(housing_research_df['NeighborhoodCat'] == 145.0) &\n",
    "                    (housing_research_df['GrLivArea'] > 1000) & (housing_research_df['GrLivArea'] < 1200) &\n",
    "                   (housing_research_df['OverallQual'] == 5) & (housing_research_df['Fireplaces'] == 1)].sort_values('SalePrice')\n",
    "# [['Id', 'Neighborhood', 'SalePrice', 'GrLivArea', 'Fireplaces', 'HouseStyle', 'LotArea', 'MSSubClass', 'BsmtFinSF1', 'MasVnrArea', 'GarageArea', 'GarageFinish', 'BsmtExposure', 'BsmtFinType1', 'BsmtFinType2', 'SaleCondition', 'Exterior1st', 'KitchenQual', 'LotConfig']]"
   ]
  },
  {
   "cell_type": "markdown",
   "metadata": {},
   "source": [
    "So we see for example 2 houses:\n",
    "\n",
    "805\tNAmes\t118000\t1128\n",
    "\n",
    "1065\tNAmes\t154000\t1154\n",
    "\n",
    "They have the same Neighborhood and GrLivArea but what is difference?\n",
    "\n",
    "Seems important:\n",
    "Fireplaces\n",
    "BsmtExposure\n",
    "MasVnrType\n",
    "GarageCars\n",
    "GarageFinish ?\n",
    "MasVnrArea ?\n",
    "BsmtFullBath ? (BsmtFullBath + BsmtHalfBath)?\n",
    "GarageArea ?\n",
    "WoodDeckSF ?\n",
    "FullBath ?\n",
    "HouseStyle ?\n",
    "OverallCond ??"
   ]
  },
  {
   "cell_type": "code",
   "execution_count": 72,
   "metadata": {},
   "outputs": [
    {
     "data": {
      "text/html": [
       "<div>\n",
       "<style scoped>\n",
       "    .dataframe tbody tr th:only-of-type {\n",
       "        vertical-align: middle;\n",
       "    }\n",
       "\n",
       "    .dataframe tbody tr th {\n",
       "        vertical-align: top;\n",
       "    }\n",
       "\n",
       "    .dataframe thead th {\n",
       "        text-align: right;\n",
       "    }\n",
       "</style>\n",
       "<table border=\"1\" class=\"dataframe\">\n",
       "  <thead>\n",
       "    <tr style=\"text-align: right;\">\n",
       "      <th></th>\n",
       "      <th>Electrical</th>\n",
       "      <th>MSZoning</th>\n",
       "      <th>Functional</th>\n",
       "      <th>KitchenQual</th>\n",
       "      <th>Utilities</th>\n",
       "      <th>SaleType</th>\n",
       "      <th>Exterior1st</th>\n",
       "      <th>Exterior2nd</th>\n",
       "      <th>Alley</th>\n",
       "      <th>MasVnrType</th>\n",
       "      <th>BsmtQual</th>\n",
       "      <th>BsmtCond</th>\n",
       "      <th>BsmtExposure</th>\n",
       "      <th>BsmtFinType1</th>\n",
       "      <th>BsmtFinType2</th>\n",
       "      <th>FireplaceQu</th>\n",
       "      <th>GarageType</th>\n",
       "      <th>GarageFinish</th>\n",
       "      <th>GarageQual</th>\n",
       "      <th>GarageCond</th>\n",
       "      <th>PoolQC</th>\n",
       "      <th>Fence</th>\n",
       "      <th>MiscFeature</th>\n",
       "      <th>MasVnrArea</th>\n",
       "      <th>BsmtFinSF2</th>\n",
       "      <th>BsmtFullBath</th>\n",
       "      <th>BsmtHalfBath</th>\n",
       "      <th>GarageArea</th>\n",
       "      <th>TotalBsmtSF</th>\n",
       "      <th>GarageCars</th>\n",
       "      <th>BsmtFinSF1</th>\n",
       "      <th>BsmtUnfSF</th>\n",
       "      <th>LotFrontage</th>\n",
       "      <th>LandSlope</th>\n",
       "      <th>Neighborhood</th>\n",
       "      <th>HouseStyle</th>\n",
       "      <th>FullBath</th>\n",
       "      <th>Foundation</th>\n",
       "      <th>LandContour</th>\n",
       "      <th>OverallQual</th>\n",
       "      <th>3SsnPorch</th>\n",
       "      <th>Fireplaces</th>\n",
       "      <th>OverallCond</th>\n",
       "      <th>BedroomAbvGr</th>\n",
       "      <th>KitchenAbvGr</th>\n",
       "      <th>HalfBath</th>\n",
       "      <th>RoofStyle</th>\n",
       "      <th>MoSold</th>\n",
       "      <th>LowQualFinSF</th>\n",
       "      <th>Street</th>\n",
       "      <th>LotConfig</th>\n",
       "      <th>MSSubClass</th>\n",
       "      <th>ExterCond</th>\n",
       "      <th>2ndFlrSF</th>\n",
       "      <th>HeatingQC</th>\n",
       "      <th>OpenPorchSF</th>\n",
       "      <th>TotRmsAbvGrd</th>\n",
       "      <th>Condition1</th>\n",
       "      <th>Condition2</th>\n",
       "      <th>MiscVal</th>\n",
       "      <th>CentralAir</th>\n",
       "      <th>YearBuilt</th>\n",
       "      <th>EnclosedPorch</th>\n",
       "      <th>ScreenPorch</th>\n",
       "      <th>BldgType</th>\n",
       "      <th>WoodDeckSF</th>\n",
       "      <th>GrLivArea</th>\n",
       "      <th>ExterQual</th>\n",
       "      <th>PavedDrive</th>\n",
       "      <th>YearRemodAdd</th>\n",
       "      <th>PoolArea</th>\n",
       "      <th>Heating</th>\n",
       "      <th>YrSold</th>\n",
       "      <th>LotShape</th>\n",
       "      <th>1stFlrSF</th>\n",
       "      <th>RoofMatl</th>\n",
       "      <th>LotArea</th>\n",
       "      <th>Id</th>\n",
       "      <th>SaleCondition</th>\n",
       "      <th>SalePrice</th>\n",
       "      <th>OverallQualFixed</th>\n",
       "      <th>NeighborhoodCat</th>\n",
       "      <th>TotalArea</th>\n",
       "      <th>PricePerGrLivArea</th>\n",
       "      <th>PricePerTotalArea</th>\n",
       "      <th>GrLivAreaPerRoom</th>\n",
       "      <th>YearBuilt2D</th>\n",
       "      <th>YearBuilt3D</th>\n",
       "      <th>YearBuilt5D</th>\n",
       "      <th>YearRemodAdd4D</th>\n",
       "      <th>MSSubClassCat</th>\n",
       "      <th>MasVnrTypeCat</th>\n",
       "      <th>BsmtExposureCat</th>\n",
       "    </tr>\n",
       "  </thead>\n",
       "  <tbody>\n",
       "    <tr>\n",
       "      <th>804</th>\n",
       "      <td>SBrkr</td>\n",
       "      <td>RL</td>\n",
       "      <td>Min1</td>\n",
       "      <td>TA</td>\n",
       "      <td>AllPub</td>\n",
       "      <td>WD</td>\n",
       "      <td>Wd Sdng</td>\n",
       "      <td>Wd Sdng</td>\n",
       "      <td>None</td>\n",
       "      <td>None</td>\n",
       "      <td>TA</td>\n",
       "      <td>TA</td>\n",
       "      <td>No</td>\n",
       "      <td>LwQ</td>\n",
       "      <td>Unf</td>\n",
       "      <td>None</td>\n",
       "      <td>Attchd</td>\n",
       "      <td>Unf</td>\n",
       "      <td>TA</td>\n",
       "      <td>TA</td>\n",
       "      <td>None</td>\n",
       "      <td>GdWo</td>\n",
       "      <td>None</td>\n",
       "      <td>0.0</td>\n",
       "      <td>0</td>\n",
       "      <td>0</td>\n",
       "      <td>0</td>\n",
       "      <td>286</td>\n",
       "      <td>936</td>\n",
       "      <td>1</td>\n",
       "      <td>812</td>\n",
       "      <td>124</td>\n",
       "      <td>75.000000</td>\n",
       "      <td>Gtl</td>\n",
       "      <td>NAmes</td>\n",
       "      <td>1Story</td>\n",
       "      <td>1</td>\n",
       "      <td>CBlock</td>\n",
       "      <td>Lvl</td>\n",
       "      <td>5</td>\n",
       "      <td>0</td>\n",
       "      <td>0</td>\n",
       "      <td>5</td>\n",
       "      <td>2</td>\n",
       "      <td>1</td>\n",
       "      <td>0</td>\n",
       "      <td>Gable</td>\n",
       "      <td>6</td>\n",
       "      <td>0</td>\n",
       "      <td>Pave</td>\n",
       "      <td>Inside</td>\n",
       "      <td>20</td>\n",
       "      <td>TA</td>\n",
       "      <td>0</td>\n",
       "      <td>TA</td>\n",
       "      <td>0</td>\n",
       "      <td>5</td>\n",
       "      <td>Norm</td>\n",
       "      <td>Norm</td>\n",
       "      <td>0</td>\n",
       "      <td>Y</td>\n",
       "      <td>1954</td>\n",
       "      <td>0</td>\n",
       "      <td>0</td>\n",
       "      <td>1Fam</td>\n",
       "      <td>0</td>\n",
       "      <td>1128</td>\n",
       "      <td>TA</td>\n",
       "      <td>Y</td>\n",
       "      <td>1954</td>\n",
       "      <td>0</td>\n",
       "      <td>GasA</td>\n",
       "      <td>2006</td>\n",
       "      <td>Reg</td>\n",
       "      <td>1128</td>\n",
       "      <td>CompShg</td>\n",
       "      <td>9000</td>\n",
       "      <td>805</td>\n",
       "      <td>Family</td>\n",
       "      <td>118000</td>\n",
       "      <td>1.335233</td>\n",
       "      <td>145.0</td>\n",
       "      <td>1408.8</td>\n",
       "      <td>104.609929</td>\n",
       "      <td>126.068376</td>\n",
       "      <td>225.600000</td>\n",
       "      <td>1</td>\n",
       "      <td>1.0</td>\n",
       "      <td>3</td>\n",
       "      <td>1</td>\n",
       "      <td>187.0</td>\n",
       "      <td>0.0</td>\n",
       "      <td>16.5</td>\n",
       "    </tr>\n",
       "    <tr>\n",
       "      <th>1064</th>\n",
       "      <td>SBrkr</td>\n",
       "      <td>RL</td>\n",
       "      <td>Typ</td>\n",
       "      <td>TA</td>\n",
       "      <td>AllPub</td>\n",
       "      <td>WD</td>\n",
       "      <td>Plywood</td>\n",
       "      <td>Plywood</td>\n",
       "      <td>None</td>\n",
       "      <td>BrkFace</td>\n",
       "      <td>TA</td>\n",
       "      <td>TA</td>\n",
       "      <td>Mn</td>\n",
       "      <td>BLQ</td>\n",
       "      <td>Rec</td>\n",
       "      <td>Po</td>\n",
       "      <td>Attchd</td>\n",
       "      <td>RFn</td>\n",
       "      <td>TA</td>\n",
       "      <td>TA</td>\n",
       "      <td>None</td>\n",
       "      <td>MnPrv</td>\n",
       "      <td>None</td>\n",
       "      <td>200.0</td>\n",
       "      <td>230</td>\n",
       "      <td>0</td>\n",
       "      <td>0</td>\n",
       "      <td>480</td>\n",
       "      <td>1154</td>\n",
       "      <td>2</td>\n",
       "      <td>740</td>\n",
       "      <td>184</td>\n",
       "      <td>70.049958</td>\n",
       "      <td>Gtl</td>\n",
       "      <td>NAmes</td>\n",
       "      <td>1Story</td>\n",
       "      <td>1</td>\n",
       "      <td>CBlock</td>\n",
       "      <td>Lvl</td>\n",
       "      <td>5</td>\n",
       "      <td>0</td>\n",
       "      <td>1</td>\n",
       "      <td>6</td>\n",
       "      <td>3</td>\n",
       "      <td>1</td>\n",
       "      <td>1</td>\n",
       "      <td>Gable</td>\n",
       "      <td>11</td>\n",
       "      <td>0</td>\n",
       "      <td>Pave</td>\n",
       "      <td>CulDSac</td>\n",
       "      <td>20</td>\n",
       "      <td>TA</td>\n",
       "      <td>0</td>\n",
       "      <td>Ex</td>\n",
       "      <td>58</td>\n",
       "      <td>6</td>\n",
       "      <td>Norm</td>\n",
       "      <td>Norm</td>\n",
       "      <td>0</td>\n",
       "      <td>Y</td>\n",
       "      <td>1966</td>\n",
       "      <td>0</td>\n",
       "      <td>0</td>\n",
       "      <td>1Fam</td>\n",
       "      <td>0</td>\n",
       "      <td>1154</td>\n",
       "      <td>TA</td>\n",
       "      <td>Y</td>\n",
       "      <td>1966</td>\n",
       "      <td>0</td>\n",
       "      <td>GasA</td>\n",
       "      <td>2009</td>\n",
       "      <td>IR1</td>\n",
       "      <td>1154</td>\n",
       "      <td>CompShg</td>\n",
       "      <td>11000</td>\n",
       "      <td>1065</td>\n",
       "      <td>Normal</td>\n",
       "      <td>154000</td>\n",
       "      <td>1.335233</td>\n",
       "      <td>145.0</td>\n",
       "      <td>1500.2</td>\n",
       "      <td>133.448873</td>\n",
       "      <td>133.448873</td>\n",
       "      <td>192.333333</td>\n",
       "      <td>1</td>\n",
       "      <td>1.0</td>\n",
       "      <td>3</td>\n",
       "      <td>1</td>\n",
       "      <td>187.0</td>\n",
       "      <td>1.0</td>\n",
       "      <td>20.0</td>\n",
       "    </tr>\n",
       "  </tbody>\n",
       "</table>\n",
       "</div>"
      ],
      "text/plain": [
       "     Electrical MSZoning Functional KitchenQual Utilities SaleType  \\\n",
       "804       SBrkr       RL       Min1          TA    AllPub       WD   \n",
       "1064      SBrkr       RL        Typ          TA    AllPub       WD   \n",
       "\n",
       "     Exterior1st Exterior2nd Alley MasVnrType BsmtQual BsmtCond BsmtExposure  \\\n",
       "804      Wd Sdng     Wd Sdng  None       None       TA       TA           No   \n",
       "1064     Plywood     Plywood  None    BrkFace       TA       TA           Mn   \n",
       "\n",
       "     BsmtFinType1 BsmtFinType2 FireplaceQu GarageType GarageFinish GarageQual  \\\n",
       "804           LwQ          Unf        None     Attchd          Unf         TA   \n",
       "1064          BLQ          Rec          Po     Attchd          RFn         TA   \n",
       "\n",
       "     GarageCond PoolQC  Fence MiscFeature  MasVnrArea  BsmtFinSF2  \\\n",
       "804          TA   None   GdWo        None         0.0           0   \n",
       "1064         TA   None  MnPrv        None       200.0         230   \n",
       "\n",
       "      BsmtFullBath  BsmtHalfBath  GarageArea  TotalBsmtSF  GarageCars  \\\n",
       "804              0             0         286          936           1   \n",
       "1064             0             0         480         1154           2   \n",
       "\n",
       "      BsmtFinSF1  BsmtUnfSF  LotFrontage LandSlope Neighborhood HouseStyle  \\\n",
       "804          812        124    75.000000       Gtl        NAmes     1Story   \n",
       "1064         740        184    70.049958       Gtl        NAmes     1Story   \n",
       "\n",
       "      FullBath Foundation LandContour  OverallQual  3SsnPorch  Fireplaces  \\\n",
       "804          1     CBlock         Lvl            5          0           0   \n",
       "1064         1     CBlock         Lvl            5          0           1   \n",
       "\n",
       "      OverallCond  BedroomAbvGr  KitchenAbvGr  HalfBath RoofStyle  MoSold  \\\n",
       "804             5             2             1         0     Gable       6   \n",
       "1064            6             3             1         1     Gable      11   \n",
       "\n",
       "      LowQualFinSF Street LotConfig  MSSubClass ExterCond  2ndFlrSF HeatingQC  \\\n",
       "804              0   Pave    Inside          20        TA         0        TA   \n",
       "1064             0   Pave   CulDSac          20        TA         0        Ex   \n",
       "\n",
       "      OpenPorchSF  TotRmsAbvGrd Condition1 Condition2  MiscVal CentralAir  \\\n",
       "804             0             5       Norm       Norm        0          Y   \n",
       "1064           58             6       Norm       Norm        0          Y   \n",
       "\n",
       "      YearBuilt  EnclosedPorch  ScreenPorch BldgType  WoodDeckSF  GrLivArea  \\\n",
       "804        1954              0            0     1Fam           0       1128   \n",
       "1064       1966              0            0     1Fam           0       1154   \n",
       "\n",
       "     ExterQual PavedDrive  YearRemodAdd  PoolArea Heating  YrSold LotShape  \\\n",
       "804         TA          Y          1954         0    GasA    2006      Reg   \n",
       "1064        TA          Y          1966         0    GasA    2009      IR1   \n",
       "\n",
       "      1stFlrSF RoofMatl  LotArea    Id SaleCondition  SalePrice  \\\n",
       "804       1128  CompShg     9000   805        Family     118000   \n",
       "1064      1154  CompShg    11000  1065        Normal     154000   \n",
       "\n",
       "      OverallQualFixed  NeighborhoodCat  TotalArea  PricePerGrLivArea  \\\n",
       "804           1.335233            145.0     1408.8         104.609929   \n",
       "1064          1.335233            145.0     1500.2         133.448873   \n",
       "\n",
       "      PricePerTotalArea  GrLivAreaPerRoom  YearBuilt2D  YearBuilt3D  \\\n",
       "804          126.068376        225.600000            1          1.0   \n",
       "1064         133.448873        192.333333            1          1.0   \n",
       "\n",
       "      YearBuilt5D  YearRemodAdd4D  MSSubClassCat  MasVnrTypeCat  \\\n",
       "804             3               1          187.0            0.0   \n",
       "1064            3               1          187.0            1.0   \n",
       "\n",
       "      BsmtExposureCat  \n",
       "804              16.5  \n",
       "1064             20.0  "
      ]
     },
     "execution_count": 72,
     "metadata": {},
     "output_type": "execute_result"
    }
   ],
   "source": [
    "old_max_columns = pd.options.display.max_columns\n",
    "pd.options.display.max_columns = None\n",
    "housing_research_df[(housing_research_df.Id == 805) | (housing_research_df.Id == 1065)]"
   ]
  },
  {
   "cell_type": "markdown",
   "metadata": {},
   "source": [
    "For investigation\n",
    "MSSubClass\n",
    "HouseStyle - !"
   ]
  },
  {
   "cell_type": "code",
   "execution_count": 73,
   "metadata": {},
   "outputs": [
    {
     "data": {
      "text/html": [
       "<div>\n",
       "<style scoped>\n",
       "    .dataframe tbody tr th:only-of-type {\n",
       "        vertical-align: middle;\n",
       "    }\n",
       "\n",
       "    .dataframe tbody tr th {\n",
       "        vertical-align: top;\n",
       "    }\n",
       "\n",
       "    .dataframe thead th {\n",
       "        text-align: right;\n",
       "    }\n",
       "</style>\n",
       "<table border=\"1\" class=\"dataframe\">\n",
       "  <thead>\n",
       "    <tr style=\"text-align: right;\">\n",
       "      <th></th>\n",
       "      <th>Electrical</th>\n",
       "      <th>MSZoning</th>\n",
       "      <th>Functional</th>\n",
       "      <th>KitchenQual</th>\n",
       "      <th>Utilities</th>\n",
       "      <th>SaleType</th>\n",
       "      <th>Exterior1st</th>\n",
       "      <th>Exterior2nd</th>\n",
       "      <th>Alley</th>\n",
       "      <th>MasVnrType</th>\n",
       "      <th>BsmtQual</th>\n",
       "      <th>BsmtCond</th>\n",
       "      <th>BsmtExposure</th>\n",
       "      <th>BsmtFinType1</th>\n",
       "      <th>BsmtFinType2</th>\n",
       "      <th>FireplaceQu</th>\n",
       "      <th>GarageType</th>\n",
       "      <th>GarageFinish</th>\n",
       "      <th>GarageQual</th>\n",
       "      <th>GarageCond</th>\n",
       "      <th>PoolQC</th>\n",
       "      <th>Fence</th>\n",
       "      <th>MiscFeature</th>\n",
       "      <th>MasVnrArea</th>\n",
       "      <th>BsmtFinSF2</th>\n",
       "      <th>BsmtFullBath</th>\n",
       "      <th>BsmtHalfBath</th>\n",
       "      <th>GarageArea</th>\n",
       "      <th>TotalBsmtSF</th>\n",
       "      <th>GarageCars</th>\n",
       "      <th>BsmtFinSF1</th>\n",
       "      <th>BsmtUnfSF</th>\n",
       "      <th>LotFrontage</th>\n",
       "      <th>LandSlope</th>\n",
       "      <th>Neighborhood</th>\n",
       "      <th>HouseStyle</th>\n",
       "      <th>FullBath</th>\n",
       "      <th>Foundation</th>\n",
       "      <th>LandContour</th>\n",
       "      <th>OverallQual</th>\n",
       "      <th>3SsnPorch</th>\n",
       "      <th>Fireplaces</th>\n",
       "      <th>OverallCond</th>\n",
       "      <th>BedroomAbvGr</th>\n",
       "      <th>KitchenAbvGr</th>\n",
       "      <th>HalfBath</th>\n",
       "      <th>RoofStyle</th>\n",
       "      <th>MoSold</th>\n",
       "      <th>LowQualFinSF</th>\n",
       "      <th>Street</th>\n",
       "      <th>LotConfig</th>\n",
       "      <th>MSSubClass</th>\n",
       "      <th>ExterCond</th>\n",
       "      <th>2ndFlrSF</th>\n",
       "      <th>HeatingQC</th>\n",
       "      <th>OpenPorchSF</th>\n",
       "      <th>TotRmsAbvGrd</th>\n",
       "      <th>Condition1</th>\n",
       "      <th>Condition2</th>\n",
       "      <th>MiscVal</th>\n",
       "      <th>CentralAir</th>\n",
       "      <th>YearBuilt</th>\n",
       "      <th>EnclosedPorch</th>\n",
       "      <th>ScreenPorch</th>\n",
       "      <th>BldgType</th>\n",
       "      <th>WoodDeckSF</th>\n",
       "      <th>GrLivArea</th>\n",
       "      <th>ExterQual</th>\n",
       "      <th>PavedDrive</th>\n",
       "      <th>YearRemodAdd</th>\n",
       "      <th>PoolArea</th>\n",
       "      <th>Heating</th>\n",
       "      <th>YrSold</th>\n",
       "      <th>LotShape</th>\n",
       "      <th>1stFlrSF</th>\n",
       "      <th>RoofMatl</th>\n",
       "      <th>LotArea</th>\n",
       "      <th>Id</th>\n",
       "      <th>SaleCondition</th>\n",
       "      <th>SalePrice</th>\n",
       "      <th>OverallQualFixed</th>\n",
       "      <th>NeighborhoodCat</th>\n",
       "      <th>TotalArea</th>\n",
       "      <th>PricePerGrLivArea</th>\n",
       "      <th>PricePerTotalArea</th>\n",
       "      <th>GrLivAreaPerRoom</th>\n",
       "      <th>YearBuilt2D</th>\n",
       "      <th>YearBuilt3D</th>\n",
       "      <th>YearBuilt5D</th>\n",
       "      <th>YearRemodAdd4D</th>\n",
       "      <th>MSSubClassCat</th>\n",
       "      <th>MasVnrTypeCat</th>\n",
       "      <th>BsmtExposureCat</th>\n",
       "    </tr>\n",
       "  </thead>\n",
       "  <tbody>\n",
       "    <tr>\n",
       "      <th>1290</th>\n",
       "      <td>SBrkr</td>\n",
       "      <td>RL</td>\n",
       "      <td>Typ</td>\n",
       "      <td>TA</td>\n",
       "      <td>AllPub</td>\n",
       "      <td>WD</td>\n",
       "      <td>Wd Sdng</td>\n",
       "      <td>HdBoard</td>\n",
       "      <td>None</td>\n",
       "      <td>BrkFace</td>\n",
       "      <td>TA</td>\n",
       "      <td>TA</td>\n",
       "      <td>Av</td>\n",
       "      <td>GLQ</td>\n",
       "      <td>Unf</td>\n",
       "      <td>Gd</td>\n",
       "      <td>Attchd</td>\n",
       "      <td>RFn</td>\n",
       "      <td>TA</td>\n",
       "      <td>TA</td>\n",
       "      <td>None</td>\n",
       "      <td>None</td>\n",
       "      <td>None</td>\n",
       "      <td>86.0</td>\n",
       "      <td>0</td>\n",
       "      <td>1</td>\n",
       "      <td>0</td>\n",
       "      <td>484</td>\n",
       "      <td>1152</td>\n",
       "      <td>2</td>\n",
       "      <td>1014</td>\n",
       "      <td>138</td>\n",
       "      <td>70.049958</td>\n",
       "      <td>Gtl</td>\n",
       "      <td>NAmes</td>\n",
       "      <td>SLvl</td>\n",
       "      <td>1</td>\n",
       "      <td>PConc</td>\n",
       "      <td>Lvl</td>\n",
       "      <td>5</td>\n",
       "      <td>0</td>\n",
       "      <td>1</td>\n",
       "      <td>7</td>\n",
       "      <td>3</td>\n",
       "      <td>1</td>\n",
       "      <td>0</td>\n",
       "      <td>Hip</td>\n",
       "      <td>4</td>\n",
       "      <td>0</td>\n",
       "      <td>Pave</td>\n",
       "      <td>Corner</td>\n",
       "      <td>80</td>\n",
       "      <td>TA</td>\n",
       "      <td>0</td>\n",
       "      <td>TA</td>\n",
       "      <td>0</td>\n",
       "      <td>6</td>\n",
       "      <td>Norm</td>\n",
       "      <td>Norm</td>\n",
       "      <td>0</td>\n",
       "      <td>Y</td>\n",
       "      <td>1964</td>\n",
       "      <td>0</td>\n",
       "      <td>0</td>\n",
       "      <td>1Fam</td>\n",
       "      <td>227</td>\n",
       "      <td>1152</td>\n",
       "      <td>TA</td>\n",
       "      <td>Y</td>\n",
       "      <td>1964</td>\n",
       "      <td>0</td>\n",
       "      <td>GasA</td>\n",
       "      <td>2010</td>\n",
       "      <td>IR1</td>\n",
       "      <td>1152</td>\n",
       "      <td>CompShg</td>\n",
       "      <td>14112</td>\n",
       "      <td>1291</td>\n",
       "      <td>Normal</td>\n",
       "      <td>180500</td>\n",
       "      <td>1.335233</td>\n",
       "      <td>145.0</td>\n",
       "      <td>1497.6</td>\n",
       "      <td>156.684028</td>\n",
       "      <td>156.684028</td>\n",
       "      <td>192.000000</td>\n",
       "      <td>1</td>\n",
       "      <td>1.0</td>\n",
       "      <td>3</td>\n",
       "      <td>1</td>\n",
       "      <td>168.0</td>\n",
       "      <td>1.0</td>\n",
       "      <td>20.0</td>\n",
       "    </tr>\n",
       "    <tr>\n",
       "      <th>1418</th>\n",
       "      <td>SBrkr</td>\n",
       "      <td>RL</td>\n",
       "      <td>Typ</td>\n",
       "      <td>TA</td>\n",
       "      <td>AllPub</td>\n",
       "      <td>COD</td>\n",
       "      <td>HdBoard</td>\n",
       "      <td>HdBoard</td>\n",
       "      <td>None</td>\n",
       "      <td>None</td>\n",
       "      <td>TA</td>\n",
       "      <td>TA</td>\n",
       "      <td>No</td>\n",
       "      <td>BLQ</td>\n",
       "      <td>Rec</td>\n",
       "      <td>None</td>\n",
       "      <td>Detchd</td>\n",
       "      <td>Unf</td>\n",
       "      <td>TA</td>\n",
       "      <td>TA</td>\n",
       "      <td>None</td>\n",
       "      <td>None</td>\n",
       "      <td>None</td>\n",
       "      <td>0.0</td>\n",
       "      <td>872</td>\n",
       "      <td>1</td>\n",
       "      <td>0</td>\n",
       "      <td>336</td>\n",
       "      <td>1144</td>\n",
       "      <td>1</td>\n",
       "      <td>25</td>\n",
       "      <td>247</td>\n",
       "      <td>71.000000</td>\n",
       "      <td>Gtl</td>\n",
       "      <td>NAmes</td>\n",
       "      <td>1Story</td>\n",
       "      <td>1</td>\n",
       "      <td>CBlock</td>\n",
       "      <td>Lvl</td>\n",
       "      <td>5</td>\n",
       "      <td>0</td>\n",
       "      <td>0</td>\n",
       "      <td>5</td>\n",
       "      <td>3</td>\n",
       "      <td>1</td>\n",
       "      <td>1</td>\n",
       "      <td>Gable</td>\n",
       "      <td>8</td>\n",
       "      <td>0</td>\n",
       "      <td>Pave</td>\n",
       "      <td>Inside</td>\n",
       "      <td>20</td>\n",
       "      <td>TA</td>\n",
       "      <td>0</td>\n",
       "      <td>TA</td>\n",
       "      <td>88</td>\n",
       "      <td>6</td>\n",
       "      <td>Norm</td>\n",
       "      <td>Norm</td>\n",
       "      <td>0</td>\n",
       "      <td>Y</td>\n",
       "      <td>1963</td>\n",
       "      <td>0</td>\n",
       "      <td>0</td>\n",
       "      <td>1Fam</td>\n",
       "      <td>0</td>\n",
       "      <td>1144</td>\n",
       "      <td>TA</td>\n",
       "      <td>Y</td>\n",
       "      <td>1963</td>\n",
       "      <td>0</td>\n",
       "      <td>GasA</td>\n",
       "      <td>2008</td>\n",
       "      <td>Reg</td>\n",
       "      <td>1144</td>\n",
       "      <td>CompShg</td>\n",
       "      <td>9204</td>\n",
       "      <td>1419</td>\n",
       "      <td>Normal</td>\n",
       "      <td>124000</td>\n",
       "      <td>1.335233</td>\n",
       "      <td>145.0</td>\n",
       "      <td>1487.2</td>\n",
       "      <td>108.391608</td>\n",
       "      <td>108.391608</td>\n",
       "      <td>190.666667</td>\n",
       "      <td>1</td>\n",
       "      <td>1.0</td>\n",
       "      <td>3</td>\n",
       "      <td>1</td>\n",
       "      <td>187.0</td>\n",
       "      <td>0.0</td>\n",
       "      <td>16.5</td>\n",
       "    </tr>\n",
       "  </tbody>\n",
       "</table>\n",
       "</div>"
      ],
      "text/plain": [
       "     Electrical MSZoning Functional KitchenQual Utilities SaleType  \\\n",
       "1290      SBrkr       RL        Typ          TA    AllPub       WD   \n",
       "1418      SBrkr       RL        Typ          TA    AllPub      COD   \n",
       "\n",
       "     Exterior1st Exterior2nd Alley MasVnrType BsmtQual BsmtCond BsmtExposure  \\\n",
       "1290     Wd Sdng     HdBoard  None    BrkFace       TA       TA           Av   \n",
       "1418     HdBoard     HdBoard  None       None       TA       TA           No   \n",
       "\n",
       "     BsmtFinType1 BsmtFinType2 FireplaceQu GarageType GarageFinish GarageQual  \\\n",
       "1290          GLQ          Unf          Gd     Attchd          RFn         TA   \n",
       "1418          BLQ          Rec        None     Detchd          Unf         TA   \n",
       "\n",
       "     GarageCond PoolQC Fence MiscFeature  MasVnrArea  BsmtFinSF2  \\\n",
       "1290         TA   None  None        None        86.0           0   \n",
       "1418         TA   None  None        None         0.0         872   \n",
       "\n",
       "      BsmtFullBath  BsmtHalfBath  GarageArea  TotalBsmtSF  GarageCars  \\\n",
       "1290             1             0         484         1152           2   \n",
       "1418             1             0         336         1144           1   \n",
       "\n",
       "      BsmtFinSF1  BsmtUnfSF  LotFrontage LandSlope Neighborhood HouseStyle  \\\n",
       "1290        1014        138    70.049958       Gtl        NAmes       SLvl   \n",
       "1418          25        247    71.000000       Gtl        NAmes     1Story   \n",
       "\n",
       "      FullBath Foundation LandContour  OverallQual  3SsnPorch  Fireplaces  \\\n",
       "1290         1      PConc         Lvl            5          0           1   \n",
       "1418         1     CBlock         Lvl            5          0           0   \n",
       "\n",
       "      OverallCond  BedroomAbvGr  KitchenAbvGr  HalfBath RoofStyle  MoSold  \\\n",
       "1290            7             3             1         0       Hip       4   \n",
       "1418            5             3             1         1     Gable       8   \n",
       "\n",
       "      LowQualFinSF Street LotConfig  MSSubClass ExterCond  2ndFlrSF HeatingQC  \\\n",
       "1290             0   Pave    Corner          80        TA         0        TA   \n",
       "1418             0   Pave    Inside          20        TA         0        TA   \n",
       "\n",
       "      OpenPorchSF  TotRmsAbvGrd Condition1 Condition2  MiscVal CentralAir  \\\n",
       "1290            0             6       Norm       Norm        0          Y   \n",
       "1418           88             6       Norm       Norm        0          Y   \n",
       "\n",
       "      YearBuilt  EnclosedPorch  ScreenPorch BldgType  WoodDeckSF  GrLivArea  \\\n",
       "1290       1964              0            0     1Fam         227       1152   \n",
       "1418       1963              0            0     1Fam           0       1144   \n",
       "\n",
       "     ExterQual PavedDrive  YearRemodAdd  PoolArea Heating  YrSold LotShape  \\\n",
       "1290        TA          Y          1964         0    GasA    2010      IR1   \n",
       "1418        TA          Y          1963         0    GasA    2008      Reg   \n",
       "\n",
       "      1stFlrSF RoofMatl  LotArea    Id SaleCondition  SalePrice  \\\n",
       "1290      1152  CompShg    14112  1291        Normal     180500   \n",
       "1418      1144  CompShg     9204  1419        Normal     124000   \n",
       "\n",
       "      OverallQualFixed  NeighborhoodCat  TotalArea  PricePerGrLivArea  \\\n",
       "1290          1.335233            145.0     1497.6         156.684028   \n",
       "1418          1.335233            145.0     1487.2         108.391608   \n",
       "\n",
       "      PricePerTotalArea  GrLivAreaPerRoom  YearBuilt2D  YearBuilt3D  \\\n",
       "1290         156.684028        192.000000            1          1.0   \n",
       "1418         108.391608        190.666667            1          1.0   \n",
       "\n",
       "      YearBuilt5D  YearRemodAdd4D  MSSubClassCat  MasVnrTypeCat  \\\n",
       "1290            3               1          168.0            1.0   \n",
       "1418            3               1          187.0            0.0   \n",
       "\n",
       "      BsmtExposureCat  \n",
       "1290             20.0  \n",
       "1418             16.5  "
      ]
     },
     "execution_count": 73,
     "metadata": {},
     "output_type": "execute_result"
    }
   ],
   "source": [
    "housing_research_df[(housing_research_df.Id == 1419) | (housing_research_df.Id == 1291)]\n",
    "# diff = housing_research_df[(housing_research_df.Id == 1419)].values == housing_research_df[(housing_research_df.Id == 1291)].values\n",
    "# housing_research_df[(housing_research_df.Id == 1419)]"
   ]
  },
  {
   "cell_type": "markdown",
   "metadata": {},
   "source": [
    "## Narrow data correlation\n",
    "Correlation in near similar locations and similar total area"
   ]
  },
  {
   "cell_type": "code",
   "execution_count": 74,
   "metadata": {},
   "outputs": [],
   "source": [
    "location_145_similar_area = housing_research_df[(housing_research_df['NeighborhoodCat'] == 145.0) &\n",
    "                    (housing_research_df['TotalArea'] > 1300) & (housing_research_df['TotalArea'] < 1600)]"
   ]
  },
  {
   "cell_type": "code",
   "execution_count": 75,
   "metadata": {},
   "outputs": [
    {
     "data": {
      "text/plain": [
       "111"
      ]
     },
     "execution_count": 75,
     "metadata": {},
     "output_type": "execute_result"
    }
   ],
   "source": [
    "len(location_145_similar_area)"
   ]
  },
  {
   "cell_type": "code",
   "execution_count": 76,
   "metadata": {},
   "outputs": [],
   "source": [
    "corr_145_research = location_145_similar_area.corr()\n",
    "corr_res = corr_145_research['SalePrice'].abs().sort_values(ascending=False)\n",
    "# corr_res"
   ]
  },
  {
   "cell_type": "code",
   "execution_count": 77,
   "metadata": {},
   "outputs": [
    {
     "data": {
      "text/plain": [
       "SalePrice            1.000000\n",
       "PricePerGrLivArea    0.800894\n",
       "GarageCars           0.473604\n",
       "OverallQualFixed     0.414991\n",
       "OverallQual          0.412908\n",
       "GarageArea           0.386989\n",
       "MasVnrTypeCat        0.373933\n",
       "MasVnrArea           0.360302\n",
       "PricePerTotalArea    0.339708\n",
       "OverallCond          0.314438\n",
       "BsmtExposureCat      0.299057\n",
       "YearBuilt            0.289797\n",
       "TotalArea            0.267371\n",
       "MSSubClass           0.250589\n",
       "WoodDeckSF           0.244181\n",
       "FullBath             0.221256\n",
       "BsmtFullBath         0.221212\n",
       "YearRemodAdd         0.217239\n",
       "BsmtFinSF1           0.212530\n",
       "BsmtUnfSF            0.208622\n",
       "GrLivArea            0.186262\n",
       "PoolArea             0.180211\n",
       "TotRmsAbvGrd         0.170524\n",
       "Fireplaces           0.162190\n",
       "OpenPorchSF          0.129050\n",
       "HalfBath             0.107637\n",
       "TotalBsmtSF          0.101023\n",
       "YrSold               0.095386\n",
       "YearBuilt3D          0.091458\n",
       "BsmtHalfBath         0.089575\n",
       "ScreenPorch          0.075072\n",
       "1stFlrSF             0.070863\n",
       "EnclosedPorch        0.068479\n",
       "YearRemodAdd4D       0.065979\n",
       "BsmtFinSF2           0.065646\n",
       "YearBuilt5D          0.057807\n",
       "YearBuilt2D          0.056048\n",
       "3SsnPorch            0.054039\n",
       "MSSubClassCat        0.053546\n",
       "LotFrontage          0.052413\n",
       "Id                   0.051550\n",
       "BedroomAbvGr         0.050555\n",
       "2ndFlrSF             0.048388\n",
       "LowQualFinSF         0.048099\n",
       "MoSold               0.044058\n",
       "GrLivAreaPerRoom     0.032179\n",
       "LotArea              0.032055\n",
       "MiscVal              0.029164\n",
       "KitchenAbvGr              NaN\n",
       "NeighborhoodCat           NaN\n",
       "Name: SalePrice, dtype: float64"
      ]
     },
     "execution_count": 77,
     "metadata": {},
     "output_type": "execute_result"
    }
   ],
   "source": [
    "corr_res"
   ]
  },
  {
   "cell_type": "markdown",
   "metadata": {},
   "source": [
    "### Other locations"
   ]
  },
  {
   "cell_type": "code",
   "execution_count": 78,
   "metadata": {},
   "outputs": [
    {
     "data": {
      "image/png": "[encoded data removed]",
      "text/plain": [
       "<Figure size 720x504 with 1 Axes>"
      ]
     },
     "metadata": {
      "needs_background": "light"
     },
     "output_type": "display_data"
    }
   ],
   "source": [
    "housing_research_df[housing_research_df['NeighborhoodCat'] == 193.0]['TotalArea'].plot.hist(bins=30, figsize=(10,7))\n",
    "plt.show()"
   ]
  },
  {
   "cell_type": "code",
   "execution_count": 79,
   "metadata": {},
   "outputs": [
    {
     "data": {
      "text/plain": [
       "150"
      ]
     },
     "execution_count": 79,
     "metadata": {},
     "output_type": "execute_result"
    }
   ],
   "source": [
    "location_193_similar_area = housing_research_df[(housing_research_df['NeighborhoodCat'] == 193.0) &\n",
    "                    (housing_research_df['TotalArea'] > 1800) & (housing_research_df['TotalArea'] < 2200)]\n",
    "len(location_193_similar_area)"
   ]
  },
  {
   "cell_type": "code",
   "execution_count": 80,
   "metadata": {},
   "outputs": [
    {
     "data": {
      "image/png": "[encoded data removed]",
      "text/plain": [
       "<Figure size 720x504 with 1 Axes>"
      ]
     },
     "metadata": {
      "needs_background": "light"
     },
     "output_type": "display_data"
    }
   ],
   "source": [
    "location_193_similar_area['SalePrice'].plot.hist(bins=30, figsize=(10,7))\n",
    "plt.show()"
   ]
  },
  {
   "cell_type": "code",
   "execution_count": 81,
   "metadata": {},
   "outputs": [
    {
     "data": {
      "text/html": [
       "<div>\n",
       "<style scoped>\n",
       "    .dataframe tbody tr th:only-of-type {\n",
       "        vertical-align: middle;\n",
       "    }\n",
       "\n",
       "    .dataframe tbody tr th {\n",
       "        vertical-align: top;\n",
       "    }\n",
       "\n",
       "    .dataframe thead tr th {\n",
       "        text-align: left;\n",
       "    }\n",
       "\n",
       "    .dataframe thead tr:last-of-type th {\n",
       "        text-align: right;\n",
       "    }\n",
       "</style>\n",
       "<table border=\"1\" class=\"dataframe\">\n",
       "  <thead>\n",
       "    <tr>\n",
       "      <th></th>\n",
       "      <th colspan=\"3\" halign=\"left\">SalePrice</th>\n",
       "    </tr>\n",
       "    <tr>\n",
       "      <th></th>\n",
       "      <th>count</th>\n",
       "      <th>mean</th>\n",
       "      <th>std</th>\n",
       "    </tr>\n",
       "    <tr>\n",
       "      <th>OverallQual</th>\n",
       "      <th></th>\n",
       "      <th></th>\n",
       "      <th></th>\n",
       "    </tr>\n",
       "  </thead>\n",
       "  <tbody>\n",
       "    <tr>\n",
       "      <th>5</th>\n",
       "      <td>7</td>\n",
       "      <td>161792.142857</td>\n",
       "      <td>26204.726650</td>\n",
       "    </tr>\n",
       "    <tr>\n",
       "      <th>6</th>\n",
       "      <td>45</td>\n",
       "      <td>187154.444444</td>\n",
       "      <td>14682.320933</td>\n",
       "    </tr>\n",
       "    <tr>\n",
       "      <th>7</th>\n",
       "      <td>85</td>\n",
       "      <td>203540.800000</td>\n",
       "      <td>26567.359783</td>\n",
       "    </tr>\n",
       "    <tr>\n",
       "      <th>8</th>\n",
       "      <td>12</td>\n",
       "      <td>232246.166667</td>\n",
       "      <td>33748.080880</td>\n",
       "    </tr>\n",
       "    <tr>\n",
       "      <th>9</th>\n",
       "      <td>1</td>\n",
       "      <td>285000.000000</td>\n",
       "      <td>NaN</td>\n",
       "    </tr>\n",
       "  </tbody>\n",
       "</table>\n",
       "</div>"
      ],
      "text/plain": [
       "            SalePrice                             \n",
       "                count           mean           std\n",
       "OverallQual                                       \n",
       "5                   7  161792.142857  26204.726650\n",
       "6                  45  187154.444444  14682.320933\n",
       "7                  85  203540.800000  26567.359783\n",
       "8                  12  232246.166667  33748.080880\n",
       "9                   1  285000.000000           NaN"
      ]
     },
     "execution_count": 81,
     "metadata": {},
     "output_type": "execute_result"
    }
   ],
   "source": [
    "location_193_similar_area[['OverallQual', 'SalePrice']].groupby('OverallQual').agg(['count', np.mean, np.std])"
   ]
  },
  {
   "cell_type": "code",
   "execution_count": 82,
   "metadata": {},
   "outputs": [
    {
     "data": {
      "text/plain": [
       "85"
      ]
     },
     "execution_count": 82,
     "metadata": {},
     "output_type": "execute_result"
    }
   ],
   "source": [
    "location_193_area_qual_7 = location_193_similar_area[location_193_similar_area['OverallQual'] == 7]\n",
    "len(location_193_area_qual_7)"
   ]
  },
  {
   "cell_type": "code",
   "execution_count": 83,
   "metadata": {},
   "outputs": [
    {
     "data": {
      "image/png": "[encoded data removed]",
      "text/plain": [
       "<Figure size 720x504 with 1 Axes>"
      ]
     },
     "metadata": {
      "needs_background": "light"
     },
     "output_type": "display_data"
    }
   ],
   "source": [
    "location_193_area_qual_7[location_193_area_qual_7['YearBuilt5D'] == 5]['TotalArea'].plot.hist(bins=30, figsize=(10,7))\n",
    "plt.show()"
   ]
  },
  {
   "cell_type": "code",
   "execution_count": 84,
   "metadata": {},
   "outputs": [
    {
     "data": {
      "text/html": [
       "<div>\n",
       "<style scoped>\n",
       "    .dataframe tbody tr th:only-of-type {\n",
       "        vertical-align: middle;\n",
       "    }\n",
       "\n",
       "    .dataframe tbody tr th {\n",
       "        vertical-align: top;\n",
       "    }\n",
       "\n",
       "    .dataframe thead tr th {\n",
       "        text-align: left;\n",
       "    }\n",
       "\n",
       "    .dataframe thead tr:last-of-type th {\n",
       "        text-align: right;\n",
       "    }\n",
       "</style>\n",
       "<table border=\"1\" class=\"dataframe\">\n",
       "  <thead>\n",
       "    <tr>\n",
       "      <th></th>\n",
       "      <th colspan=\"3\" halign=\"left\">SalePrice</th>\n",
       "    </tr>\n",
       "    <tr>\n",
       "      <th></th>\n",
       "      <th>count</th>\n",
       "      <th>mean</th>\n",
       "      <th>std</th>\n",
       "    </tr>\n",
       "    <tr>\n",
       "      <th>YearBuilt5D</th>\n",
       "      <th></th>\n",
       "      <th></th>\n",
       "      <th></th>\n",
       "    </tr>\n",
       "  </thead>\n",
       "  <tbody>\n",
       "    <tr>\n",
       "      <th>3</th>\n",
       "      <td>7</td>\n",
       "      <td>163042.857143</td>\n",
       "      <td>38859.269900</td>\n",
       "    </tr>\n",
       "    <tr>\n",
       "      <th>4</th>\n",
       "      <td>26</td>\n",
       "      <td>201671.153846</td>\n",
       "      <td>19124.989794</td>\n",
       "    </tr>\n",
       "    <tr>\n",
       "      <th>5</th>\n",
       "      <td>52</td>\n",
       "      <td>209927.269231</td>\n",
       "      <td>23175.581646</td>\n",
       "    </tr>\n",
       "  </tbody>\n",
       "</table>\n",
       "</div>"
      ],
      "text/plain": [
       "            SalePrice                             \n",
       "                count           mean           std\n",
       "YearBuilt5D                                       \n",
       "3                   7  163042.857143  38859.269900\n",
       "4                  26  201671.153846  19124.989794\n",
       "5                  52  209927.269231  23175.581646"
      ]
     },
     "execution_count": 84,
     "metadata": {},
     "output_type": "execute_result"
    }
   ],
   "source": [
    "location_193_area_qual_7[['YearBuilt5D', 'SalePrice']].groupby('YearBuilt5D').agg(['count', np.mean, np.std])"
   ]
  },
  {
   "cell_type": "code",
   "execution_count": 85,
   "metadata": {},
   "outputs": [
    {
     "data": {
      "text/plain": [
       "SalePrice            1.000000e+00\n",
       "PricePerGrLivArea    7.476920e-01\n",
       "BsmtFullBath         4.962853e-01\n",
       "TotalArea            4.774394e-01\n",
       "BsmtFinSF1           4.324658e-01\n",
       "GarageArea           3.854934e-01\n",
       "GarageCars           3.568904e-01\n",
       "LotFrontage          3.549670e-01\n",
       "BsmtExposureCat      3.283339e-01\n",
       "LotArea              3.128640e-01\n",
       "MasVnrArea           3.086915e-01\n",
       "BsmtUnfSF            2.868445e-01\n",
       "BedroomAbvGr         2.847649e-01\n",
       "MSSubClass           2.624551e-01\n",
       "YrSold               2.431114e-01\n",
       "GrLivArea            2.171420e-01\n",
       "PricePerTotalArea    2.165136e-01\n",
       "BsmtHalfBath         2.076003e-01\n",
       "MoSold               1.853231e-01\n",
       "TotalBsmtSF          1.795918e-01\n",
       "Fireplaces           1.750486e-01\n",
       "OverallCond          1.651707e-01\n",
       "1stFlrSF             1.329839e-01\n",
       "3SsnPorch            1.240336e-01\n",
       "OpenPorchSF          1.114327e-01\n",
       "WoodDeckSF           1.069354e-01\n",
       "GrLivAreaPerRoom     1.031972e-01\n",
       "YearBuilt            9.661916e-02\n",
       "YearRemodAdd         7.350568e-02\n",
       "TotRmsAbvGrd         7.306030e-02\n",
       "MasVnrTypeCat        6.848871e-02\n",
       "MSSubClassCat        4.225604e-02\n",
       "2ndFlrSF             2.704400e-02\n",
       "HalfBath             2.469696e-02\n",
       "Id                   8.035284e-03\n",
       "OverallQualFixed     4.877112e-16\n",
       "BsmtFinSF2                    NaN\n",
       "FullBath                      NaN\n",
       "OverallQual                   NaN\n",
       "KitchenAbvGr                  NaN\n",
       "LowQualFinSF                  NaN\n",
       "MiscVal                       NaN\n",
       "EnclosedPorch                 NaN\n",
       "ScreenPorch                   NaN\n",
       "PoolArea                      NaN\n",
       "NeighborhoodCat               NaN\n",
       "YearBuilt2D                   NaN\n",
       "YearBuilt3D                   NaN\n",
       "YearBuilt5D                   NaN\n",
       "YearRemodAdd4D                NaN\n",
       "Name: SalePrice, dtype: float64"
      ]
     },
     "execution_count": 85,
     "metadata": {},
     "output_type": "execute_result"
    }
   ],
   "source": [
    "location_193_area_qual_7_year5 = location_193_area_qual_7[location_193_area_qual_7['YearBuilt5D'] == 5]\n",
    "location_193_area_qual_7_year5_corr = location_193_area_qual_7_year5.corr()\n",
    "corr = location_193_area_qual_7_year5_corr['SalePrice'].abs().sort_values(ascending=False)\n",
    "corr"
   ]
  },
  {
   "cell_type": "code",
   "execution_count": 86,
   "metadata": {},
   "outputs": [
    {
     "data": {
      "text/plain": [
       "<matplotlib.axes._subplots.AxesSubplot at 0xc587390>"
      ]
     },
     "execution_count": 86,
     "metadata": {},
     "output_type": "execute_result"
    },
    {
     "data": {
      "image/png": "[encoded data removed]",
      "text/plain": [
       "<Figure size 432x288 with 1 Axes>"
      ]
     },
     "metadata": {
      "needs_background": "light"
     },
     "output_type": "display_data"
    }
   ],
   "source": [
    "location_193_area_qual_7_year5.plot.scatter(x='TotalArea', y='SalePrice')"
   ]
  },
  {
   "cell_type": "code",
   "execution_count": 87,
   "metadata": {},
   "outputs": [
    {
     "data": {
      "text/plain": [
       "209927.26923076922"
      ]
     },
     "execution_count": 87,
     "metadata": {},
     "output_type": "execute_result"
    }
   ],
   "source": [
    "location_193_area_qual_7_year5['SalePrice'].mean()"
   ]
  },
  {
   "cell_type": "code",
   "execution_count": 88,
   "metadata": {},
   "outputs": [
    {
     "data": {
      "text/plain": [
       "SalePrice            1.000000e+00\n",
       "PricePerGrLivArea    8.174330e-01\n",
       "YearBuilt2D          4.593631e-01\n",
       "BsmtFullBath         4.423024e-01\n",
       "YearBuilt5D          4.262572e-01\n",
       "YearBuilt            4.069279e-01\n",
       "TotalArea            4.061362e-01\n",
       "YearBuilt3D          4.019536e-01\n",
       "YearRemodAdd         3.993666e-01\n",
       "YearRemodAdd4D       3.939556e-01\n",
       "BsmtExposureCat      3.550166e-01\n",
       "GarageArea           3.421424e-01\n",
       "GarageCars           3.276244e-01\n",
       "BsmtFinSF1           3.166938e-01\n",
       "TotalBsmtSF          2.161359e-01\n",
       "GrLivAreaPerRoom     1.953664e-01\n",
       "PricePerTotalArea    1.890403e-01\n",
       "MoSold               1.855194e-01\n",
       "YrSold               1.648850e-01\n",
       "BsmtUnfSF            1.644263e-01\n",
       "MasVnrArea           1.405147e-01\n",
       "LotArea              1.390513e-01\n",
       "FullBath             1.385655e-01\n",
       "1stFlrSF             1.377916e-01\n",
       "GrLivArea            1.348224e-01\n",
       "BsmtHalfBath         1.287727e-01\n",
       "OpenPorchSF          1.140068e-01\n",
       "ScreenPorch          9.310343e-02\n",
       "LotFrontage          9.240697e-02\n",
       "MSSubClass           7.829799e-02\n",
       "MasVnrTypeCat        6.688292e-02\n",
       "OverallCond          6.154934e-02\n",
       "MSSubClassCat        5.782556e-02\n",
       "2ndFlrSF             5.516771e-02\n",
       "TotRmsAbvGrd         5.184994e-02\n",
       "BsmtFinSF2           4.605997e-02\n",
       "MiscVal              4.351959e-02\n",
       "3SsnPorch            3.758823e-02\n",
       "HalfBath             3.757624e-02\n",
       "Id                   3.126937e-02\n",
       "EnclosedPorch        2.149487e-02\n",
       "WoodDeckSF           1.590356e-02\n",
       "Fireplaces           1.267827e-02\n",
       "BedroomAbvGr         4.405071e-03\n",
       "OverallQualFixed     4.407898e-16\n",
       "OverallQual                   NaN\n",
       "KitchenAbvGr                  NaN\n",
       "LowQualFinSF                  NaN\n",
       "PoolArea                      NaN\n",
       "NeighborhoodCat               NaN\n",
       "Name: SalePrice, dtype: float64"
      ]
     },
     "execution_count": 88,
     "metadata": {},
     "output_type": "execute_result"
    }
   ],
   "source": [
    "location_193_area_qual_7_corr = location_193_area_qual_7.corr()\n",
    "location_193_area_qual_7_corr['SalePrice'].abs().sort_values(ascending=False)"
   ]
  },
  {
   "cell_type": "code",
   "execution_count": 89,
   "metadata": {},
   "outputs": [
    {
     "data": {
      "text/plain": [
       "SalePrice            1.000000\n",
       "PricePerGrLivArea    0.862287\n",
       "OverallQualFixed     0.547214\n",
       "OverallQual          0.539088\n",
       "YearBuilt            0.485394\n",
       "YearBuilt5D          0.481121\n",
       "YearRemodAdd         0.468784\n",
       "GarageArea           0.461388\n",
       "YearRemodAdd4D       0.456730\n",
       "GarageCars           0.455159\n",
       "BsmtFullBath         0.452607\n",
       "YearBuilt3D          0.429438\n",
       "BsmtExposureCat      0.427176\n",
       "YearBuilt2D          0.422063\n",
       "TotalArea            0.378331\n",
       "BsmtFinSF1           0.357921\n",
       "TotalBsmtSF          0.306705\n",
       "KitchenAbvGr         0.302740\n",
       "BedroomAbvGr         0.216065\n",
       "1stFlrSF             0.180871\n",
       "MiscVal              0.180378\n",
       "GrLivAreaPerRoom     0.176863\n",
       "MSSubClass           0.154837\n",
       "OverallCond          0.152778\n",
       "HalfBath             0.146010\n",
       "PricePerTotalArea    0.138775\n",
       "OpenPorchSF          0.130865\n",
       "2ndFlrSF             0.124293\n",
       "BsmtUnfSF            0.116190\n",
       "TotRmsAbvGrd         0.105940\n",
       "WoodDeckSF           0.100885\n",
       "MasVnrTypeCat        0.092599\n",
       "Id                   0.071401\n",
       "MoSold               0.058602\n",
       "GrLivArea            0.055725\n",
       "FullBath             0.043709\n",
       "YrSold               0.042759\n",
       "BsmtFinSF2           0.040324\n",
       "MasVnrArea           0.039882\n",
       "MSSubClassCat        0.030657\n",
       "LotArea              0.029157\n",
       "Fireplaces           0.012369\n",
       "EnclosedPorch        0.010343\n",
       "3SsnPorch            0.004918\n",
       "LotFrontage          0.002297\n",
       "BsmtHalfBath         0.001884\n",
       "ScreenPorch          0.000592\n",
       "LowQualFinSF              NaN\n",
       "PoolArea                  NaN\n",
       "NeighborhoodCat           NaN\n",
       "Name: SalePrice, dtype: float64"
      ]
     },
     "execution_count": 89,
     "metadata": {},
     "output_type": "execute_result"
    }
   ],
   "source": [
    "location_193_similar_area_corr = location_193_similar_area.corr()\n",
    "corr_res = location_193_similar_area_corr['SalePrice'].abs().sort_values(ascending=False)\n",
    "corr_res"
   ]
  },
  {
   "cell_type": "markdown",
   "metadata": {},
   "source": [
    "### Some research"
   ]
  },
  {
   "cell_type": "code",
   "execution_count": 90,
   "metadata": {},
   "outputs": [],
   "source": [
    "# location_145_similar_area[['SalePrice', 'MasVnrType']].groupby('MasVnrType').agg(['count', np.mean, np.std]).sort_values(('SalePrice','mean'))"
   ]
  },
  {
   "cell_type": "code",
   "execution_count": 91,
   "metadata": {},
   "outputs": [
    {
     "data": {
      "text/html": [
       "<div>\n",
       "<style scoped>\n",
       "    .dataframe tbody tr th:only-of-type {\n",
       "        vertical-align: middle;\n",
       "    }\n",
       "\n",
       "    .dataframe tbody tr th {\n",
       "        vertical-align: top;\n",
       "    }\n",
       "\n",
       "    .dataframe thead tr th {\n",
       "        text-align: left;\n",
       "    }\n",
       "\n",
       "    .dataframe thead tr:last-of-type th {\n",
       "        text-align: right;\n",
       "    }\n",
       "</style>\n",
       "<table border=\"1\" class=\"dataframe\">\n",
       "  <thead>\n",
       "    <tr>\n",
       "      <th></th>\n",
       "      <th colspan=\"3\" halign=\"left\">SalePrice</th>\n",
       "    </tr>\n",
       "    <tr>\n",
       "      <th></th>\n",
       "      <th>count</th>\n",
       "      <th>mean</th>\n",
       "      <th>std</th>\n",
       "    </tr>\n",
       "    <tr>\n",
       "      <th>BsmtExposure</th>\n",
       "      <th></th>\n",
       "      <th></th>\n",
       "      <th></th>\n",
       "    </tr>\n",
       "  </thead>\n",
       "  <tbody>\n",
       "    <tr>\n",
       "      <th>None</th>\n",
       "      <td>38</td>\n",
       "      <td>107938.342105</td>\n",
       "      <td>32133.440664</td>\n",
       "    </tr>\n",
       "    <tr>\n",
       "      <th>No</th>\n",
       "      <td>953</td>\n",
       "      <td>165652.295908</td>\n",
       "      <td>60695.724915</td>\n",
       "    </tr>\n",
       "    <tr>\n",
       "      <th>Mn</th>\n",
       "      <td>114</td>\n",
       "      <td>192789.657895</td>\n",
       "      <td>77335.442652</td>\n",
       "    </tr>\n",
       "    <tr>\n",
       "      <th>Av</th>\n",
       "      <td>221</td>\n",
       "      <td>206643.420814</td>\n",
       "      <td>88655.504849</td>\n",
       "    </tr>\n",
       "    <tr>\n",
       "      <th>Gd</th>\n",
       "      <td>134</td>\n",
       "      <td>257689.805970</td>\n",
       "      <td>118923.672583</td>\n",
       "    </tr>\n",
       "  </tbody>\n",
       "</table>\n",
       "</div>"
      ],
      "text/plain": [
       "             SalePrice                              \n",
       "                 count           mean            std\n",
       "BsmtExposure                                        \n",
       "None                38  107938.342105   32133.440664\n",
       "No                 953  165652.295908   60695.724915\n",
       "Mn                 114  192789.657895   77335.442652\n",
       "Av                 221  206643.420814   88655.504849\n",
       "Gd                 134  257689.805970  118923.672583"
      ]
     },
     "execution_count": 91,
     "metadata": {},
     "output_type": "execute_result"
    }
   ],
   "source": [
    "housing_research_df[['SalePrice', 'BsmtExposure']].groupby('BsmtExposure').agg(['count', np.mean, np.std]).sort_values(('SalePrice','mean'))"
   ]
  },
  {
   "cell_type": "markdown",
   "metadata": {},
   "source": [
    "# Clustering"
   ]
  },
  {
   "cell_type": "code",
   "execution_count": 126,
   "metadata": {},
   "outputs": [
    {
     "data": {
      "text/plain": [
       "MeanShift(bandwidth=22.540287919998878, bin_seeding=True, cluster_all=True,\n",
       "          min_bin_freq=1, n_jobs=None, seeds=None)"
      ]
     },
     "execution_count": 126,
     "metadata": {},
     "output_type": "execute_result"
    }
   ],
   "source": [
    "from sklearn.cluster import MeanShift, estimate_bandwidth\n",
    "\n",
    "clustering_df = housing_research_df[['TotalArea', 'NeighborhoodCat', 'YearBuilt5D', 'OverallQual']]\n",
    "clustering_df['TotalArea'] = clustering_df['TotalArea'] / 100.0\n",
    "X = clustering_df.values\n",
    "# The following bandwidth can be automatically detected using\n",
    "bandwidth = estimate_bandwidth(X, quantile=0.2, n_samples=len(clustering_df))\n",
    "\n",
    "ms = MeanShift(bandwidth=bandwidth, bin_seeding=True)\n",
    "ms.fit(X)"
   ]
  },
  {
   "cell_type": "code",
   "execution_count": 93,
   "metadata": {},
   "outputs": [
    {
     "name": "stdout",
     "output_type": "stream",
     "text": [
      "number of estimated clusters : 6\n"
     ]
    }
   ],
   "source": [
    "labels = ms.labels_\n",
    "cluster_centers = ms.cluster_centers_\n",
    "\n",
    "labels_unique = np.unique(labels)\n",
    "n_clusters_ = len(labels_unique)\n",
    "\n",
    "print(\"number of estimated clusters : %d\" % n_clusters_)"
   ]
  },
  {
   "cell_type": "code",
   "execution_count": 102,
   "metadata": {},
   "outputs": [
    {
     "data": {
      "text/plain": [
       "1"
      ]
     },
     "execution_count": 102,
     "metadata": {},
     "output_type": "execute_result"
    }
   ],
   "source": [
    "(labels == 5).sum()"
   ]
  },
  {
   "cell_type": "code",
   "execution_count": 144,
   "metadata": {},
   "outputs": [],
   "source": [
    "from sklearn.cluster import KMeans\n",
    "\n",
    "kmeans = KMeans(init='k-means++', n_clusters=50, n_init=10)\n",
    "km = kmeans.fit(X)\n",
    "\n",
    "labels = km.labels_\n",
    "labels_unique = np.unique(labels)\n",
    "n_clusters_ = len(labels_unique)"
   ]
  },
  {
   "cell_type": "code",
   "execution_count": 151,
   "metadata": {},
   "outputs": [],
   "source": [
    "def add_rmean_prices(df, labels, print_stat=False):\n",
    "    df['KMeanPrice'] = np.nan\n",
    "    labels_unique = np.unique(labels)\n",
    "    n_clusters = len(labels_unique)\n",
    "    prices = [0]*n_clusters\n",
    "    for i in range(n_clusters):\n",
    "        stat = df['SalePrice'][(labels == i)].agg(['count', np.mean, np.std])\n",
    "        df['KMeanPrice'][(labels == i)] = stat['mean']\n",
    "        prices[i] = stat['mean']\n",
    "        if print_stat:\n",
    "            print('label = {0}, std = {1}, count = {2}, mean = {3}'.format(i, stat['std'], stat['count'], stat['mean']))\n",
    "    return prices"
   ]
  },
  {
   "cell_type": "code",
   "execution_count": null,
   "metadata": {},
   "outputs": [],
   "source": [
    "add_rmean_prices(housing_research_df, labels)"
   ]
  },
  {
   "cell_type": "code",
   "execution_count": 131,
   "metadata": {},
   "outputs": [
    {
     "data": {
      "text/plain": [
       "0.17482416805991732"
      ]
     },
     "execution_count": 131,
     "metadata": {},
     "output_type": "execute_result"
    }
   ],
   "source": [
    "def rmsle_(y, y0, **kwargs):\n",
    "    assert(len(y) == len(y0))\n",
    "    return np.sqrt(np.mean(np.square(np.log1p(y) - np.log1p(y0))))\n",
    "\n",
    "rmsle_(housing_research_df['KMeanPrice'].values, housing_research_df['SalePrice'].values)\n"
   ]
  },
  {
   "cell_type": "code",
   "execution_count": 157,
   "metadata": {},
   "outputs": [
    {
     "data": {
      "text/plain": [
       "0.18132581670142178"
      ]
     },
     "execution_count": 157,
     "metadata": {},
     "output_type": "execute_result"
    }
   ],
   "source": [
    "from sklearn.model_selection import train_test_split\n",
    "\n",
    "km_columns = ['TotalArea', 'NeighborhoodCat', 'YearBuilt5D', 'OverallQual']\n",
    "\n",
    "def prepare_kmean_df(df):\n",
    "    df['TotalArea'] = df['TotalArea'] / 100.0\n",
    "\n",
    "def estimate_kmean_regressor(df, columns, prepare_func=prepare_kmean_df, test_size=0.3):\n",
    "    km_train_df, km_test_df = train_test_split(df, test_size=test_size, random_state=42)\n",
    "    clustering_train_df = km_train_df[columns]\n",
    "    prepare_kmean_df(clustering_train_df)\n",
    "\n",
    "    kmeans = KMeans(init='k-means++', n_clusters=50, n_init=10)\n",
    "    km = kmeans.fit(clustering_train_df.values)\n",
    "\n",
    "    km_prices = add_rmean_prices(km_train_df, km.labels_)\n",
    "    \n",
    "    clustering_test_df = km_test_df[columns]\n",
    "    prepare_kmean_df(clustering_test_df)\n",
    "\n",
    "    res = km.predict(clustering_test_df.values)\n",
    "    \n",
    "    km_predict_prices = np.zeros(len(km_test_df))\n",
    "    for i in range(len(km_predict_prices)):\n",
    "        km_predict_prices[i] = km_prices[res[i]]\n",
    "    return rmsle_(km_predict_prices, km_test_df['SalePrice'].values)\n",
    "\n",
    "estimate_kmean_regressor(housing_research_df, km_columns)"
   ]
  },
  {
   "cell_type": "code",
   "execution_count": 165,
   "metadata": {},
   "outputs": [
    {
     "data": {
      "text/plain": [
       "0.18154803840576397"
      ]
     },
     "execution_count": 165,
     "metadata": {},
     "output_type": "execute_result"
    }
   ],
   "source": [
    "def prepare_kmean_df2(df):\n",
    "    df['TotalArea'] = df['TotalArea'] / 100.0\n",
    "\n",
    "km_columns2 = ['TotalArea', 'NeighborhoodCat', 'YearBuilt5D', 'OverallQual', 'GarageCars']\n",
    "estimate_kmean_regressor(housing_research_df, km_columns2, test_size=0.3, prepare_func=prepare_kmean_df2)"
   ]
  },
  {
   "cell_type": "markdown",
   "metadata": {},
   "source": [
    "## Classification on price categories"
   ]
  },
  {
   "cell_type": "markdown",
   "metadata": {},
   "source": [
    "### 2*std data frame"
   ]
  },
  {
   "cell_type": "code",
   "execution_count": 603,
   "metadata": {},
   "outputs": [],
   "source": [
    "prices = housing_research_df['SalePrice']\n",
    "housing_research_2std_df = housing_research_df[((prices - prices.mean()) / prices.std()).abs() < 2]"
   ]
  },
  {
   "cell_type": "markdown",
   "metadata": {},
   "source": [
    "## Error estimation"
   ]
  },
  {
   "cell_type": "code",
   "execution_count": 297,
   "metadata": {},
   "outputs": [
    {
     "data": {
      "text/plain": [
       "0.22750071386912388"
      ]
     },
     "execution_count": 297,
     "metadata": {},
     "output_type": "execute_result"
    }
   ],
   "source": [
    "mean_price = housing_research_df['SalePrice'].mean()\n",
    "mean_prices = np.zeros(housing_research_df['SalePrice'].count(), dtype=np.float)\n",
    "mean_prices = mean_prices + mean_price\n",
    "\n",
    "np.random.seed(42)\n",
    "\n",
    "def calc_rmsle_of_normal_error(prices, error_mean, error_std):\n",
    "    num = len(prices)\n",
    "    s = np.random.normal(error_mean, error_std, num)\n",
    "    s = prices + s\n",
    "    s[s < 0.0] = 0.0\n",
    "    return np.sqrt(np.mean(np.square(np.log1p(prices) - np.log1p(s))))\n",
    "\n",
    "mean_price = housing_research_df['SalePrice'].mean()\n",
    "real_prices = housing_research_df['SalePrice'].values\n",
    "calc_rmsle_of_normal_error(real_prices, 0.0, 26850.0)"
   ]
  },
  {
   "cell_type": "code",
   "execution_count": 305,
   "metadata": {},
   "outputs": [
    {
     "data": {
      "image/png": "[encoded data removed]",
      "text/plain": [
       "<Figure size 432x288 with 1 Axes>"
      ]
     },
     "metadata": {
      "needs_background": "light"
     },
     "output_type": "display_data"
    }
   ],
   "source": [
    "sigma = 26850.0\n",
    "submission1_err_norm = np.random.normal(0.0, sigma, len(real_prices))\n",
    "count, bins, ignored = plt.hist(submission1_err_norm, 30, density=True)\n",
    "plt.plot(bins, 1/(sigma * np.sqrt(2 * np.pi)) *\n",
    "    np.exp( - (bins - 0.0)**2 / (2 * sigma**2) ),\n",
    "    linewidth=2, color='r')\n",
    "plt.show()"
   ]
  },
  {
   "cell_type": "markdown",
   "metadata": {},
   "source": [
    "## Correlation"
   ]
  },
  {
   "cell_type": "code",
   "execution_count": 604,
   "metadata": {},
   "outputs": [],
   "source": [
    "corr_matrix_research = housing_research_2std_df.corr()\n",
    "corr_res = corr_matrix_research['SalePrice'].abs().sort_values(ascending=False)"
   ]
  },
  {
   "cell_type": "code",
   "execution_count": 605,
   "metadata": {},
   "outputs": [
    {
     "data": {
      "text/plain": [
       "SalePrice            1.000000\n",
       "OverallQual          0.783845\n",
       "OverallQualFixed     0.782780\n",
       "NeighborhoodCat      0.709348\n",
       "TotalArea            0.708954\n",
       "GrLivArea            0.658776\n",
       "GarageCars           0.628007\n",
       "GarageArea           0.605193\n",
       "YearBuilt3D          0.603397\n",
       "YearBuilt2D          0.595893\n",
       "FullBath             0.575091\n",
       "YearBuilt            0.564087\n",
       "YearBuilt5D          0.563211\n",
       "MSSubClassCat        0.550566\n",
       "TotalBsmtSF          0.543039\n",
       "YearRemodAdd         0.541174\n",
       "GrLivAreaPerRoom     0.537061\n",
       "1stFlrSF             0.522614\n",
       "YearRemodAdd4D       0.505168\n",
       "PricePerGrLivArea    0.484648\n",
       "TotRmsAbvGrd         0.472401\n",
       "Fireplaces           0.453116\n",
       "PricePerTotalArea    0.380599\n",
       "MasVnrTypeCat        0.370860\n",
       "MasVnrArea           0.347531\n",
       "OpenPorchSF          0.320799\n",
       "2ndFlrSF             0.313211\n",
       "WoodDeckSF           0.304571\n",
       "BsmtExposureCat      0.303411\n",
       "LotFrontage          0.295823\n",
       "BsmtFinSF1           0.292534\n",
       "HalfBath             0.279628\n",
       "LotArea              0.249519\n",
       "BsmtUnfSF            0.219927\n",
       "BsmtFullBath         0.202807\n",
       "BedroomAbvGr         0.199683\n",
       "KitchenAbvGr         0.147372\n",
       "EnclosedPorch        0.144366\n",
       "ScreenPorch          0.110607\n",
       "MoSold               0.067667\n",
       "MSSubClass           0.060710\n",
       "LowQualFinSF         0.057935\n",
       "PoolArea             0.049239\n",
       "OverallCond          0.046116\n",
       "3SsnPorch            0.044049\n",
       "YrSold               0.028986\n",
       "BsmtHalfBath         0.017935\n",
       "Id                   0.013678\n",
       "MiscVal              0.012578\n",
       "BsmtFinSF2           0.008403\n",
       "Name: SalePrice, dtype: float64"
      ]
     },
     "execution_count": 605,
     "metadata": {},
     "output_type": "execute_result"
    }
   ],
   "source": [
    "corr_res"
   ]
  },
  {
   "cell_type": "markdown",
   "metadata": {},
   "source": [
    "## OHE mapper"
   ]
  },
  {
   "cell_type": "code",
   "execution_count": 17,
   "metadata": {},
   "outputs": [],
   "source": [
    "from sklearn.preprocessing import OneHotEncoder, StandardScaler\n",
    "\n",
    "cat_attribs = list(housing_wo_na_df.select_dtypes(['object']).columns)\n",
    "cat_attribs_2d = [[a] for a in cat_attribs]\n",
    "\n",
    "cat_attribs_feature_def = gen_features(\n",
    "    columns=cat_attribs_2d,\n",
    "    classes=[{'class': OneHotEncoder, 'sparse': False}]\n",
    ")\n",
    "\n",
    "cat_mapper = DataFrameMapper(cat_attribs_feature_def, df_out=True, default=None)\n"
   ]
  },
  {
   "cell_type": "markdown",
   "metadata": {},
   "source": [
    "### Train OHE transform"
   ]
  },
  {
   "cell_type": "code",
   "execution_count": 18,
   "metadata": {},
   "outputs": [],
   "source": [
    "housing_ohe_df = cat_mapper.fit_transform(housing_wo_na_df)\n",
    "# housing_ohe_df.columns"
   ]
  },
  {
   "cell_type": "markdown",
   "metadata": {},
   "source": [
    "### Test OHE transform"
   ]
  },
  {
   "cell_type": "code",
   "execution_count": 19,
   "metadata": {},
   "outputs": [],
   "source": [
    "housing_test_ohe_df = cat_mapper.fit_transform(housing_test_wo_na_df)"
   ]
  },
  {
   "cell_type": "markdown",
   "metadata": {},
   "source": [
    "## Train data scaling and normalization"
   ]
  },
  {
   "cell_type": "code",
   "execution_count": 321,
   "metadata": {},
   "outputs": [],
   "source": [
    "from sklearn.preprocessing import StandardScaler\n",
    "\n",
    "train_numeric_columns = list(set(housing_train.select_dtypes(include=[np.number]).columns) & set(housing_ohe_df.columns))\n",
    "train_numeric_columns_2d = [[a] for a in train_numeric_columns]\n",
    "train_numeric_feature_def = gen_features(\n",
    "    columns=train_numeric_columns_2d,\n",
    "    classes=[{'class': StandardScaler}]\n",
    ")\n",
    "\n",
    "num_mapper = DataFrameMapper(train_numeric_feature_def, df_out=True, default=None)\n",
    "train_scaled_df = num_mapper.fit_transform(housing_ohe_df)\n",
    "# tran_scaled_df"
   ]
  },
  {
   "cell_type": "markdown",
   "metadata": {},
   "source": [
    "## Test data scaling and normalization"
   ]
  },
  {
   "cell_type": "code",
   "execution_count": 322,
   "metadata": {},
   "outputs": [],
   "source": [
    "test_numeric_columns = list(set(housing_test.select_dtypes(include=[np.number]).columns) & set(housing_test_ohe_df.columns))\n",
    "test_numeric_columns_2d = [[a] for a in test_numeric_columns]\n",
    "test_numeric_feature_def = gen_features(\n",
    "    columns=test_numeric_columns_2d,\n",
    "    classes=[{'class': StandardScaler}]\n",
    ")\n",
    "\n",
    "test_num_mapper = DataFrameMapper(test_numeric_feature_def, df_out=True, default=None)\n",
    "test_scaled_df = test_num_mapper.fit_transform(housing_test_ohe_df)\n",
    "# tran_scaled_df"
   ]
  },
  {
   "cell_type": "markdown",
   "metadata": {},
   "source": [
    "## Selecting by correlation"
   ]
  },
  {
   "cell_type": "code",
   "execution_count": 427,
   "metadata": {},
   "outputs": [],
   "source": [
    "def select_columns_by_corr(df, y, threshold=0.2):\n",
    "    df_and_y = df.copy()\n",
    "    df_and_y['SalePrice'] = housing_y\n",
    "\n",
    "    corr_matrix = df_and_y.corr()\n",
    "    corr_res = corr_matrix['SalePrice'].abs().sort_values(ascending=False)\n",
    "    columns = corr_res.index[corr_res.values>threshold].values\n",
    "    return df_and_y[np.delete(columns, columns == 'SalePrice')]\n",
    "\n",
    "\n",
    "housing_train_corr_sel_df = select_columns_by_corr(train_scaled_df, housing_y, 0.3)\n",
    "housing_train_x = housing_train_corr_sel_df.copy()\n",
    "housing_train_y = housing_y\n",
    "\n",
    "housing_train_corr_sel_df['SalePrice'] = housing_y\n",
    "# housing_train_x\n",
    "#     features = \n",
    "# housing_prepared_corr = housing_prepared_df_and_y[features]\n",
    "# housing_train_x = housing_prepared_df_and_y[features].drop(columns=['SalePrice'])\n",
    "# housing_train_y = housing_prepared_df_and_y['SalePrice']\n",
    "# housing_data_x.info()\n",
    "# corr_res"
   ]
  },
  {
   "cell_type": "code",
   "execution_count": 481,
   "metadata": {},
   "outputs": [
    {
     "data": {
      "text/plain": [
       "Index(['GrLivArea', 'GarageCars', 'GarageArea', 'TotalBsmtSF', '1stFlrSF',\n",
       "       'ExterQual_x0_TA', 'FullBath', 'BsmtQual_x0_Ex', 'TotRmsAbvGrd',\n",
       "       'YearBuilt', 'KitchenQual_x0_TA', 'YearRemodAdd', 'KitchenQual_x0_Ex',\n",
       "       'Foundation_x0_PConc', 'MasVnrArea', 'FireplaceQu_x0_None',\n",
       "       'Fireplaces', 'ExterQual_x0_Gd', 'BsmtQual_x0_TA', 'ExterQual_x0_Ex',\n",
       "       'BsmtFinType1_x0_GLQ', 'HeatingQC_x0_Ex', 'GarageFinish_x0_Fin',\n",
       "       'GarageFinish_x0_Unf', 'Neighborhood_x0_NridgHt', 'BsmtFinSF1',\n",
       "       'MasVnrType_x0_None', 'SaleType_x0_New', 'GarageType_x0_Detchd',\n",
       "       'SaleCondition_x0_Partial', 'Foundation_x0_CBlock', 'FireplaceQu_x0_Gd',\n",
       "       'GarageType_x0_Attchd', 'LotFrontage', 'MasVnrType_x0_Stone',\n",
       "       'Neighborhood_x0_NoRidge', 'WoodDeckSF', 'KitchenQual_x0_Gd',\n",
       "       '2ndFlrSF', 'OpenPorchSF', 'HeatingQC_x0_TA', 'BsmtExposure_x0_Gd',\n",
       "       'Exterior2nd_x0_VinylSd', 'Exterior1st_x0_VinylSd'],\n",
       "      dtype='object')"
      ]
     },
     "execution_count": 481,
     "metadata": {},
     "output_type": "execute_result"
    }
   ],
   "source": [
    "housing_train_x.columns"
   ]
  },
  {
   "cell_type": "code",
   "execution_count": 487,
   "metadata": {},
   "outputs": [
    {
     "data": {
      "text/plain": [
       "121"
      ]
     },
     "execution_count": 487,
     "metadata": {},
     "output_type": "execute_result"
    }
   ],
   "source": [
    "housing_wo_na_df[(housing_wo_na_df['BsmtQual'] == 'Ex')].Id.count()"
   ]
  },
  {
   "cell_type": "markdown",
   "metadata": {},
   "source": [
    "## RMSLE"
   ]
  },
  {
   "cell_type": "code",
   "execution_count": 63,
   "metadata": {},
   "outputs": [],
   "source": [
    "# https://stackoverflow.com/a/47623068/3663499\n",
    "# https://www.kaggle.com/jpopham91/rmlse-vectorized\n",
    "def rmsle(y, y0, **kwargs):\n",
    "    assert(len(y) == len(y0))\n",
    "    return np.sqrt(np.mean(np.square(np.log1p(y) - np.log1p(y0))))"
   ]
  },
  {
   "cell_type": "markdown",
   "metadata": {},
   "source": [
    "## First simple model for first glance"
   ]
  },
  {
   "cell_type": "code",
   "execution_count": 428,
   "metadata": {},
   "outputs": [],
   "source": [
    "X = housing_train_x.values\n",
    "y = housing_train_y.values"
   ]
  },
  {
   "cell_type": "code",
   "execution_count": 429,
   "metadata": {},
   "outputs": [
    {
     "name": "stdout",
     "output_type": "stream",
     "text": [
      "0.22451736092851982\n"
     ]
    }
   ],
   "source": [
    "from sklearn.tree import DecisionTreeRegressor\n",
    "from sklearn.model_selection import cross_val_score\n",
    "from sklearn.metrics import make_scorer\n",
    "import numpy as np\n",
    "\n",
    "tree_reg = DecisionTreeRegressor()\n",
    "rmsle_scorer = make_scorer(rmsle)\n",
    "\n",
    "scores = cross_val_score(tree_reg, X, y,\n",
    "                         scoring=rmsle_scorer, cv=10)\n",
    "print(np.mean(scores))"
   ]
  },
  {
   "cell_type": "markdown",
   "metadata": {},
   "source": [
    "## Checking on random test set"
   ]
  },
  {
   "cell_type": "code",
   "execution_count": 425,
   "metadata": {},
   "outputs": [
    {
     "data": {
      "text/plain": [
       "0.23442217062094553"
      ]
     },
     "execution_count": 425,
     "metadata": {},
     "output_type": "execute_result"
    }
   ],
   "source": [
    "def check_model_test(model, train_set, size, rnd_state=42):\n",
    "    train_df, test_df = train_test_split(train_set, test_size=size, random_state=rnd_state)\n",
    "    test_x = test_df.drop(columns=['SalePrice'])\n",
    "    X =  train_df.drop(columns=['SalePrice'])\n",
    "    y = train_df['SalePrice']\n",
    "    \n",
    "    model.fit(X, y)\n",
    "    return (model.predict(test_x), test_df['SalePrice'])\n",
    "\n",
    "temp_model = DecisionTreeRegressor()\n",
    "pred_prices, prices = check_model_test(temp_model, housing_train_corr_sel_df, 0.3)\n",
    "# pred_prices\n",
    "rmsle(pred_prices, prices)"
   ]
  },
  {
   "cell_type": "code",
   "execution_count": null,
   "metadata": {},
   "outputs": [],
   "source": []
  },
  {
   "cell_type": "code",
   "execution_count": 353,
   "metadata": {},
   "outputs": [
    {
     "data": {
      "image/png": "[encoded data removed]",
      "text/plain": [
       "<Figure size 432x288 with 1 Axes>"
      ]
     },
     "metadata": {
      "needs_background": "light"
     },
     "output_type": "display_data"
    }
   ],
   "source": [
    "errors = prices - pred_prices\n",
    "count, bins, ignored = plt.hist(errors, 30, density=True)\n",
    "plt.show()"
   ]
  },
  {
   "cell_type": "code",
   "execution_count": 348,
   "metadata": {},
   "outputs": [],
   "source": [
    "def print_mean_and_std(data):\n",
    "    print('mean = {0}, std = {1}'.format(data.mean(), data.std()))"
   ]
  },
  {
   "cell_type": "code",
   "execution_count": 349,
   "metadata": {},
   "outputs": [
    {
     "name": "stdout",
     "output_type": "stream",
     "text": [
      "mean = 1427.052511415525, std = 40605.502355830045\n"
     ]
    }
   ],
   "source": [
    "print_mean_and_std(errors)"
   ]
  },
  {
   "cell_type": "code",
   "execution_count": 350,
   "metadata": {},
   "outputs": [
    {
     "data": {
      "text/plain": [
       "0.2828224882093645"
      ]
     },
     "execution_count": 350,
     "metadata": {},
     "output_type": "execute_result"
    }
   ],
   "source": [
    "calc_rmsle_of_normal_error(prices, 1427.0, 40605.5)"
   ]
  },
  {
   "cell_type": "code",
   "execution_count": 354,
   "metadata": {},
   "outputs": [
    {
     "data": {
      "image/png": "[encoded data removed]",
      "text/plain": [
       "<Figure size 432x288 with 1 Axes>"
      ]
     },
     "metadata": {
      "needs_background": "light"
     },
     "output_type": "display_data"
    }
   ],
   "source": [
    "mo = 1427.0\n",
    "sigma = 40605.5\n",
    "errors = prices - pred_prices\n",
    "count, bins, ignored = plt.hist(errors, 30, density=True)\n",
    "plt.plot(bins, 1/(sigma * np.sqrt(2 * np.pi)) *\n",
    "    np.exp( - (bins - mo)**2 / (2 * sigma**2) ),\n",
    "    linewidth=2, color='r')\n",
    "plt.show()"
   ]
  },
  {
   "cell_type": "markdown",
   "metadata": {},
   "source": [
    "### Overfitted model"
   ]
  },
  {
   "cell_type": "code",
   "execution_count": 426,
   "metadata": {},
   "outputs": [
    {
     "data": {
      "text/plain": [
       "0.15200031538457176"
      ]
     },
     "execution_count": 426,
     "metadata": {},
     "output_type": "execute_result"
    }
   ],
   "source": [
    "forest_reg_best = RandomForestRegressor(bootstrap=False, n_estimators=50, max_features=8)\n",
    "pred_prices, prices = check_model_test(forest_reg_best, housing_train_corr_sel_df, 0.3, 312)\n",
    "# pred_prices\n",
    "rmsle(pred_prices, prices)"
   ]
  },
  {
   "cell_type": "markdown",
   "metadata": {},
   "source": [
    "### Test data preparation\n",
    "We keep only columns with good correlation"
   ]
  },
  {
   "cell_type": "code",
   "execution_count": 372,
   "metadata": {},
   "outputs": [],
   "source": [
    "housing_test_X = test_scaled_df[housing_train_x.columns].values"
   ]
  },
  {
   "cell_type": "markdown",
   "metadata": {},
   "source": [
    "### Predict on test data"
   ]
  },
  {
   "cell_type": "code",
   "execution_count": 375,
   "metadata": {},
   "outputs": [],
   "source": [
    "tree_reg_first_model = DecisionTreeRegressor()\n",
    "\n",
    "tree_reg_first_model = tree_reg_first_model.fit(X, y)\n",
    "first_predict_prices = tree_reg_first_model.predict(housing_test_X)"
   ]
  },
  {
   "cell_type": "markdown",
   "metadata": {},
   "source": [
    "### Saving of result"
   ]
  },
  {
   "cell_type": "code",
   "execution_count": 75,
   "metadata": {},
   "outputs": [],
   "source": [
    "def save_submission(full_df, y, suffix):\n",
    "    submission_df = pd.DataFrame({'Id': full_df.Id, 'SalePrice': y})\n",
    "    \n",
    "    core_path = os.environ['GITHUB_PATH']\n",
    "    file_path = 'education/kaggle/house-prices-advanced-regression-techniques/submission_{0}.csv'.format(suffix)\n",
    "    submission_file_path = os.path.join(core_path, file_path)\n",
    "    submission_df.to_csv(submission_file_path, index=False)\n",
    "    \n",
    "save_submission(housing_test, first_predict_prices, '1')"
   ]
  },
  {
   "cell_type": "markdown",
   "metadata": {},
   "source": [
    "## Kaggle first result and thoughts about it"
   ]
  },
  {
   "cell_type": "markdown",
   "metadata": {},
   "source": [
    "0.22733\n",
    "place in leadership is 4150 of 4744\n",
    "Not good...\n",
    "\n",
    "Cross-correlation shown 0.20275, so it looks like the model is overfitted a bit.\n",
    "So now need to read books, prepare data well and select best model locally on train data first, then make second attempt to send results...\n"
   ]
  },
  {
   "cell_type": "markdown",
   "metadata": {},
   "source": [
    "# Features engineering"
   ]
  },
  {
   "cell_type": "code",
   "execution_count": 30,
   "metadata": {},
   "outputs": [],
   "source": [
    "# bathrooms_diff = housing['FullBath'] - housing['YearBuilt']\n",
    "# years_diff = years_diff[years_diff.notna()].abs()\n",
    "# print('Years diff mean = {:.2f}, std = {:.2f}'.format(years_diff.mean(), years_diff.std()))"
   ]
  },
  {
   "cell_type": "code",
   "execution_count": null,
   "metadata": {},
   "outputs": [],
   "source": [
    "# housing_wo_na[\"YrSold\"].value_counts()"
   ]
  },
  {
   "cell_type": "code",
   "execution_count": null,
   "metadata": {},
   "outputs": [],
   "source": [
    "# housing_wo_na_tmp = housing_wo_na.drop('SalePrice').copy()\n",
    "# housing_lables = housing_wo_na_tmp['SalePrice'].copy()"
   ]
  },
  {
   "cell_type": "markdown",
   "metadata": {},
   "source": [
    "# Model selection"
   ]
  },
  {
   "cell_type": "code",
   "execution_count": null,
   "metadata": {},
   "outputs": [],
   "source": [
    "from sklearn.model_selection import GridSearchCV\n",
    "from sklearn.ensemble import RandomForestRegressor\n",
    "\n",
    "param_grid = [\n",
    "#     {'n_estimators': [30,40,50], 'max_features': [6,8,10]},\n",
    "    {'bootstrap': [False], 'n_estimators': [50], 'max_features': [6,8,10,12]},\n",
    "]\n",
    "\n",
    "forest_reg = RandomForestRegressor()\n",
    "grid_search = GridSearchCV(forest_reg, param_grid, cv=5, scoring=rmsle_scorer)\n",
    "grid_search.fit(X, y)"
   ]
  },
  {
   "cell_type": "code",
   "execution_count": 72,
   "metadata": {},
   "outputs": [
    {
     "name": "stdout",
     "output_type": "stream",
     "text": [
      "0.14757181774326752 {'bootstrap': False, 'max_features': 6, 'n_estimators': 50}\n",
      "0.14451513277132566 {'bootstrap': False, 'max_features': 8, 'n_estimators': 50}\n",
      "0.14538881234563808 {'bootstrap': False, 'max_features': 10, 'n_estimators': 50}\n",
      "0.14520431382664228 {'bootstrap': False, 'max_features': 12, 'n_estimators': 50}\n"
     ]
    }
   ],
   "source": [
    "cvres = grid_search.cv_results_\n",
    "for mean_score, params in zip(cvres['mean_test_score'], cvres['params']):\n",
    "    print(mean_score, params)"
   ]
  },
  {
   "cell_type": "code",
   "execution_count": 70,
   "metadata": {},
   "outputs": [
    {
     "data": {
      "text/plain": [
       "{'max_features': 6, 'n_estimators': 30}"
      ]
     },
     "execution_count": 70,
     "metadata": {},
     "output_type": "execute_result"
    }
   ],
   "source": [
    "grid_search.best_params_"
   ]
  },
  {
   "cell_type": "markdown",
   "metadata": {},
   "source": [
    "## Checking by cross-correlation"
   ]
  },
  {
   "cell_type": "code",
   "execution_count": 377,
   "metadata": {},
   "outputs": [
    {
     "name": "stdout",
     "output_type": "stream",
     "text": [
      "0.15554993136276923\n"
     ]
    }
   ],
   "source": [
    "from sklearn.model_selection import train_test_split\n",
    "\n",
    "random_train_set, random_test_set = train_test_split(housing_train_corr_sel_df, test_size=0.3, random_state=42)\n",
    "\n",
    "housing_temp_x = random_train_set.drop(columns=['SalePrice']).values\n",
    "housing_temp_y = random_train_set['SalePrice'].values\n",
    "\n",
    "# housing_prepared_corr\n",
    "\n",
    "forest_reg = RandomForestRegressor(bootstrap=False, n_estimators=50, max_features=8)\n",
    "scores = cross_val_score(forest_reg, housing_temp_x, housing_temp_y,\n",
    "                         scoring=rmsle_scorer, cv=10)\n",
    "print(np.mean(scores))"
   ]
  },
  {
   "cell_type": "markdown",
   "metadata": {},
   "source": [
    "## Second kaggle sending"
   ]
  },
  {
   "cell_type": "code",
   "execution_count": 378,
   "metadata": {},
   "outputs": [],
   "source": [
    "forest_reg_best = RandomForestRegressor(bootstrap=False, n_estimators=50, max_features=8)\n",
    "\n",
    "forest_reg_model = forest_reg_best.fit(X, y)\n",
    "forest_reg_predict_prices = forest_reg_model.predict(housing_test_X)\n",
    "\n",
    "save_submission(housing_test, forest_reg_predict_prices, 'forest_reg2')"
   ]
  },
  {
   "cell_type": "markdown",
   "metadata": {},
   "source": [
    "It's better - 0.16, 3363 place on the leadership"
   ]
  }
 ],
 "metadata": {
  "kernelspec": {
   "display_name": "Python 3",
   "language": "python",
   "name": "python3"
  },
  "language_info": {
   "codemirror_mode": {
    "name": "ipython",
    "version": 3
   },
   "file_extension": ".py",
   "mimetype": "text/x-python",
   "name": "python",
   "nbconvert_exporter": "python",
   "pygments_lexer": "ipython3",
   "version": "3.6.8"
  }
 },
 "nbformat": 4,
 "nbformat_minor": 2
}
